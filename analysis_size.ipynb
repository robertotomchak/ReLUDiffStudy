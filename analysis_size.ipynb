{
 "cells": [
  {
   "cell_type": "code",
   "execution_count": 27,
   "metadata": {},
   "outputs": [],
   "source": [
    "import pandas as pd\n",
    "import seaborn as sns\n",
    "import matplotlib.pyplot as plt\n",
    "import numpy as np\n",
    "import torch.nn as nn"
   ]
  },
  {
   "cell_type": "code",
   "execution_count": 28,
   "metadata": {},
   "outputs": [],
   "source": [
    "df_original = pd.read_csv(\"results/hochuli/count.csv\")\n",
    "df_double = pd.read_csv(\"results/hochuli_double/count.csv\")\n",
    "df_deep = pd.read_csv(\"results/hochuli_deep/count.csv\")\n",
    "df_mobilenet = pd.read_csv(\"results/mobilenet/count.csv\")"
   ]
  },
  {
   "cell_type": "code",
   "execution_count": 29,
   "metadata": {},
   "outputs": [],
   "source": [
    "# fazendo a média por execução (cada época aparece num_execucoes)\n",
    "df_original = df_original.groupby(\"epoch\").mean()\n",
    "df_double = df_double.groupby(\"epoch\").mean()\n",
    "df_deep = df_deep.groupby(\"epoch\").mean()\n",
    "df_mobilenet = df_mobilenet.groupby(\"epoch\").mean()"
   ]
  },
  {
   "cell_type": "code",
   "execution_count": 30,
   "metadata": {},
   "outputs": [
    {
     "data": {
      "text/html": [
       "<div>\n",
       "<style scoped>\n",
       "    .dataframe tbody tr th:only-of-type {\n",
       "        vertical-align: middle;\n",
       "    }\n",
       "\n",
       "    .dataframe tbody tr th {\n",
       "        vertical-align: top;\n",
       "    }\n",
       "\n",
       "    .dataframe thead th {\n",
       "        text-align: right;\n",
       "    }\n",
       "</style>\n",
       "<table border=\"1\" class=\"dataframe\">\n",
       "  <thead>\n",
       "    <tr style=\"text-align: right;\">\n",
       "      <th></th>\n",
       "      <th>execution</th>\n",
       "      <th>train_loss</th>\n",
       "      <th>val_loss</th>\n",
       "      <th>val_acc</th>\n",
       "      <th>time</th>\n",
       "      <th>zero_relu_call</th>\n",
       "      <th>total_relu_call</th>\n",
       "    </tr>\n",
       "    <tr>\n",
       "      <th>epoch</th>\n",
       "      <th></th>\n",
       "      <th></th>\n",
       "      <th></th>\n",
       "      <th></th>\n",
       "      <th></th>\n",
       "      <th></th>\n",
       "      <th></th>\n",
       "    </tr>\n",
       "  </thead>\n",
       "  <tbody>\n",
       "    <tr>\n",
       "      <th>-1</th>\n",
       "      <td>3.0</td>\n",
       "      <td>NaN</td>\n",
       "      <td>0.333169</td>\n",
       "      <td>0.882420</td>\n",
       "      <td>1.729141</td>\n",
       "      <td>0.0</td>\n",
       "      <td>0.000000e+00</td>\n",
       "    </tr>\n",
       "    <tr>\n",
       "      <th>1</th>\n",
       "      <td>3.0</td>\n",
       "      <td>2.303282</td>\n",
       "      <td>2.302570</td>\n",
       "      <td>0.098200</td>\n",
       "      <td>19.601018</td>\n",
       "      <td>285.0</td>\n",
       "      <td>1.056384e+09</td>\n",
       "    </tr>\n",
       "    <tr>\n",
       "      <th>2</th>\n",
       "      <td>3.0</td>\n",
       "      <td>2.302126</td>\n",
       "      <td>2.301574</td>\n",
       "      <td>0.111200</td>\n",
       "      <td>19.168741</td>\n",
       "      <td>309.8</td>\n",
       "      <td>1.056384e+09</td>\n",
       "    </tr>\n",
       "    <tr>\n",
       "      <th>3</th>\n",
       "      <td>3.0</td>\n",
       "      <td>2.217693</td>\n",
       "      <td>1.982424</td>\n",
       "      <td>0.228178</td>\n",
       "      <td>19.218155</td>\n",
       "      <td>308.8</td>\n",
       "      <td>1.056384e+09</td>\n",
       "    </tr>\n",
       "    <tr>\n",
       "      <th>4</th>\n",
       "      <td>3.0</td>\n",
       "      <td>1.717483</td>\n",
       "      <td>1.644966</td>\n",
       "      <td>0.359289</td>\n",
       "      <td>19.185289</td>\n",
       "      <td>372.8</td>\n",
       "      <td>1.056384e+09</td>\n",
       "    </tr>\n",
       "  </tbody>\n",
       "</table>\n",
       "</div>"
      ],
      "text/plain": [
       "       execution  train_loss  val_loss   val_acc       time  zero_relu_call   \n",
       "epoch                                                                         \n",
       "-1           3.0         NaN  0.333169  0.882420   1.729141             0.0  \\\n",
       " 1           3.0    2.303282  2.302570  0.098200  19.601018           285.0   \n",
       " 2           3.0    2.302126  2.301574  0.111200  19.168741           309.8   \n",
       " 3           3.0    2.217693  1.982424  0.228178  19.218155           308.8   \n",
       " 4           3.0    1.717483  1.644966  0.359289  19.185289           372.8   \n",
       "\n",
       "       total_relu_call  \n",
       "epoch                   \n",
       "-1        0.000000e+00  \n",
       " 1        1.056384e+09  \n",
       " 2        1.056384e+09  \n",
       " 3        1.056384e+09  \n",
       " 4        1.056384e+09  "
      ]
     },
     "execution_count": 30,
     "metadata": {},
     "output_type": "execute_result"
    }
   ],
   "source": [
    "df_deep.head(5)"
   ]
  },
  {
   "cell_type": "code",
   "execution_count": 31,
   "metadata": {},
   "outputs": [],
   "source": [
    "# variáveis de interesse\n",
    "dados = {\"original\": df_original, \"double\": df_double, \"deep\": df_deep, \"mobilenet\": df_mobilenet}\n",
    "resultados = {}\n",
    "for nome, df in dados.items():\n",
    "    relu0 = round(df[\"zero_relu_call\"].sum())\n",
    "    relux = round(df[\"total_relu_call\"].sum())\n",
    "    prop = relu0 / relux\n",
    "    resultados[nome] = [relu0, relux, prop]"
   ]
  },
  {
   "cell_type": "code",
   "execution_count": 32,
   "metadata": {},
   "outputs": [],
   "source": [
    "from model_utils import Hochuli, HochuliDeep, HochuliDoubleKernels, create_mobile_net\n",
    "def count_parameters(model):\n",
    "    return sum(p.numel() for p in model.parameters() if p.requires_grad)\n",
    "\n",
    "resultados[\"original\"].append(count_parameters(Hochuli([3, 28, 28], 10, nn.ReLU())))\n",
    "resultados[\"double\"].append(count_parameters(HochuliDoubleKernels([3, 28, 28], 10, nn.ReLU())))\n",
    "resultados[\"deep\"].append(count_parameters(HochuliDeep([3, 28, 28], 10, nn.ReLU())))\n",
    "resultados[\"mobilenet\"].append(count_parameters(create_mobile_net(nn.ReLU(), nn.Hardswish(), nn.Hardsigmoid(), 10, pre_trained=True, freeze=False)))"
   ]
  },
  {
   "cell_type": "code",
   "execution_count": 33,
   "metadata": {},
   "outputs": [
    {
     "data": {
      "text/html": [
       "<div>\n",
       "<style scoped>\n",
       "    .dataframe tbody tr th:only-of-type {\n",
       "        vertical-align: middle;\n",
       "    }\n",
       "\n",
       "    .dataframe tbody tr th {\n",
       "        vertical-align: top;\n",
       "    }\n",
       "\n",
       "    .dataframe thead th {\n",
       "        text-align: right;\n",
       "    }\n",
       "</style>\n",
       "<table border=\"1\" class=\"dataframe\">\n",
       "  <thead>\n",
       "    <tr style=\"text-align: right;\">\n",
       "      <th></th>\n",
       "      <th>original</th>\n",
       "      <th>double</th>\n",
       "      <th>deep</th>\n",
       "      <th>mobilenet</th>\n",
       "    </tr>\n",
       "  </thead>\n",
       "  <tbody>\n",
       "    <tr>\n",
       "      <th>ReLU'(0)</th>\n",
       "      <td>3.971240e+05</td>\n",
       "      <td>7.029090e+05</td>\n",
       "      <td>9.918000e+03</td>\n",
       "      <td>2.580000e+03</td>\n",
       "    </tr>\n",
       "    <tr>\n",
       "      <th>ReLU'(x)</th>\n",
       "      <td>5.281920e+10</td>\n",
       "      <td>1.055040e+11</td>\n",
       "      <td>5.281920e+10</td>\n",
       "      <td>5.779200e+10</td>\n",
       "    </tr>\n",
       "    <tr>\n",
       "      <th>ReLU'(0)/ReLU'(x)</th>\n",
       "      <td>7.518554e-06</td>\n",
       "      <td>6.662392e-06</td>\n",
       "      <td>1.877726e-07</td>\n",
       "      <td>4.464286e-08</td>\n",
       "    </tr>\n",
       "    <tr>\n",
       "      <th>Parâmetros</th>\n",
       "      <td>7.341800e+04</td>\n",
       "      <td>2.567140e+05</td>\n",
       "      <td>1.104420e+05</td>\n",
       "      <td>1.528106e+06</td>\n",
       "    </tr>\n",
       "  </tbody>\n",
       "</table>\n",
       "</div>"
      ],
      "text/plain": [
       "                       original        double          deep     mobilenet\n",
       "ReLU'(0)           3.971240e+05  7.029090e+05  9.918000e+03  2.580000e+03\n",
       "ReLU'(x)           5.281920e+10  1.055040e+11  5.281920e+10  5.779200e+10\n",
       "ReLU'(0)/ReLU'(x)  7.518554e-06  6.662392e-06  1.877726e-07  4.464286e-08\n",
       "Parâmetros         7.341800e+04  2.567140e+05  1.104420e+05  1.528106e+06"
      ]
     },
     "execution_count": 33,
     "metadata": {},
     "output_type": "execute_result"
    }
   ],
   "source": [
    "linhas = [\"ReLU'(0)\", \"ReLU'(x)\", \"ReLU'(0)/ReLU'(x)\", \"Parâmetros\"]\n",
    "pd.DataFrame(data=resultados, index=linhas)"
   ]
  },
  {
   "cell_type": "code",
   "execution_count": 34,
   "metadata": {},
   "outputs": [
    {
     "data": {
      "text/plain": [
       "40.04073401895543"
      ]
     },
     "execution_count": 34,
     "metadata": {},
     "output_type": "execute_result"
    }
   ],
   "source": [
    "resultados[\"original\"][2] / resultados[\"deep\"][2]"
   ]
  },
  {
   "cell_type": "code",
   "execution_count": 35,
   "metadata": {},
   "outputs": [
    {
     "data": {
      "text/plain": [
       "168.4156064461408"
      ]
     },
     "execution_count": 35,
     "metadata": {},
     "output_type": "execute_result"
    }
   ],
   "source": [
    "resultados[\"original\"][2] / resultados[\"mobilenet\"][2]"
   ]
  },
  {
   "cell_type": "code",
   "execution_count": null,
   "metadata": {},
   "outputs": [],
   "source": []
  }
 ],
 "metadata": {
  "kernelspec": {
   "display_name": "Python 3",
   "language": "python",
   "name": "python3"
  },
  "language_info": {
   "codemirror_mode": {
    "name": "ipython",
    "version": 3
   },
   "file_extension": ".py",
   "mimetype": "text/x-python",
   "name": "python",
   "nbconvert_exporter": "python",
   "pygments_lexer": "ipython3",
   "version": "3.10.12"
  }
 },
 "nbformat": 4,
 "nbformat_minor": 2
}
