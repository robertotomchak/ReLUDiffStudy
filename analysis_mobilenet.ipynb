{
 "cells": [
  {
   "cell_type": "code",
   "execution_count": 21,
   "metadata": {},
   "outputs": [],
   "source": [
    "import pandas as pd\n",
    "import seaborn as sns\n",
    "import matplotlib.pyplot as plt\n",
    "import numpy as np"
   ]
  },
  {
   "cell_type": "code",
   "execution_count": 22,
   "metadata": {},
   "outputs": [
    {
     "data": {
      "text/html": [
       "<div>\n",
       "<style scoped>\n",
       "    .dataframe tbody tr th:only-of-type {\n",
       "        vertical-align: middle;\n",
       "    }\n",
       "\n",
       "    .dataframe tbody tr th {\n",
       "        vertical-align: top;\n",
       "    }\n",
       "\n",
       "    .dataframe thead th {\n",
       "        text-align: right;\n",
       "    }\n",
       "</style>\n",
       "<table border=\"1\" class=\"dataframe\">\n",
       "  <thead>\n",
       "    <tr style=\"text-align: right;\">\n",
       "      <th></th>\n",
       "      <th>execution</th>\n",
       "      <th>epoch</th>\n",
       "      <th>train_loss</th>\n",
       "      <th>val_loss</th>\n",
       "      <th>val_acc</th>\n",
       "      <th>time</th>\n",
       "      <th>zero_relu_call</th>\n",
       "      <th>total_relu_call</th>\n",
       "    </tr>\n",
       "  </thead>\n",
       "  <tbody>\n",
       "    <tr>\n",
       "      <th>0</th>\n",
       "      <td>1</td>\n",
       "      <td>1</td>\n",
       "      <td>0.845916</td>\n",
       "      <td>0.476770</td>\n",
       "      <td>0.830500</td>\n",
       "      <td>88.814496</td>\n",
       "      <td>54</td>\n",
       "      <td>1155840000</td>\n",
       "    </tr>\n",
       "    <tr>\n",
       "      <th>1</th>\n",
       "      <td>1</td>\n",
       "      <td>2</td>\n",
       "      <td>0.451740</td>\n",
       "      <td>0.405229</td>\n",
       "      <td>0.852611</td>\n",
       "      <td>88.324428</td>\n",
       "      <td>42</td>\n",
       "      <td>1155840000</td>\n",
       "    </tr>\n",
       "    <tr>\n",
       "      <th>2</th>\n",
       "      <td>1</td>\n",
       "      <td>3</td>\n",
       "      <td>0.391541</td>\n",
       "      <td>0.392318</td>\n",
       "      <td>0.860444</td>\n",
       "      <td>88.185514</td>\n",
       "      <td>59</td>\n",
       "      <td>1155840000</td>\n",
       "    </tr>\n",
       "    <tr>\n",
       "      <th>3</th>\n",
       "      <td>1</td>\n",
       "      <td>4</td>\n",
       "      <td>0.354499</td>\n",
       "      <td>0.372190</td>\n",
       "      <td>0.867944</td>\n",
       "      <td>86.346142</td>\n",
       "      <td>39</td>\n",
       "      <td>1155840000</td>\n",
       "    </tr>\n",
       "    <tr>\n",
       "      <th>4</th>\n",
       "      <td>1</td>\n",
       "      <td>5</td>\n",
       "      <td>0.326716</td>\n",
       "      <td>0.365201</td>\n",
       "      <td>0.866333</td>\n",
       "      <td>84.088821</td>\n",
       "      <td>41</td>\n",
       "      <td>1155840000</td>\n",
       "    </tr>\n",
       "    <tr>\n",
       "      <th>...</th>\n",
       "      <td>...</td>\n",
       "      <td>...</td>\n",
       "      <td>...</td>\n",
       "      <td>...</td>\n",
       "      <td>...</td>\n",
       "      <td>...</td>\n",
       "      <td>...</td>\n",
       "      <td>...</td>\n",
       "    </tr>\n",
       "    <tr>\n",
       "      <th>150</th>\n",
       "      <td>5</td>\n",
       "      <td>27</td>\n",
       "      <td>0.137550</td>\n",
       "      <td>0.356258</td>\n",
       "      <td>0.887111</td>\n",
       "      <td>107.036461</td>\n",
       "      <td>80</td>\n",
       "      <td>1155840000</td>\n",
       "    </tr>\n",
       "    <tr>\n",
       "      <th>151</th>\n",
       "      <td>5</td>\n",
       "      <td>28</td>\n",
       "      <td>0.136617</td>\n",
       "      <td>0.368378</td>\n",
       "      <td>0.884389</td>\n",
       "      <td>106.969211</td>\n",
       "      <td>51</td>\n",
       "      <td>1155840000</td>\n",
       "    </tr>\n",
       "    <tr>\n",
       "      <th>152</th>\n",
       "      <td>5</td>\n",
       "      <td>29</td>\n",
       "      <td>0.132635</td>\n",
       "      <td>0.377365</td>\n",
       "      <td>0.881056</td>\n",
       "      <td>106.204812</td>\n",
       "      <td>40</td>\n",
       "      <td>1155840000</td>\n",
       "    </tr>\n",
       "    <tr>\n",
       "      <th>153</th>\n",
       "      <td>5</td>\n",
       "      <td>30</td>\n",
       "      <td>0.133609</td>\n",
       "      <td>0.370235</td>\n",
       "      <td>0.886111</td>\n",
       "      <td>106.019657</td>\n",
       "      <td>63</td>\n",
       "      <td>1155840000</td>\n",
       "    </tr>\n",
       "    <tr>\n",
       "      <th>154</th>\n",
       "      <td>5</td>\n",
       "      <td>-1</td>\n",
       "      <td>NaN</td>\n",
       "      <td>0.376826</td>\n",
       "      <td>0.881400</td>\n",
       "      <td>1.955595</td>\n",
       "      <td>0</td>\n",
       "      <td>0</td>\n",
       "    </tr>\n",
       "  </tbody>\n",
       "</table>\n",
       "<p>155 rows × 8 columns</p>\n",
       "</div>"
      ],
      "text/plain": [
       "     execution  epoch  train_loss  val_loss   val_acc        time   \n",
       "0            1      1    0.845916  0.476770  0.830500   88.814496  \\\n",
       "1            1      2    0.451740  0.405229  0.852611   88.324428   \n",
       "2            1      3    0.391541  0.392318  0.860444   88.185514   \n",
       "3            1      4    0.354499  0.372190  0.867944   86.346142   \n",
       "4            1      5    0.326716  0.365201  0.866333   84.088821   \n",
       "..         ...    ...         ...       ...       ...         ...   \n",
       "150          5     27    0.137550  0.356258  0.887111  107.036461   \n",
       "151          5     28    0.136617  0.368378  0.884389  106.969211   \n",
       "152          5     29    0.132635  0.377365  0.881056  106.204812   \n",
       "153          5     30    0.133609  0.370235  0.886111  106.019657   \n",
       "154          5     -1         NaN  0.376826  0.881400    1.955595   \n",
       "\n",
       "     zero_relu_call  total_relu_call  \n",
       "0                54       1155840000  \n",
       "1                42       1155840000  \n",
       "2                59       1155840000  \n",
       "3                39       1155840000  \n",
       "4                41       1155840000  \n",
       "..              ...              ...  \n",
       "150              80       1155840000  \n",
       "151              51       1155840000  \n",
       "152              40       1155840000  \n",
       "153              63       1155840000  \n",
       "154               0                0  \n",
       "\n",
       "[155 rows x 8 columns]"
      ]
     },
     "execution_count": 22,
     "metadata": {},
     "output_type": "execute_result"
    }
   ],
   "source": [
    "df_count = pd.read_csv(\"results/mobilenet/mnist_count.csv\")\n",
    "df_count"
   ]
  },
  {
   "cell_type": "code",
   "execution_count": 23,
   "metadata": {},
   "outputs": [
    {
     "data": {
      "text/html": [
       "<div>\n",
       "<style scoped>\n",
       "    .dataframe tbody tr th:only-of-type {\n",
       "        vertical-align: middle;\n",
       "    }\n",
       "\n",
       "    .dataframe tbody tr th {\n",
       "        vertical-align: top;\n",
       "    }\n",
       "\n",
       "    .dataframe thead th {\n",
       "        text-align: right;\n",
       "    }\n",
       "</style>\n",
       "<table border=\"1\" class=\"dataframe\">\n",
       "  <thead>\n",
       "    <tr style=\"text-align: right;\">\n",
       "      <th></th>\n",
       "      <th>execution</th>\n",
       "      <th>epoch</th>\n",
       "      <th>train_loss</th>\n",
       "      <th>val_loss</th>\n",
       "      <th>val_acc</th>\n",
       "      <th>time</th>\n",
       "      <th>zero_relu_call</th>\n",
       "      <th>total_relu_call</th>\n",
       "    </tr>\n",
       "  </thead>\n",
       "  <tbody>\n",
       "    <tr>\n",
       "      <th>0</th>\n",
       "      <td>1</td>\n",
       "      <td>1</td>\n",
       "      <td>0.836612</td>\n",
       "      <td>0.474861</td>\n",
       "      <td>0.833056</td>\n",
       "      <td>58.032173</td>\n",
       "      <td>0</td>\n",
       "      <td>0</td>\n",
       "    </tr>\n",
       "    <tr>\n",
       "      <th>1</th>\n",
       "      <td>1</td>\n",
       "      <td>2</td>\n",
       "      <td>0.446887</td>\n",
       "      <td>0.428650</td>\n",
       "      <td>0.835556</td>\n",
       "      <td>58.177491</td>\n",
       "      <td>0</td>\n",
       "      <td>0</td>\n",
       "    </tr>\n",
       "    <tr>\n",
       "      <th>2</th>\n",
       "      <td>1</td>\n",
       "      <td>3</td>\n",
       "      <td>0.386569</td>\n",
       "      <td>0.377040</td>\n",
       "      <td>0.864944</td>\n",
       "      <td>57.229786</td>\n",
       "      <td>0</td>\n",
       "      <td>0</td>\n",
       "    </tr>\n",
       "    <tr>\n",
       "      <th>3</th>\n",
       "      <td>1</td>\n",
       "      <td>4</td>\n",
       "      <td>0.347110</td>\n",
       "      <td>0.354134</td>\n",
       "      <td>0.872000</td>\n",
       "      <td>56.822654</td>\n",
       "      <td>0</td>\n",
       "      <td>0</td>\n",
       "    </tr>\n",
       "    <tr>\n",
       "      <th>4</th>\n",
       "      <td>1</td>\n",
       "      <td>5</td>\n",
       "      <td>0.322438</td>\n",
       "      <td>0.338555</td>\n",
       "      <td>0.874778</td>\n",
       "      <td>57.114319</td>\n",
       "      <td>0</td>\n",
       "      <td>0</td>\n",
       "    </tr>\n",
       "    <tr>\n",
       "      <th>...</th>\n",
       "      <td>...</td>\n",
       "      <td>...</td>\n",
       "      <td>...</td>\n",
       "      <td>...</td>\n",
       "      <td>...</td>\n",
       "      <td>...</td>\n",
       "      <td>...</td>\n",
       "      <td>...</td>\n",
       "    </tr>\n",
       "    <tr>\n",
       "      <th>150</th>\n",
       "      <td>5</td>\n",
       "      <td>27</td>\n",
       "      <td>0.146136</td>\n",
       "      <td>0.343909</td>\n",
       "      <td>0.887000</td>\n",
       "      <td>68.102281</td>\n",
       "      <td>0</td>\n",
       "      <td>0</td>\n",
       "    </tr>\n",
       "    <tr>\n",
       "      <th>151</th>\n",
       "      <td>5</td>\n",
       "      <td>28</td>\n",
       "      <td>0.142286</td>\n",
       "      <td>0.359889</td>\n",
       "      <td>0.885167</td>\n",
       "      <td>67.918822</td>\n",
       "      <td>0</td>\n",
       "      <td>0</td>\n",
       "    </tr>\n",
       "    <tr>\n",
       "      <th>152</th>\n",
       "      <td>5</td>\n",
       "      <td>29</td>\n",
       "      <td>0.135884</td>\n",
       "      <td>0.367885</td>\n",
       "      <td>0.880056</td>\n",
       "      <td>68.070508</td>\n",
       "      <td>0</td>\n",
       "      <td>0</td>\n",
       "    </tr>\n",
       "    <tr>\n",
       "      <th>153</th>\n",
       "      <td>5</td>\n",
       "      <td>30</td>\n",
       "      <td>0.135213</td>\n",
       "      <td>0.357095</td>\n",
       "      <td>0.886611</td>\n",
       "      <td>67.912628</td>\n",
       "      <td>0</td>\n",
       "      <td>0</td>\n",
       "    </tr>\n",
       "    <tr>\n",
       "      <th>154</th>\n",
       "      <td>5</td>\n",
       "      <td>-1</td>\n",
       "      <td>NaN</td>\n",
       "      <td>0.381279</td>\n",
       "      <td>0.878100</td>\n",
       "      <td>1.793418</td>\n",
       "      <td>0</td>\n",
       "      <td>0</td>\n",
       "    </tr>\n",
       "  </tbody>\n",
       "</table>\n",
       "<p>155 rows × 8 columns</p>\n",
       "</div>"
      ],
      "text/plain": [
       "     execution  epoch  train_loss  val_loss   val_acc       time   \n",
       "0            1      1    0.836612  0.474861  0.833056  58.032173  \\\n",
       "1            1      2    0.446887  0.428650  0.835556  58.177491   \n",
       "2            1      3    0.386569  0.377040  0.864944  57.229786   \n",
       "3            1      4    0.347110  0.354134  0.872000  56.822654   \n",
       "4            1      5    0.322438  0.338555  0.874778  57.114319   \n",
       "..         ...    ...         ...       ...       ...        ...   \n",
       "150          5     27    0.146136  0.343909  0.887000  68.102281   \n",
       "151          5     28    0.142286  0.359889  0.885167  67.918822   \n",
       "152          5     29    0.135884  0.367885  0.880056  68.070508   \n",
       "153          5     30    0.135213  0.357095  0.886611  67.912628   \n",
       "154          5     -1         NaN  0.381279  0.878100   1.793418   \n",
       "\n",
       "     zero_relu_call  total_relu_call  \n",
       "0                 0                0  \n",
       "1                 0                0  \n",
       "2                 0                0  \n",
       "3                 0                0  \n",
       "4                 0                0  \n",
       "..              ...              ...  \n",
       "150               0                0  \n",
       "151               0                0  \n",
       "152               0                0  \n",
       "153               0                0  \n",
       "154               0                0  \n",
       "\n",
       "[155 rows x 8 columns]"
      ]
     },
     "execution_count": 23,
     "metadata": {},
     "output_type": "execute_result"
    }
   ],
   "source": [
    "df_original = pd.read_csv(\"results/mobilenet/mnist_original.csv\")\n",
    "df_original"
   ]
  },
  {
   "cell_type": "code",
   "execution_count": 24,
   "metadata": {},
   "outputs": [
    {
     "data": {
      "text/html": [
       "<div>\n",
       "<style scoped>\n",
       "    .dataframe tbody tr th:only-of-type {\n",
       "        vertical-align: middle;\n",
       "    }\n",
       "\n",
       "    .dataframe tbody tr th {\n",
       "        vertical-align: top;\n",
       "    }\n",
       "\n",
       "    .dataframe thead th {\n",
       "        text-align: right;\n",
       "    }\n",
       "</style>\n",
       "<table border=\"1\" class=\"dataframe\">\n",
       "  <thead>\n",
       "    <tr style=\"text-align: right;\">\n",
       "      <th></th>\n",
       "      <th>execution</th>\n",
       "      <th>epoch</th>\n",
       "      <th>train_loss</th>\n",
       "      <th>val_loss</th>\n",
       "      <th>val_acc</th>\n",
       "      <th>time</th>\n",
       "      <th>zero_relu_call</th>\n",
       "      <th>total_relu_call</th>\n",
       "    </tr>\n",
       "  </thead>\n",
       "  <tbody>\n",
       "    <tr>\n",
       "      <th>0</th>\n",
       "      <td>1</td>\n",
       "      <td>1</td>\n",
       "      <td>0.824481</td>\n",
       "      <td>0.456749</td>\n",
       "      <td>0.842333</td>\n",
       "      <td>56.634748</td>\n",
       "      <td>0</td>\n",
       "      <td>0</td>\n",
       "    </tr>\n",
       "    <tr>\n",
       "      <th>1</th>\n",
       "      <td>1</td>\n",
       "      <td>2</td>\n",
       "      <td>0.437628</td>\n",
       "      <td>0.429860</td>\n",
       "      <td>0.842389</td>\n",
       "      <td>56.636864</td>\n",
       "      <td>0</td>\n",
       "      <td>0</td>\n",
       "    </tr>\n",
       "    <tr>\n",
       "      <th>2</th>\n",
       "      <td>1</td>\n",
       "      <td>3</td>\n",
       "      <td>0.377163</td>\n",
       "      <td>0.383522</td>\n",
       "      <td>0.859778</td>\n",
       "      <td>56.881165</td>\n",
       "      <td>0</td>\n",
       "      <td>0</td>\n",
       "    </tr>\n",
       "    <tr>\n",
       "      <th>3</th>\n",
       "      <td>1</td>\n",
       "      <td>4</td>\n",
       "      <td>0.341331</td>\n",
       "      <td>0.364404</td>\n",
       "      <td>0.867722</td>\n",
       "      <td>56.386786</td>\n",
       "      <td>0</td>\n",
       "      <td>0</td>\n",
       "    </tr>\n",
       "    <tr>\n",
       "      <th>4</th>\n",
       "      <td>1</td>\n",
       "      <td>5</td>\n",
       "      <td>0.313462</td>\n",
       "      <td>0.349479</td>\n",
       "      <td>0.871500</td>\n",
       "      <td>56.676396</td>\n",
       "      <td>0</td>\n",
       "      <td>0</td>\n",
       "    </tr>\n",
       "    <tr>\n",
       "      <th>...</th>\n",
       "      <td>...</td>\n",
       "      <td>...</td>\n",
       "      <td>...</td>\n",
       "      <td>...</td>\n",
       "      <td>...</td>\n",
       "      <td>...</td>\n",
       "      <td>...</td>\n",
       "      <td>...</td>\n",
       "    </tr>\n",
       "    <tr>\n",
       "      <th>150</th>\n",
       "      <td>5</td>\n",
       "      <td>27</td>\n",
       "      <td>0.131132</td>\n",
       "      <td>0.367549</td>\n",
       "      <td>0.887333</td>\n",
       "      <td>52.718695</td>\n",
       "      <td>0</td>\n",
       "      <td>0</td>\n",
       "    </tr>\n",
       "    <tr>\n",
       "      <th>151</th>\n",
       "      <td>5</td>\n",
       "      <td>28</td>\n",
       "      <td>0.133876</td>\n",
       "      <td>0.364218</td>\n",
       "      <td>0.884389</td>\n",
       "      <td>56.425597</td>\n",
       "      <td>0</td>\n",
       "      <td>0</td>\n",
       "    </tr>\n",
       "    <tr>\n",
       "      <th>152</th>\n",
       "      <td>5</td>\n",
       "      <td>29</td>\n",
       "      <td>0.124871</td>\n",
       "      <td>0.391035</td>\n",
       "      <td>0.881278</td>\n",
       "      <td>56.528672</td>\n",
       "      <td>0</td>\n",
       "      <td>0</td>\n",
       "    </tr>\n",
       "    <tr>\n",
       "      <th>153</th>\n",
       "      <td>5</td>\n",
       "      <td>30</td>\n",
       "      <td>0.124163</td>\n",
       "      <td>0.365014</td>\n",
       "      <td>0.888056</td>\n",
       "      <td>56.673715</td>\n",
       "      <td>0</td>\n",
       "      <td>0</td>\n",
       "    </tr>\n",
       "    <tr>\n",
       "      <th>154</th>\n",
       "      <td>5</td>\n",
       "      <td>-1</td>\n",
       "      <td>NaN</td>\n",
       "      <td>0.400472</td>\n",
       "      <td>0.880200</td>\n",
       "      <td>2.024286</td>\n",
       "      <td>0</td>\n",
       "      <td>0</td>\n",
       "    </tr>\n",
       "  </tbody>\n",
       "</table>\n",
       "<p>155 rows × 8 columns</p>\n",
       "</div>"
      ],
      "text/plain": [
       "     execution  epoch  train_loss  val_loss   val_acc       time   \n",
       "0            1      1    0.824481  0.456749  0.842333  56.634748  \\\n",
       "1            1      2    0.437628  0.429860  0.842389  56.636864   \n",
       "2            1      3    0.377163  0.383522  0.859778  56.881165   \n",
       "3            1      4    0.341331  0.364404  0.867722  56.386786   \n",
       "4            1      5    0.313462  0.349479  0.871500  56.676396   \n",
       "..         ...    ...         ...       ...       ...        ...   \n",
       "150          5     27    0.131132  0.367549  0.887333  52.718695   \n",
       "151          5     28    0.133876  0.364218  0.884389  56.425597   \n",
       "152          5     29    0.124871  0.391035  0.881278  56.528672   \n",
       "153          5     30    0.124163  0.365014  0.888056  56.673715   \n",
       "154          5     -1         NaN  0.400472  0.880200   2.024286   \n",
       "\n",
       "     zero_relu_call  total_relu_call  \n",
       "0                 0                0  \n",
       "1                 0                0  \n",
       "2                 0                0  \n",
       "3                 0                0  \n",
       "4                 0                0  \n",
       "..              ...              ...  \n",
       "150               0                0  \n",
       "151               0                0  \n",
       "152               0                0  \n",
       "153               0                0  \n",
       "154               0                0  \n",
       "\n",
       "[155 rows x 8 columns]"
      ]
     },
     "execution_count": 24,
     "metadata": {},
     "output_type": "execute_result"
    }
   ],
   "source": [
    "df_diff = pd.read_csv(\"results/mobilenet/mnist_diff.csv\")\n",
    "df_diff"
   ]
  },
  {
   "cell_type": "code",
   "execution_count": 25,
   "metadata": {},
   "outputs": [],
   "source": [
    "# splitting training and test\n",
    "df_count_train = df_count[df_count[\"epoch\"] != -1]\n",
    "df_count_test = df_count[df_count[\"epoch\"] == -1]\n",
    "df_original_train = df_original[df_original[\"epoch\"] != -1]\n",
    "df_original_test = df_original[df_original[\"epoch\"] == -1]\n",
    "df_diff_train = df_diff[df_diff[\"epoch\"] != -1]\n",
    "df_diff_test = df_diff[df_diff[\"epoch\"] == -1]"
   ]
  },
  {
   "cell_type": "code",
   "execution_count": 26,
   "metadata": {},
   "outputs": [
    {
     "name": "stderr",
     "output_type": "stream",
     "text": [
      "/tmp/ipykernel_9004/561248041.py:2: SettingWithCopyWarning: \n",
      "A value is trying to be set on a copy of a slice from a DataFrame.\n",
      "Try using .loc[row_indexer,col_indexer] = value instead\n",
      "\n",
      "See the caveats in the documentation: https://pandas.pydata.org/pandas-docs/stable/user_guide/indexing.html#returning-a-view-versus-a-copy\n",
      "  df_count_train[\"relu_proportion\"] = df_count_train[\"zero_relu_call\"] / df_count_train[\"total_relu_call\"]\n",
      "/tmp/ipykernel_9004/561248041.py:3: SettingWithCopyWarning: \n",
      "A value is trying to be set on a copy of a slice from a DataFrame.\n",
      "Try using .loc[row_indexer,col_indexer] = value instead\n",
      "\n",
      "See the caveats in the documentation: https://pandas.pydata.org/pandas-docs/stable/user_guide/indexing.html#returning-a-view-versus-a-copy\n",
      "  df_original_train[\"relu_proportion\"] = df_original_train[\"zero_relu_call\"] / df_original_train[\"total_relu_call\"]\n",
      "/tmp/ipykernel_9004/561248041.py:4: SettingWithCopyWarning: \n",
      "A value is trying to be set on a copy of a slice from a DataFrame.\n",
      "Try using .loc[row_indexer,col_indexer] = value instead\n",
      "\n",
      "See the caveats in the documentation: https://pandas.pydata.org/pandas-docs/stable/user_guide/indexing.html#returning-a-view-versus-a-copy\n",
      "  df_diff_train[\"relu_proportion\"] = df_diff_train[\"zero_relu_call\"] / df_diff_train[\"total_relu_call\"]\n"
     ]
    }
   ],
   "source": [
    "# add relu proportion\n",
    "df_count_train[\"relu_proportion\"] = df_count_train[\"zero_relu_call\"] / df_count_train[\"total_relu_call\"]\n",
    "df_original_train[\"relu_proportion\"] = df_original_train[\"zero_relu_call\"] / df_original_train[\"total_relu_call\"]\n",
    "df_diff_train[\"relu_proportion\"] = df_diff_train[\"zero_relu_call\"] / df_diff_train[\"total_relu_call\"]"
   ]
  },
  {
   "cell_type": "markdown",
   "metadata": {},
   "source": [
    "## Frequência da ReLU"
   ]
  },
  {
   "cell_type": "markdown",
   "metadata": {},
   "source": [
    "Tamanho da rede: 1_528_106"
   ]
  },
  {
   "cell_type": "code",
   "execution_count": 27,
   "metadata": {},
   "outputs": [
    {
     "name": "stdout",
     "output_type": "stream",
     "text": [
      "Proporção Média da ReLU: 4.531192321889997e-08    1/22_069_246\n"
     ]
    }
   ],
   "source": [
    "temp = df_count_train.groupby(\"execution\").sum()\n",
    "relu_proportion = temp[\"zero_relu_call\"] / temp[\"total_relu_call\"]\n",
    "print(f\"Proporção Média da ReLU: {relu_proportion.mean()}    1/{round(1/relu_proportion.mean()):_}\")"
   ]
  },
  {
   "cell_type": "code",
   "execution_count": 28,
   "metadata": {},
   "outputs": [
    {
     "data": {
      "text/plain": [
       "<Axes: xlabel='epoch', ylabel='relu_proportion'>"
      ]
     },
     "execution_count": 28,
     "metadata": {},
     "output_type": "execute_result"
    },
    {
     "data": {
      "image/png": "[encoded data removed]",
      "text/plain": [
       "<Figure size 640x480 with 1 Axes>"
      ]
     },
     "metadata": {},
     "output_type": "display_data"
    }
   ],
   "source": [
    "df_train_avg = df_count_train.groupby(\"epoch\").mean()\n",
    "sns.lineplot(data=df_train_avg, x=\"epoch\", y=\"relu_proportion\")"
   ]
  },
  {
   "cell_type": "markdown",
   "metadata": {},
   "source": [
    "## Eficiência do Modelo"
   ]
  },
  {
   "cell_type": "code",
   "execution_count": 29,
   "metadata": {},
   "outputs": [
    {
     "name": "stdout",
     "output_type": "stream",
     "text": [
      "Acurácia (teste) média: 88.12%\n"
     ]
    }
   ],
   "source": [
    "print(f\"Acurácia (teste) média: {round(100*df_count_test['val_acc'].mean(), 2)}%\")"
   ]
  },
  {
   "cell_type": "code",
   "execution_count": 30,
   "metadata": {},
   "outputs": [
    {
     "data": {
      "text/plain": [
       "<Axes: xlabel='epoch', ylabel='train_loss'>"
      ]
     },
     "execution_count": 30,
     "metadata": {},
     "output_type": "execute_result"
    },
    {
     "data": {
      "image/png": "[encoded data removed]",
      "text/plain": [
       "<Figure size 640x480 with 1 Axes>"
      ]
     },
     "metadata": {},
     "output_type": "display_data"
    }
   ],
   "source": [
    "sns.lineplot(data=df_train_avg, x=\"epoch\", y=\"train_loss\")\n",
    "sns.lineplot(data=df_train_avg, x=\"epoch\", y=\"val_loss\")"
   ]
  },
  {
   "cell_type": "code",
   "execution_count": 31,
   "metadata": {},
   "outputs": [
    {
     "name": "stdout",
     "output_type": "stream",
     "text": [
      "Tempo médio de treino: 45:32\n"
     ]
    }
   ],
   "source": [
    "df_train_sum = df_count_train.groupby(\"execution\").sum()\n",
    "seconds_avg = round(df_train_sum[\"time\"].mean())\n",
    "minutes_avg = seconds_avg // 60\n",
    "seconds_avg = seconds_avg % 60\n",
    "print(f\"Tempo médio de treino: {minutes_avg}:{seconds_avg}\")"
   ]
  },
  {
   "cell_type": "markdown",
   "metadata": {},
   "source": [
    "## Comparando com funções diferenciáveis"
   ]
  },
  {
   "cell_type": "code",
   "execution_count": 32,
   "metadata": {},
   "outputs": [],
   "source": [
    "df_train_avg_diff = df_diff_train.groupby(\"epoch\").mean()\n",
    "df_train_avg_original = df_original_train.groupby(\"epoch\").mean()"
   ]
  },
  {
   "cell_type": "code",
   "execution_count": 33,
   "metadata": {},
   "outputs": [
    {
     "data": {
      "text/plain": [
       "Text(0.5, 1.0, 'Tempo por Epoca')"
      ]
     },
     "execution_count": 33,
     "metadata": {},
     "output_type": "execute_result"
    },
    {
     "data": {
      "image/png": "[encoded data removed]",
      "text/plain": [
       "<Figure size 640x480 with 1 Axes>"
      ]
     },
     "metadata": {},
     "output_type": "display_data"
    }
   ],
   "source": [
    "temp = pd.DataFrame()\n",
    "temp[\"original\"] = df_train_avg_original[\"time\"]\n",
    "temp[\"diff\"] = df_train_avg_diff[\"time\"]\n",
    "temp[\"epoch\"] = df_train_avg.index\n",
    "temp = pd.melt(temp, [\"epoch\"])\n",
    "ax = sns.lineplot(data=temp, x=\"epoch\", y=\"value\", hue=\"variable\")\n",
    "ax.set_title(\"Tempo por Epoca\")"
   ]
  },
  {
   "cell_type": "code",
   "execution_count": 34,
   "metadata": {},
   "outputs": [
    {
     "name": "stdout",
     "output_type": "stream",
     "text": [
      "Tempo total de treino (não diff): 30:58\n",
      "Tempo total de treino (diff): 27:46\n",
      "Diferença: -10.33%\n"
     ]
    }
   ],
   "source": [
    "# tempo total de treino\n",
    "time_original = round(df_train_avg_original[\"time\"].sum())\n",
    "time_diff = round(df_train_avg_diff[\"time\"].sum())\n",
    "\n",
    "print(f\"Tempo total de treino (não diff): {time_original//60:02}:{time_original%60:02}\")\n",
    "print(f\"Tempo total de treino (diff): {time_diff//60:02}:{time_diff%60:02}\")\n",
    "print(f\"Diferença: {round(100*(time_diff - time_original) / time_original, 2)}%\")"
   ]
  },
  {
   "cell_type": "code",
   "execution_count": 35,
   "metadata": {},
   "outputs": [
    {
     "data": {
      "text/plain": [
       "Text(0.5, 1.0, 'Loss (Treino) por Epoca')"
      ]
     },
     "execution_count": 35,
     "metadata": {},
     "output_type": "execute_result"
    },
    {
     "data": {
      "image/png": "[encoded data removed]",
      "text/plain": [
       "<Figure size 640x480 with 1 Axes>"
      ]
     },
     "metadata": {},
     "output_type": "display_data"
    }
   ],
   "source": [
    "temp = pd.DataFrame()\n",
    "temp[\"original\"] = df_train_avg_original[\"train_loss\"]\n",
    "temp[\"diff\"] = df_train_avg_diff[\"train_loss\"]\n",
    "temp[\"epoch\"] = df_train_avg.index\n",
    "temp = pd.melt(temp, [\"epoch\"])\n",
    "ax = sns.lineplot(data=temp, x=\"epoch\", y=\"value\", hue=\"variable\")\n",
    "ax.set_title(\"Loss (Treino) por Epoca\")"
   ]
  },
  {
   "cell_type": "code",
   "execution_count": 36,
   "metadata": {},
   "outputs": [
    {
     "data": {
      "text/plain": [
       "Text(0.5, 1.0, 'Loss (Validacao) por Epoca')"
      ]
     },
     "execution_count": 36,
     "metadata": {},
     "output_type": "execute_result"
    },
    {
     "data": {
      "image/png": "[encoded data removed]",
      "text/plain": [
       "<Figure size 640x480 with 1 Axes>"
      ]
     },
     "metadata": {},
     "output_type": "display_data"
    }
   ],
   "source": [
    "temp = pd.DataFrame()\n",
    "temp[\"original\"] = df_train_avg_original[\"val_loss\"]\n",
    "temp[\"diff\"] = df_train_avg_diff[\"val_loss\"]\n",
    "temp[\"epoch\"] = df_train_avg.index\n",
    "temp = pd.melt(temp, [\"epoch\"])\n",
    "ax = sns.lineplot(data=temp, x=\"epoch\", y=\"value\", hue=\"variable\")\n",
    "ax.set_title(\"Loss (Validacao) por Epoca\")"
   ]
  },
  {
   "cell_type": "code",
   "execution_count": 37,
   "metadata": {},
   "outputs": [
    {
     "data": {
      "text/plain": [
       "Text(0.5, 1.0, 'Acurácia (Validacao) por Epoca')"
      ]
     },
     "execution_count": 37,
     "metadata": {},
     "output_type": "execute_result"
    },
    {
     "data": {
      "image/png": "[encoded data removed]",
      "text/plain": [
       "<Figure size 640x480 with 1 Axes>"
      ]
     },
     "metadata": {},
     "output_type": "display_data"
    }
   ],
   "source": [
    "temp = pd.DataFrame()\n",
    "temp[\"original\"] = df_train_avg_original[\"val_acc\"]\n",
    "temp[\"diff\"] = df_train_avg_diff[\"val_acc\"]\n",
    "temp[\"epoch\"] = df_train_avg.index\n",
    "temp = pd.melt(temp, [\"epoch\"])\n",
    "ax = sns.lineplot(data=temp, x=\"epoch\", y=\"value\", hue=\"variable\")\n",
    "ax.set_title(\"Acurácia (Validacao) por Epoca\")"
   ]
  },
  {
   "cell_type": "code",
   "execution_count": 38,
   "metadata": {},
   "outputs": [
    {
     "data": {
      "text/html": [
       "<div>\n",
       "<style scoped>\n",
       "    .dataframe tbody tr th:only-of-type {\n",
       "        vertical-align: middle;\n",
       "    }\n",
       "\n",
       "    .dataframe tbody tr th {\n",
       "        vertical-align: top;\n",
       "    }\n",
       "\n",
       "    .dataframe thead th {\n",
       "        text-align: right;\n",
       "    }\n",
       "</style>\n",
       "<table border=\"1\" class=\"dataframe\">\n",
       "  <thead>\n",
       "    <tr style=\"text-align: right;\">\n",
       "      <th></th>\n",
       "      <th>execution</th>\n",
       "      <th>train_loss</th>\n",
       "      <th>val_loss</th>\n",
       "      <th>val_acc</th>\n",
       "      <th>time</th>\n",
       "      <th>zero_relu_call</th>\n",
       "      <th>total_relu_call</th>\n",
       "      <th>relu_proportion</th>\n",
       "    </tr>\n",
       "    <tr>\n",
       "      <th>epoch</th>\n",
       "      <th></th>\n",
       "      <th></th>\n",
       "      <th></th>\n",
       "      <th></th>\n",
       "      <th></th>\n",
       "      <th></th>\n",
       "      <th></th>\n",
       "      <th></th>\n",
       "    </tr>\n",
       "  </thead>\n",
       "  <tbody>\n",
       "    <tr>\n",
       "      <th>12</th>\n",
       "      <td>3.0</td>\n",
       "      <td>0.233306</td>\n",
       "      <td>0.319299</td>\n",
       "      <td>0.882867</td>\n",
       "      <td>58.719675</td>\n",
       "      <td>0.0</td>\n",
       "      <td>0.0</td>\n",
       "      <td>NaN</td>\n",
       "    </tr>\n",
       "  </tbody>\n",
       "</table>\n",
       "</div>"
      ],
      "text/plain": [
       "       execution  train_loss  val_loss   val_acc       time  zero_relu_call   \n",
       "epoch                                                                         \n",
       "12           3.0    0.233306  0.319299  0.882867  58.719675             0.0  \\\n",
       "\n",
       "       total_relu_call  relu_proportion  \n",
       "epoch                                    \n",
       "12                 0.0              NaN  "
      ]
     },
     "execution_count": 38,
     "metadata": {},
     "output_type": "execute_result"
    }
   ],
   "source": [
    "# melhor época original\n",
    "best_original = df_train_avg_original[df_train_avg_original[\"val_loss\"] == df_train_avg_original[\"val_loss\"].min()]\n",
    "best_original"
   ]
  },
  {
   "cell_type": "code",
   "execution_count": 39,
   "metadata": {},
   "outputs": [
    {
     "data": {
      "text/html": [
       "<div>\n",
       "<style scoped>\n",
       "    .dataframe tbody tr th:only-of-type {\n",
       "        vertical-align: middle;\n",
       "    }\n",
       "\n",
       "    .dataframe tbody tr th {\n",
       "        vertical-align: top;\n",
       "    }\n",
       "\n",
       "    .dataframe thead th {\n",
       "        text-align: right;\n",
       "    }\n",
       "</style>\n",
       "<table border=\"1\" class=\"dataframe\">\n",
       "  <thead>\n",
       "    <tr style=\"text-align: right;\">\n",
       "      <th></th>\n",
       "      <th>execution</th>\n",
       "      <th>train_loss</th>\n",
       "      <th>val_loss</th>\n",
       "      <th>val_acc</th>\n",
       "      <th>time</th>\n",
       "      <th>zero_relu_call</th>\n",
       "      <th>total_relu_call</th>\n",
       "      <th>relu_proportion</th>\n",
       "    </tr>\n",
       "    <tr>\n",
       "      <th>epoch</th>\n",
       "      <th></th>\n",
       "      <th></th>\n",
       "      <th></th>\n",
       "      <th></th>\n",
       "      <th></th>\n",
       "      <th></th>\n",
       "      <th></th>\n",
       "      <th></th>\n",
       "    </tr>\n",
       "  </thead>\n",
       "  <tbody>\n",
       "    <tr>\n",
       "      <th>10</th>\n",
       "      <td>3.0</td>\n",
       "      <td>0.241601</td>\n",
       "      <td>0.320295</td>\n",
       "      <td>0.884067</td>\n",
       "      <td>54.986208</td>\n",
       "      <td>0.0</td>\n",
       "      <td>0.0</td>\n",
       "      <td>NaN</td>\n",
       "    </tr>\n",
       "  </tbody>\n",
       "</table>\n",
       "</div>"
      ],
      "text/plain": [
       "       execution  train_loss  val_loss   val_acc       time  zero_relu_call   \n",
       "epoch                                                                         \n",
       "10           3.0    0.241601  0.320295  0.884067  54.986208             0.0  \\\n",
       "\n",
       "       total_relu_call  relu_proportion  \n",
       "epoch                                    \n",
       "10                 0.0              NaN  "
      ]
     },
     "execution_count": 39,
     "metadata": {},
     "output_type": "execute_result"
    }
   ],
   "source": [
    "# melhor época diff\n",
    "best_diff = df_train_avg_diff[df_train_avg_diff[\"val_loss\"] == df_train_avg_diff[\"val_loss\"].min()]\n",
    "best_diff"
   ]
  },
  {
   "cell_type": "code",
   "execution_count": 40,
   "metadata": {},
   "outputs": [
    {
     "data": {
      "text/html": [
       "<div>\n",
       "<style scoped>\n",
       "    .dataframe tbody tr th:only-of-type {\n",
       "        vertical-align: middle;\n",
       "    }\n",
       "\n",
       "    .dataframe tbody tr th {\n",
       "        vertical-align: top;\n",
       "    }\n",
       "\n",
       "    .dataframe thead th {\n",
       "        text-align: right;\n",
       "    }\n",
       "</style>\n",
       "<table border=\"1\" class=\"dataframe\">\n",
       "  <thead>\n",
       "    <tr style=\"text-align: right;\">\n",
       "      <th></th>\n",
       "      <th>Não Diferenciáveis</th>\n",
       "      <th>Diferenciáveis</th>\n",
       "      <th>Diferença (%)</th>\n",
       "    </tr>\n",
       "  </thead>\n",
       "  <tbody>\n",
       "    <tr>\n",
       "      <th>epoch</th>\n",
       "      <td>12.000000</td>\n",
       "      <td>10.000000</td>\n",
       "      <td>-16.666667</td>\n",
       "    </tr>\n",
       "    <tr>\n",
       "      <th>execution</th>\n",
       "      <td>3.000000</td>\n",
       "      <td>3.000000</td>\n",
       "      <td>0.000000</td>\n",
       "    </tr>\n",
       "    <tr>\n",
       "      <th>train_loss</th>\n",
       "      <td>0.233306</td>\n",
       "      <td>0.241601</td>\n",
       "      <td>3.555475</td>\n",
       "    </tr>\n",
       "    <tr>\n",
       "      <th>val_loss</th>\n",
       "      <td>0.319299</td>\n",
       "      <td>0.320295</td>\n",
       "      <td>0.311926</td>\n",
       "    </tr>\n",
       "    <tr>\n",
       "      <th>val_acc</th>\n",
       "      <td>0.882867</td>\n",
       "      <td>0.884067</td>\n",
       "      <td>0.135921</td>\n",
       "    </tr>\n",
       "    <tr>\n",
       "      <th>time</th>\n",
       "      <td>58.719675</td>\n",
       "      <td>54.986208</td>\n",
       "      <td>-6.358119</td>\n",
       "    </tr>\n",
       "  </tbody>\n",
       "</table>\n",
       "</div>"
      ],
      "text/plain": [
       "            Não Diferenciáveis  Diferenciáveis  Diferença (%)\n",
       "epoch                12.000000       10.000000     -16.666667\n",
       "execution             3.000000        3.000000       0.000000\n",
       "train_loss            0.233306        0.241601       3.555475\n",
       "val_loss              0.319299        0.320295       0.311926\n",
       "val_acc               0.882867        0.884067       0.135921\n",
       "time                 58.719675       54.986208      -6.358119"
      ]
     },
     "execution_count": 40,
     "metadata": {},
     "output_type": "execute_result"
    }
   ],
   "source": [
    "column_original = np.array([best_original.index[0]] + list(best_original.values[0]))[:6]\n",
    "column_diff = np.array([best_diff.index[0]] + list(best_diff.values[0]))[:6]\n",
    "column_difference = 100 * (column_diff - column_original) / column_original\n",
    "indexes = [\"epoch\"] + list(best_original)[:5]\n",
    "pd.DataFrame({\"Não Diferenciáveis\": column_original, \"Diferenciáveis\": column_diff, \"Diferença (%)\": column_difference}, index=indexes)"
   ]
  },
  {
   "cell_type": "code",
   "execution_count": 41,
   "metadata": {},
   "outputs": [
    {
     "name": "stdout",
     "output_type": "stream",
     "text": [
      "Tempo de treino até melhor época (não diff): 12:27\n",
      "Tempo de treino até melhor época (diff): 09:14\n",
      "Diferença: -25.84%\n"
     ]
    }
   ],
   "source": [
    "# tempo para chegar na melhor época\n",
    "epoch_original = df_train_avg_original[df_train_avg_original[\"val_loss\"] == df_train_avg_original[\"val_loss\"].min()].index[0]\n",
    "epoch_diff = df_train_avg_diff[df_train_avg_diff[\"val_loss\"] == df_train_avg_diff[\"val_loss\"].min()].index[0]\n",
    "\n",
    "time_original = round(df_train_avg_original.head(epoch_original)[\"time\"].sum())\n",
    "time_diff = round(df_train_avg_diff.head(epoch_diff)[\"time\"].sum())\n",
    "\n",
    "print(f\"Tempo de treino até melhor época (não diff): {time_original//60:02}:{time_original%60:02}\")\n",
    "print(f\"Tempo de treino até melhor época (diff): {time_diff//60:02}:{time_diff%60:02}\")\n",
    "print(f\"Diferença: {round(100*(time_diff - time_original) / time_original, 2)}%\")"
   ]
  },
  {
   "cell_type": "markdown",
   "metadata": {},
   "source": [
    "## Avaliação nos dados de teste"
   ]
  },
  {
   "cell_type": "code",
   "execution_count": 42,
   "metadata": {},
   "outputs": [
    {
     "data": {
      "text/html": [
       "<div>\n",
       "<style scoped>\n",
       "    .dataframe tbody tr th:only-of-type {\n",
       "        vertical-align: middle;\n",
       "    }\n",
       "\n",
       "    .dataframe tbody tr th {\n",
       "        vertical-align: top;\n",
       "    }\n",
       "\n",
       "    .dataframe thead th {\n",
       "        text-align: right;\n",
       "    }\n",
       "</style>\n",
       "<table border=\"1\" class=\"dataframe\">\n",
       "  <thead>\n",
       "    <tr style=\"text-align: right;\">\n",
       "      <th></th>\n",
       "      <th>execution</th>\n",
       "      <th>epoch</th>\n",
       "      <th>train_loss</th>\n",
       "      <th>val_loss</th>\n",
       "      <th>val_acc</th>\n",
       "      <th>time</th>\n",
       "      <th>zero_relu_call</th>\n",
       "      <th>total_relu_call</th>\n",
       "    </tr>\n",
       "  </thead>\n",
       "  <tbody>\n",
       "    <tr>\n",
       "      <th>30</th>\n",
       "      <td>1</td>\n",
       "      <td>-1</td>\n",
       "      <td>NaN</td>\n",
       "      <td>0.409626</td>\n",
       "      <td>0.8763</td>\n",
       "      <td>1.985484</td>\n",
       "      <td>0</td>\n",
       "      <td>0</td>\n",
       "    </tr>\n",
       "    <tr>\n",
       "      <th>61</th>\n",
       "      <td>2</td>\n",
       "      <td>-1</td>\n",
       "      <td>NaN</td>\n",
       "      <td>0.391504</td>\n",
       "      <td>0.8874</td>\n",
       "      <td>2.101640</td>\n",
       "      <td>0</td>\n",
       "      <td>0</td>\n",
       "    </tr>\n",
       "    <tr>\n",
       "      <th>92</th>\n",
       "      <td>3</td>\n",
       "      <td>-1</td>\n",
       "      <td>NaN</td>\n",
       "      <td>0.387158</td>\n",
       "      <td>0.8851</td>\n",
       "      <td>2.058947</td>\n",
       "      <td>0</td>\n",
       "      <td>0</td>\n",
       "    </tr>\n",
       "    <tr>\n",
       "      <th>123</th>\n",
       "      <td>4</td>\n",
       "      <td>-1</td>\n",
       "      <td>NaN</td>\n",
       "      <td>0.420590</td>\n",
       "      <td>0.8743</td>\n",
       "      <td>2.104831</td>\n",
       "      <td>0</td>\n",
       "      <td>0</td>\n",
       "    </tr>\n",
       "    <tr>\n",
       "      <th>154</th>\n",
       "      <td>5</td>\n",
       "      <td>-1</td>\n",
       "      <td>NaN</td>\n",
       "      <td>0.400472</td>\n",
       "      <td>0.8802</td>\n",
       "      <td>2.024286</td>\n",
       "      <td>0</td>\n",
       "      <td>0</td>\n",
       "    </tr>\n",
       "  </tbody>\n",
       "</table>\n",
       "</div>"
      ],
      "text/plain": [
       "     execution  epoch  train_loss  val_loss  val_acc      time   \n",
       "30           1     -1         NaN  0.409626   0.8763  1.985484  \\\n",
       "61           2     -1         NaN  0.391504   0.8874  2.101640   \n",
       "92           3     -1         NaN  0.387158   0.8851  2.058947   \n",
       "123          4     -1         NaN  0.420590   0.8743  2.104831   \n",
       "154          5     -1         NaN  0.400472   0.8802  2.024286   \n",
       "\n",
       "     zero_relu_call  total_relu_call  \n",
       "30                0                0  \n",
       "61                0                0  \n",
       "92                0                0  \n",
       "123               0                0  \n",
       "154               0                0  "
      ]
     },
     "execution_count": 42,
     "metadata": {},
     "output_type": "execute_result"
    }
   ],
   "source": [
    "df_diff_test"
   ]
  },
  {
   "cell_type": "code",
   "execution_count": 43,
   "metadata": {},
   "outputs": [
    {
     "data": {
      "text/html": [
       "<div>\n",
       "<style scoped>\n",
       "    .dataframe tbody tr th:only-of-type {\n",
       "        vertical-align: middle;\n",
       "    }\n",
       "\n",
       "    .dataframe tbody tr th {\n",
       "        vertical-align: top;\n",
       "    }\n",
       "\n",
       "    .dataframe thead th {\n",
       "        text-align: right;\n",
       "    }\n",
       "</style>\n",
       "<table border=\"1\" class=\"dataframe\">\n",
       "  <thead>\n",
       "    <tr style=\"text-align: right;\">\n",
       "      <th></th>\n",
       "      <th>execution</th>\n",
       "      <th>epoch</th>\n",
       "      <th>train_loss</th>\n",
       "      <th>val_loss</th>\n",
       "      <th>val_acc</th>\n",
       "      <th>time</th>\n",
       "      <th>zero_relu_call</th>\n",
       "      <th>total_relu_call</th>\n",
       "    </tr>\n",
       "  </thead>\n",
       "  <tbody>\n",
       "    <tr>\n",
       "      <th>30</th>\n",
       "      <td>1</td>\n",
       "      <td>-1</td>\n",
       "      <td>NaN</td>\n",
       "      <td>0.379616</td>\n",
       "      <td>0.8779</td>\n",
       "      <td>1.770334</td>\n",
       "      <td>0</td>\n",
       "      <td>0</td>\n",
       "    </tr>\n",
       "    <tr>\n",
       "      <th>61</th>\n",
       "      <td>2</td>\n",
       "      <td>-1</td>\n",
       "      <td>NaN</td>\n",
       "      <td>0.391828</td>\n",
       "      <td>0.8801</td>\n",
       "      <td>1.766327</td>\n",
       "      <td>0</td>\n",
       "      <td>0</td>\n",
       "    </tr>\n",
       "    <tr>\n",
       "      <th>92</th>\n",
       "      <td>3</td>\n",
       "      <td>-1</td>\n",
       "      <td>NaN</td>\n",
       "      <td>0.395823</td>\n",
       "      <td>0.8772</td>\n",
       "      <td>1.781220</td>\n",
       "      <td>0</td>\n",
       "      <td>0</td>\n",
       "    </tr>\n",
       "    <tr>\n",
       "      <th>123</th>\n",
       "      <td>4</td>\n",
       "      <td>-1</td>\n",
       "      <td>NaN</td>\n",
       "      <td>0.372006</td>\n",
       "      <td>0.8800</td>\n",
       "      <td>1.775836</td>\n",
       "      <td>0</td>\n",
       "      <td>0</td>\n",
       "    </tr>\n",
       "    <tr>\n",
       "      <th>154</th>\n",
       "      <td>5</td>\n",
       "      <td>-1</td>\n",
       "      <td>NaN</td>\n",
       "      <td>0.381279</td>\n",
       "      <td>0.8781</td>\n",
       "      <td>1.793418</td>\n",
       "      <td>0</td>\n",
       "      <td>0</td>\n",
       "    </tr>\n",
       "  </tbody>\n",
       "</table>\n",
       "</div>"
      ],
      "text/plain": [
       "     execution  epoch  train_loss  val_loss  val_acc      time   \n",
       "30           1     -1         NaN  0.379616   0.8779  1.770334  \\\n",
       "61           2     -1         NaN  0.391828   0.8801  1.766327   \n",
       "92           3     -1         NaN  0.395823   0.8772  1.781220   \n",
       "123          4     -1         NaN  0.372006   0.8800  1.775836   \n",
       "154          5     -1         NaN  0.381279   0.8781  1.793418   \n",
       "\n",
       "     zero_relu_call  total_relu_call  \n",
       "30                0                0  \n",
       "61                0                0  \n",
       "92                0                0  \n",
       "123               0                0  \n",
       "154               0                0  "
      ]
     },
     "execution_count": 43,
     "metadata": {},
     "output_type": "execute_result"
    }
   ],
   "source": [
    "df_original_test"
   ]
  },
  {
   "cell_type": "code",
   "execution_count": 44,
   "metadata": {},
   "outputs": [
    {
     "name": "stdout",
     "output_type": "stream",
     "text": [
      "Tempo Diferenciáveis: 2.0550375461578367 seg\n",
      "Tempo Não-diferenciáveis: 1.7774271965026855 seg\n",
      "Diferenciáveis são 15.62% mais lentas\n"
     ]
    }
   ],
   "source": [
    "# prediction time\n",
    "diff_time = df_diff_test[\"time\"].mean()\n",
    "original_time = df_original_test[\"time\"].mean()\n",
    "diff = (diff_time - original_time) / original_time\n",
    "print(f\"Tempo Diferenciáveis: {diff_time} seg\")\n",
    "print(f\"Tempo Não-diferenciáveis: {original_time} seg\")\n",
    "print(f\"Diferenciáveis são {round(100*diff, 2)}% mais lentas\")"
   ]
  },
  {
   "cell_type": "code",
   "execution_count": 45,
   "metadata": {},
   "outputs": [
    {
     "name": "stdout",
     "output_type": "stream",
     "text": [
      "Loss Diferenciáveis: 0.40187012314796444\n",
      "Loss Não-diferenciáveis: 0.384110409617424\n",
      "Diferenciáveis são 4.62% piores\n"
     ]
    }
   ],
   "source": [
    "# loss\n",
    "diff_loss = df_diff_test[\"val_loss\"].mean()\n",
    "original_loss = df_original_test[\"val_loss\"].mean()\n",
    "diff = (diff_loss - original_loss) / original_loss\n",
    "print(f\"Loss Diferenciáveis: {diff_loss}\")\n",
    "print(f\"Loss Não-diferenciáveis: {original_loss}\")\n",
    "print(f\"Diferenciáveis são {round(100*diff, 2)}% piores\")"
   ]
  },
  {
   "cell_type": "code",
   "execution_count": 46,
   "metadata": {},
   "outputs": [
    {
     "name": "stdout",
     "output_type": "stream",
     "text": [
      "Acurácia Diferenciáveis: 0.88066 seg\n",
      "Acurácia Não-diferenciáveis: 0.87866 seg\n",
      "Acurácia das diferenciáveis é 0.23% maior\n"
     ]
    }
   ],
   "source": [
    "# acc\n",
    "diff_acc = df_diff_test[\"val_acc\"].mean()\n",
    "original_acc = df_original_test[\"val_acc\"].mean()\n",
    "diff = (diff_acc - original_acc) / original_acc\n",
    "print(f\"Acurácia Diferenciáveis: {diff_acc} seg\")\n",
    "print(f\"Acurácia Não-diferenciáveis: {original_acc} seg\")\n",
    "if diff < 0:\n",
    "    print(f\"Acurácia das diferenciáveis é {-round(100*diff, 2)}% menor\")\n",
    "else:\n",
    "    print(f\"Acurácia das diferenciáveis é {round(100*diff, 2)}% maior\")"
   ]
  },
  {
   "cell_type": "code",
   "execution_count": null,
   "metadata": {},
   "outputs": [],
   "source": []
  }
 ],
 "metadata": {
  "kernelspec": {
   "display_name": "Python 3",
   "language": "python",
   "name": "python3"
  },
  "language_info": {
   "codemirror_mode": {
    "name": "ipython",
    "version": 3
   },
   "file_extension": ".py",
   "mimetype": "text/x-python",
   "name": "python",
   "nbconvert_exporter": "python",
   "pygments_lexer": "ipython3",
   "version": "3.10.12"
  }
 },
 "nbformat": 4,
 "nbformat_minor": 2
}
