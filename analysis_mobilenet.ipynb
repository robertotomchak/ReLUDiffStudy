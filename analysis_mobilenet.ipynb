{
 "cells": [
  {
   "cell_type": "code",
   "execution_count": 1,
   "metadata": {},
   "outputs": [],
   "source": [
    "import pandas as pd\n",
    "import seaborn as sns\n",
    "import matplotlib.pyplot as plt\n",
    "import numpy as np"
   ]
  },
  {
   "cell_type": "code",
   "execution_count": 2,
   "metadata": {},
   "outputs": [
    {
     "data": {
      "text/html": [
       "<div>\n",
       "<style scoped>\n",
       "    .dataframe tbody tr th:only-of-type {\n",
       "        vertical-align: middle;\n",
       "    }\n",
       "\n",
       "    .dataframe tbody tr th {\n",
       "        vertical-align: top;\n",
       "    }\n",
       "\n",
       "    .dataframe thead th {\n",
       "        text-align: right;\n",
       "    }\n",
       "</style>\n",
       "<table border=\"1\" class=\"dataframe\">\n",
       "  <thead>\n",
       "    <tr style=\"text-align: right;\">\n",
       "      <th></th>\n",
       "      <th>execution</th>\n",
       "      <th>epoch</th>\n",
       "      <th>train_loss</th>\n",
       "      <th>val_loss</th>\n",
       "      <th>val_acc</th>\n",
       "      <th>time</th>\n",
       "      <th>zero_relu_call</th>\n",
       "      <th>total_relu_call</th>\n",
       "    </tr>\n",
       "  </thead>\n",
       "  <tbody>\n",
       "    <tr>\n",
       "      <th>0</th>\n",
       "      <td>1</td>\n",
       "      <td>1</td>\n",
       "      <td>0.872109</td>\n",
       "      <td>0.512934</td>\n",
       "      <td>0.810389</td>\n",
       "      <td>75.521816</td>\n",
       "      <td>55</td>\n",
       "      <td>1155840000</td>\n",
       "    </tr>\n",
       "    <tr>\n",
       "      <th>1</th>\n",
       "      <td>1</td>\n",
       "      <td>2</td>\n",
       "      <td>0.453888</td>\n",
       "      <td>0.401366</td>\n",
       "      <td>0.854000</td>\n",
       "      <td>71.194594</td>\n",
       "      <td>41</td>\n",
       "      <td>1155840000</td>\n",
       "    </tr>\n",
       "    <tr>\n",
       "      <th>2</th>\n",
       "      <td>1</td>\n",
       "      <td>3</td>\n",
       "      <td>0.390113</td>\n",
       "      <td>0.373390</td>\n",
       "      <td>0.862611</td>\n",
       "      <td>75.146706</td>\n",
       "      <td>45</td>\n",
       "      <td>1155840000</td>\n",
       "    </tr>\n",
       "    <tr>\n",
       "      <th>3</th>\n",
       "      <td>1</td>\n",
       "      <td>4</td>\n",
       "      <td>0.355201</td>\n",
       "      <td>0.359322</td>\n",
       "      <td>0.868111</td>\n",
       "      <td>74.326355</td>\n",
       "      <td>37</td>\n",
       "      <td>1155840000</td>\n",
       "    </tr>\n",
       "    <tr>\n",
       "      <th>4</th>\n",
       "      <td>1</td>\n",
       "      <td>5</td>\n",
       "      <td>0.332832</td>\n",
       "      <td>0.343148</td>\n",
       "      <td>0.875833</td>\n",
       "      <td>73.366607</td>\n",
       "      <td>45</td>\n",
       "      <td>1155840000</td>\n",
       "    </tr>\n",
       "    <tr>\n",
       "      <th>...</th>\n",
       "      <td>...</td>\n",
       "      <td>...</td>\n",
       "      <td>...</td>\n",
       "      <td>...</td>\n",
       "      <td>...</td>\n",
       "      <td>...</td>\n",
       "      <td>...</td>\n",
       "      <td>...</td>\n",
       "    </tr>\n",
       "    <tr>\n",
       "      <th>150</th>\n",
       "      <td>5</td>\n",
       "      <td>27</td>\n",
       "      <td>0.149440</td>\n",
       "      <td>0.353921</td>\n",
       "      <td>0.886667</td>\n",
       "      <td>69.492060</td>\n",
       "      <td>55</td>\n",
       "      <td>1155840000</td>\n",
       "    </tr>\n",
       "    <tr>\n",
       "      <th>151</th>\n",
       "      <td>5</td>\n",
       "      <td>28</td>\n",
       "      <td>0.141167</td>\n",
       "      <td>0.359715</td>\n",
       "      <td>0.885722</td>\n",
       "      <td>71.163831</td>\n",
       "      <td>45</td>\n",
       "      <td>1155840000</td>\n",
       "    </tr>\n",
       "    <tr>\n",
       "      <th>152</th>\n",
       "      <td>5</td>\n",
       "      <td>29</td>\n",
       "      <td>0.138578</td>\n",
       "      <td>0.369068</td>\n",
       "      <td>0.885833</td>\n",
       "      <td>70.027620</td>\n",
       "      <td>51</td>\n",
       "      <td>1155840000</td>\n",
       "    </tr>\n",
       "    <tr>\n",
       "      <th>153</th>\n",
       "      <td>5</td>\n",
       "      <td>30</td>\n",
       "      <td>0.134394</td>\n",
       "      <td>0.360469</td>\n",
       "      <td>0.887778</td>\n",
       "      <td>71.962833</td>\n",
       "      <td>45</td>\n",
       "      <td>1155840000</td>\n",
       "    </tr>\n",
       "    <tr>\n",
       "      <th>154</th>\n",
       "      <td>5</td>\n",
       "      <td>-1</td>\n",
       "      <td>NaN</td>\n",
       "      <td>0.341738</td>\n",
       "      <td>0.876900</td>\n",
       "      <td>2.160849</td>\n",
       "      <td>0</td>\n",
       "      <td>0</td>\n",
       "    </tr>\n",
       "  </tbody>\n",
       "</table>\n",
       "<p>155 rows × 8 columns</p>\n",
       "</div>"
      ],
      "text/plain": [
       "     execution  epoch  train_loss  val_loss   val_acc       time   \n",
       "0            1      1    0.872109  0.512934  0.810389  75.521816  \\\n",
       "1            1      2    0.453888  0.401366  0.854000  71.194594   \n",
       "2            1      3    0.390113  0.373390  0.862611  75.146706   \n",
       "3            1      4    0.355201  0.359322  0.868111  74.326355   \n",
       "4            1      5    0.332832  0.343148  0.875833  73.366607   \n",
       "..         ...    ...         ...       ...       ...        ...   \n",
       "150          5     27    0.149440  0.353921  0.886667  69.492060   \n",
       "151          5     28    0.141167  0.359715  0.885722  71.163831   \n",
       "152          5     29    0.138578  0.369068  0.885833  70.027620   \n",
       "153          5     30    0.134394  0.360469  0.887778  71.962833   \n",
       "154          5     -1         NaN  0.341738  0.876900   2.160849   \n",
       "\n",
       "     zero_relu_call  total_relu_call  \n",
       "0                55       1155840000  \n",
       "1                41       1155840000  \n",
       "2                45       1155840000  \n",
       "3                37       1155840000  \n",
       "4                45       1155840000  \n",
       "..              ...              ...  \n",
       "150              55       1155840000  \n",
       "151              45       1155840000  \n",
       "152              51       1155840000  \n",
       "153              45       1155840000  \n",
       "154               0                0  \n",
       "\n",
       "[155 rows x 8 columns]"
      ]
     },
     "execution_count": 2,
     "metadata": {},
     "output_type": "execute_result"
    }
   ],
   "source": [
    "df_count = pd.read_csv(\"results/mobilenet/count.csv\")\n",
    "df_count"
   ]
  },
  {
   "cell_type": "code",
   "execution_count": 3,
   "metadata": {},
   "outputs": [
    {
     "data": {
      "text/html": [
       "<div>\n",
       "<style scoped>\n",
       "    .dataframe tbody tr th:only-of-type {\n",
       "        vertical-align: middle;\n",
       "    }\n",
       "\n",
       "    .dataframe tbody tr th {\n",
       "        vertical-align: top;\n",
       "    }\n",
       "\n",
       "    .dataframe thead th {\n",
       "        text-align: right;\n",
       "    }\n",
       "</style>\n",
       "<table border=\"1\" class=\"dataframe\">\n",
       "  <thead>\n",
       "    <tr style=\"text-align: right;\">\n",
       "      <th></th>\n",
       "      <th>execution</th>\n",
       "      <th>epoch</th>\n",
       "      <th>train_loss</th>\n",
       "      <th>val_loss</th>\n",
       "      <th>val_acc</th>\n",
       "      <th>time</th>\n",
       "      <th>zero_relu_call</th>\n",
       "      <th>total_relu_call</th>\n",
       "    </tr>\n",
       "  </thead>\n",
       "  <tbody>\n",
       "    <tr>\n",
       "      <th>0</th>\n",
       "      <td>1</td>\n",
       "      <td>1</td>\n",
       "      <td>0.867778</td>\n",
       "      <td>0.485624</td>\n",
       "      <td>0.823167</td>\n",
       "      <td>59.413528</td>\n",
       "      <td>0</td>\n",
       "      <td>0</td>\n",
       "    </tr>\n",
       "    <tr>\n",
       "      <th>1</th>\n",
       "      <td>1</td>\n",
       "      <td>2</td>\n",
       "      <td>0.442893</td>\n",
       "      <td>0.430652</td>\n",
       "      <td>0.843222</td>\n",
       "      <td>58.440686</td>\n",
       "      <td>0</td>\n",
       "      <td>0</td>\n",
       "    </tr>\n",
       "    <tr>\n",
       "      <th>2</th>\n",
       "      <td>1</td>\n",
       "      <td>3</td>\n",
       "      <td>0.381076</td>\n",
       "      <td>0.368019</td>\n",
       "      <td>0.868611</td>\n",
       "      <td>58.661891</td>\n",
       "      <td>0</td>\n",
       "      <td>0</td>\n",
       "    </tr>\n",
       "    <tr>\n",
       "      <th>3</th>\n",
       "      <td>1</td>\n",
       "      <td>4</td>\n",
       "      <td>0.344995</td>\n",
       "      <td>0.352069</td>\n",
       "      <td>0.871667</td>\n",
       "      <td>58.187815</td>\n",
       "      <td>0</td>\n",
       "      <td>0</td>\n",
       "    </tr>\n",
       "    <tr>\n",
       "      <th>4</th>\n",
       "      <td>1</td>\n",
       "      <td>5</td>\n",
       "      <td>0.323958</td>\n",
       "      <td>0.352690</td>\n",
       "      <td>0.872944</td>\n",
       "      <td>57.408447</td>\n",
       "      <td>0</td>\n",
       "      <td>0</td>\n",
       "    </tr>\n",
       "    <tr>\n",
       "      <th>...</th>\n",
       "      <td>...</td>\n",
       "      <td>...</td>\n",
       "      <td>...</td>\n",
       "      <td>...</td>\n",
       "      <td>...</td>\n",
       "      <td>...</td>\n",
       "      <td>...</td>\n",
       "      <td>...</td>\n",
       "    </tr>\n",
       "    <tr>\n",
       "      <th>150</th>\n",
       "      <td>5</td>\n",
       "      <td>27</td>\n",
       "      <td>0.151249</td>\n",
       "      <td>0.367697</td>\n",
       "      <td>0.885944</td>\n",
       "      <td>57.380189</td>\n",
       "      <td>0</td>\n",
       "      <td>0</td>\n",
       "    </tr>\n",
       "    <tr>\n",
       "      <th>151</th>\n",
       "      <td>5</td>\n",
       "      <td>28</td>\n",
       "      <td>0.145998</td>\n",
       "      <td>0.347743</td>\n",
       "      <td>0.890500</td>\n",
       "      <td>57.770874</td>\n",
       "      <td>0</td>\n",
       "      <td>0</td>\n",
       "    </tr>\n",
       "    <tr>\n",
       "      <th>152</th>\n",
       "      <td>5</td>\n",
       "      <td>29</td>\n",
       "      <td>0.145465</td>\n",
       "      <td>0.352235</td>\n",
       "      <td>0.889000</td>\n",
       "      <td>57.696323</td>\n",
       "      <td>0</td>\n",
       "      <td>0</td>\n",
       "    </tr>\n",
       "    <tr>\n",
       "      <th>153</th>\n",
       "      <td>5</td>\n",
       "      <td>30</td>\n",
       "      <td>0.140254</td>\n",
       "      <td>0.359617</td>\n",
       "      <td>0.884944</td>\n",
       "      <td>56.941990</td>\n",
       "      <td>0</td>\n",
       "      <td>0</td>\n",
       "    </tr>\n",
       "    <tr>\n",
       "      <th>154</th>\n",
       "      <td>5</td>\n",
       "      <td>-1</td>\n",
       "      <td>NaN</td>\n",
       "      <td>0.328481</td>\n",
       "      <td>0.886400</td>\n",
       "      <td>2.073194</td>\n",
       "      <td>0</td>\n",
       "      <td>0</td>\n",
       "    </tr>\n",
       "  </tbody>\n",
       "</table>\n",
       "<p>155 rows × 8 columns</p>\n",
       "</div>"
      ],
      "text/plain": [
       "     execution  epoch  train_loss  val_loss   val_acc       time   \n",
       "0            1      1    0.867778  0.485624  0.823167  59.413528  \\\n",
       "1            1      2    0.442893  0.430652  0.843222  58.440686   \n",
       "2            1      3    0.381076  0.368019  0.868611  58.661891   \n",
       "3            1      4    0.344995  0.352069  0.871667  58.187815   \n",
       "4            1      5    0.323958  0.352690  0.872944  57.408447   \n",
       "..         ...    ...         ...       ...       ...        ...   \n",
       "150          5     27    0.151249  0.367697  0.885944  57.380189   \n",
       "151          5     28    0.145998  0.347743  0.890500  57.770874   \n",
       "152          5     29    0.145465  0.352235  0.889000  57.696323   \n",
       "153          5     30    0.140254  0.359617  0.884944  56.941990   \n",
       "154          5     -1         NaN  0.328481  0.886400   2.073194   \n",
       "\n",
       "     zero_relu_call  total_relu_call  \n",
       "0                 0                0  \n",
       "1                 0                0  \n",
       "2                 0                0  \n",
       "3                 0                0  \n",
       "4                 0                0  \n",
       "..              ...              ...  \n",
       "150               0                0  \n",
       "151               0                0  \n",
       "152               0                0  \n",
       "153               0                0  \n",
       "154               0                0  \n",
       "\n",
       "[155 rows x 8 columns]"
      ]
     },
     "execution_count": 3,
     "metadata": {},
     "output_type": "execute_result"
    }
   ],
   "source": [
    "df_original = pd.read_csv(\"results/mobilenet/original.csv\")\n",
    "df_original"
   ]
  },
  {
   "cell_type": "code",
   "execution_count": 4,
   "metadata": {},
   "outputs": [
    {
     "data": {
      "text/html": [
       "<div>\n",
       "<style scoped>\n",
       "    .dataframe tbody tr th:only-of-type {\n",
       "        vertical-align: middle;\n",
       "    }\n",
       "\n",
       "    .dataframe tbody tr th {\n",
       "        vertical-align: top;\n",
       "    }\n",
       "\n",
       "    .dataframe thead th {\n",
       "        text-align: right;\n",
       "    }\n",
       "</style>\n",
       "<table border=\"1\" class=\"dataframe\">\n",
       "  <thead>\n",
       "    <tr style=\"text-align: right;\">\n",
       "      <th></th>\n",
       "      <th>execution</th>\n",
       "      <th>epoch</th>\n",
       "      <th>train_loss</th>\n",
       "      <th>val_loss</th>\n",
       "      <th>val_acc</th>\n",
       "      <th>time</th>\n",
       "      <th>zero_relu_call</th>\n",
       "      <th>total_relu_call</th>\n",
       "    </tr>\n",
       "  </thead>\n",
       "  <tbody>\n",
       "    <tr>\n",
       "      <th>0</th>\n",
       "      <td>1</td>\n",
       "      <td>1</td>\n",
       "      <td>0.847416</td>\n",
       "      <td>0.466876</td>\n",
       "      <td>0.833778</td>\n",
       "      <td>56.699886</td>\n",
       "      <td>0</td>\n",
       "      <td>0</td>\n",
       "    </tr>\n",
       "    <tr>\n",
       "      <th>1</th>\n",
       "      <td>1</td>\n",
       "      <td>2</td>\n",
       "      <td>0.441914</td>\n",
       "      <td>0.385732</td>\n",
       "      <td>0.860889</td>\n",
       "      <td>55.908956</td>\n",
       "      <td>0</td>\n",
       "      <td>0</td>\n",
       "    </tr>\n",
       "    <tr>\n",
       "      <th>2</th>\n",
       "      <td>1</td>\n",
       "      <td>3</td>\n",
       "      <td>0.378976</td>\n",
       "      <td>0.372250</td>\n",
       "      <td>0.865667</td>\n",
       "      <td>56.494502</td>\n",
       "      <td>0</td>\n",
       "      <td>0</td>\n",
       "    </tr>\n",
       "    <tr>\n",
       "      <th>3</th>\n",
       "      <td>1</td>\n",
       "      <td>4</td>\n",
       "      <td>0.341760</td>\n",
       "      <td>0.349530</td>\n",
       "      <td>0.872111</td>\n",
       "      <td>56.910917</td>\n",
       "      <td>0</td>\n",
       "      <td>0</td>\n",
       "    </tr>\n",
       "    <tr>\n",
       "      <th>4</th>\n",
       "      <td>1</td>\n",
       "      <td>5</td>\n",
       "      <td>0.319286</td>\n",
       "      <td>0.359699</td>\n",
       "      <td>0.868889</td>\n",
       "      <td>57.313591</td>\n",
       "      <td>0</td>\n",
       "      <td>0</td>\n",
       "    </tr>\n",
       "    <tr>\n",
       "      <th>...</th>\n",
       "      <td>...</td>\n",
       "      <td>...</td>\n",
       "      <td>...</td>\n",
       "      <td>...</td>\n",
       "      <td>...</td>\n",
       "      <td>...</td>\n",
       "      <td>...</td>\n",
       "      <td>...</td>\n",
       "    </tr>\n",
       "    <tr>\n",
       "      <th>150</th>\n",
       "      <td>5</td>\n",
       "      <td>27</td>\n",
       "      <td>0.135458</td>\n",
       "      <td>0.401152</td>\n",
       "      <td>0.885278</td>\n",
       "      <td>55.500796</td>\n",
       "      <td>0</td>\n",
       "      <td>0</td>\n",
       "    </tr>\n",
       "    <tr>\n",
       "      <th>151</th>\n",
       "      <td>5</td>\n",
       "      <td>28</td>\n",
       "      <td>0.130780</td>\n",
       "      <td>0.387522</td>\n",
       "      <td>0.885333</td>\n",
       "      <td>55.271886</td>\n",
       "      <td>0</td>\n",
       "      <td>0</td>\n",
       "    </tr>\n",
       "    <tr>\n",
       "      <th>152</th>\n",
       "      <td>5</td>\n",
       "      <td>29</td>\n",
       "      <td>0.133340</td>\n",
       "      <td>0.377723</td>\n",
       "      <td>0.884167</td>\n",
       "      <td>53.935665</td>\n",
       "      <td>0</td>\n",
       "      <td>0</td>\n",
       "    </tr>\n",
       "    <tr>\n",
       "      <th>153</th>\n",
       "      <td>5</td>\n",
       "      <td>30</td>\n",
       "      <td>0.123612</td>\n",
       "      <td>0.393526</td>\n",
       "      <td>0.882333</td>\n",
       "      <td>55.312011</td>\n",
       "      <td>0</td>\n",
       "      <td>0</td>\n",
       "    </tr>\n",
       "    <tr>\n",
       "      <th>154</th>\n",
       "      <td>5</td>\n",
       "      <td>-1</td>\n",
       "      <td>NaN</td>\n",
       "      <td>0.334602</td>\n",
       "      <td>0.877600</td>\n",
       "      <td>2.124721</td>\n",
       "      <td>0</td>\n",
       "      <td>0</td>\n",
       "    </tr>\n",
       "  </tbody>\n",
       "</table>\n",
       "<p>155 rows × 8 columns</p>\n",
       "</div>"
      ],
      "text/plain": [
       "     execution  epoch  train_loss  val_loss   val_acc       time   \n",
       "0            1      1    0.847416  0.466876  0.833778  56.699886  \\\n",
       "1            1      2    0.441914  0.385732  0.860889  55.908956   \n",
       "2            1      3    0.378976  0.372250  0.865667  56.494502   \n",
       "3            1      4    0.341760  0.349530  0.872111  56.910917   \n",
       "4            1      5    0.319286  0.359699  0.868889  57.313591   \n",
       "..         ...    ...         ...       ...       ...        ...   \n",
       "150          5     27    0.135458  0.401152  0.885278  55.500796   \n",
       "151          5     28    0.130780  0.387522  0.885333  55.271886   \n",
       "152          5     29    0.133340  0.377723  0.884167  53.935665   \n",
       "153          5     30    0.123612  0.393526  0.882333  55.312011   \n",
       "154          5     -1         NaN  0.334602  0.877600   2.124721   \n",
       "\n",
       "     zero_relu_call  total_relu_call  \n",
       "0                 0                0  \n",
       "1                 0                0  \n",
       "2                 0                0  \n",
       "3                 0                0  \n",
       "4                 0                0  \n",
       "..              ...              ...  \n",
       "150               0                0  \n",
       "151               0                0  \n",
       "152               0                0  \n",
       "153               0                0  \n",
       "154               0                0  \n",
       "\n",
       "[155 rows x 8 columns]"
      ]
     },
     "execution_count": 4,
     "metadata": {},
     "output_type": "execute_result"
    }
   ],
   "source": [
    "df_diff = pd.read_csv(\"results/mobilenet/diff.csv\")\n",
    "df_diff"
   ]
  },
  {
   "cell_type": "code",
   "execution_count": 5,
   "metadata": {},
   "outputs": [],
   "source": [
    "# splitting training and test\n",
    "df_count_train = df_count[df_count[\"epoch\"] != -1]\n",
    "df_count_test = df_count[df_count[\"epoch\"] == -1]\n",
    "df_original_train = df_original[df_original[\"epoch\"] != -1]\n",
    "df_original_test = df_original[df_original[\"epoch\"] == -1]\n",
    "df_diff_train = df_diff[df_diff[\"epoch\"] != -1]\n",
    "df_diff_test = df_diff[df_diff[\"epoch\"] == -1]"
   ]
  },
  {
   "cell_type": "code",
   "execution_count": 6,
   "metadata": {},
   "outputs": [
    {
     "name": "stderr",
     "output_type": "stream",
     "text": [
      "/tmp/ipykernel_3697/561248041.py:2: SettingWithCopyWarning: \n",
      "A value is trying to be set on a copy of a slice from a DataFrame.\n",
      "Try using .loc[row_indexer,col_indexer] = value instead\n",
      "\n",
      "See the caveats in the documentation: https://pandas.pydata.org/pandas-docs/stable/user_guide/indexing.html#returning-a-view-versus-a-copy\n",
      "  df_count_train[\"relu_proportion\"] = df_count_train[\"zero_relu_call\"] / df_count_train[\"total_relu_call\"]\n",
      "/tmp/ipykernel_3697/561248041.py:3: SettingWithCopyWarning: \n",
      "A value is trying to be set on a copy of a slice from a DataFrame.\n",
      "Try using .loc[row_indexer,col_indexer] = value instead\n",
      "\n",
      "See the caveats in the documentation: https://pandas.pydata.org/pandas-docs/stable/user_guide/indexing.html#returning-a-view-versus-a-copy\n",
      "  df_original_train[\"relu_proportion\"] = df_original_train[\"zero_relu_call\"] / df_original_train[\"total_relu_call\"]\n",
      "/tmp/ipykernel_3697/561248041.py:4: SettingWithCopyWarning: \n",
      "A value is trying to be set on a copy of a slice from a DataFrame.\n",
      "Try using .loc[row_indexer,col_indexer] = value instead\n",
      "\n",
      "See the caveats in the documentation: https://pandas.pydata.org/pandas-docs/stable/user_guide/indexing.html#returning-a-view-versus-a-copy\n",
      "  df_diff_train[\"relu_proportion\"] = df_diff_train[\"zero_relu_call\"] / df_diff_train[\"total_relu_call\"]\n"
     ]
    }
   ],
   "source": [
    "# add relu proportion\n",
    "df_count_train[\"relu_proportion\"] = df_count_train[\"zero_relu_call\"] / df_count_train[\"total_relu_call\"]\n",
    "df_original_train[\"relu_proportion\"] = df_original_train[\"zero_relu_call\"] / df_original_train[\"total_relu_call\"]\n",
    "df_diff_train[\"relu_proportion\"] = df_diff_train[\"zero_relu_call\"] / df_diff_train[\"total_relu_call\"]"
   ]
  },
  {
   "cell_type": "markdown",
   "metadata": {},
   "source": [
    "## Frequência da ReLU"
   ]
  },
  {
   "cell_type": "markdown",
   "metadata": {},
   "source": [
    "Tamanho da rede: 1_528_106"
   ]
  },
  {
   "cell_type": "code",
   "execution_count": 7,
   "metadata": {},
   "outputs": [
    {
     "name": "stdout",
     "output_type": "stream",
     "text": [
      "Proporção Média da ReLU: 4.6436646363971944e-08    1/21_534_716\n"
     ]
    }
   ],
   "source": [
    "temp = df_count_train.groupby(\"execution\").sum()\n",
    "relu_proportion = temp[\"zero_relu_call\"] / temp[\"total_relu_call\"]\n",
    "print(f\"Proporção Média da ReLU: {relu_proportion.mean()}    1/{round(1/relu_proportion.mean()):_}\")"
   ]
  },
  {
   "cell_type": "code",
   "execution_count": 8,
   "metadata": {},
   "outputs": [
    {
     "data": {
      "text/plain": [
       "<Axes: xlabel='epoch', ylabel='relu_proportion'>"
      ]
     },
     "execution_count": 8,
     "metadata": {},
     "output_type": "execute_result"
    },
    {
     "data": {
      "image/png": "[encoded data removed]",
      "text/plain": [
       "<Figure size 640x480 with 1 Axes>"
      ]
     },
     "metadata": {},
     "output_type": "display_data"
    }
   ],
   "source": [
    "df_train_avg = df_count_train.groupby(\"epoch\").mean()\n",
    "sns.lineplot(data=df_train_avg, x=\"epoch\", y=\"relu_proportion\")"
   ]
  },
  {
   "cell_type": "markdown",
   "metadata": {},
   "source": [
    "## Eficiência do Modelo"
   ]
  },
  {
   "cell_type": "code",
   "execution_count": 9,
   "metadata": {},
   "outputs": [
    {
     "name": "stdout",
     "output_type": "stream",
     "text": [
      "Acurácia (teste) média: 87.98%\n"
     ]
    }
   ],
   "source": [
    "print(f\"Acurácia (teste) média: {round(100*df_count_test['val_acc'].mean(), 2)}%\")"
   ]
  },
  {
   "cell_type": "code",
   "execution_count": 10,
   "metadata": {},
   "outputs": [
    {
     "data": {
      "text/plain": [
       "<Axes: xlabel='epoch', ylabel='train_loss'>"
      ]
     },
     "execution_count": 10,
     "metadata": {},
     "output_type": "execute_result"
    },
    {
     "data": {
      "image/png": "[encoded data removed]",
      "text/plain": [
       "<Figure size 640x480 with 1 Axes>"
      ]
     },
     "metadata": {},
     "output_type": "display_data"
    }
   ],
   "source": [
    "sns.lineplot(data=df_train_avg, x=\"epoch\", y=\"train_loss\")\n",
    "sns.lineplot(data=df_train_avg, x=\"epoch\", y=\"val_loss\")"
   ]
  },
  {
   "cell_type": "code",
   "execution_count": 11,
   "metadata": {},
   "outputs": [
    {
     "name": "stdout",
     "output_type": "stream",
     "text": [
      "Tempo médio de treino: 35:55\n"
     ]
    }
   ],
   "source": [
    "df_train_sum = df_count_train.groupby(\"execution\").sum()\n",
    "seconds_avg = round(df_train_sum[\"time\"].mean())\n",
    "minutes_avg = seconds_avg // 60\n",
    "seconds_avg = seconds_avg % 60\n",
    "print(f\"Tempo médio de treino: {minutes_avg}:{seconds_avg}\")"
   ]
  },
  {
   "cell_type": "markdown",
   "metadata": {},
   "source": [
    "## Comparando com funções diferenciáveis"
   ]
  },
  {
   "cell_type": "code",
   "execution_count": 12,
   "metadata": {},
   "outputs": [],
   "source": [
    "df_train_avg_diff = df_diff_train.groupby(\"epoch\").mean()\n",
    "df_train_avg_original = df_original_train.groupby(\"epoch\").mean()"
   ]
  },
  {
   "cell_type": "code",
   "execution_count": 13,
   "metadata": {},
   "outputs": [
    {
     "data": {
      "text/plain": [
       "Text(0.5, 1.0, 'Tempo por Epoca')"
      ]
     },
     "execution_count": 13,
     "metadata": {},
     "output_type": "execute_result"
    },
    {
     "data": {
      "image/png": "[encoded data removed]",
      "text/plain": [
       "<Figure size 640x480 with 1 Axes>"
      ]
     },
     "metadata": {},
     "output_type": "display_data"
    }
   ],
   "source": [
    "temp = pd.DataFrame()\n",
    "temp[\"original\"] = df_train_avg_original[\"time\"]\n",
    "temp[\"diff\"] = df_train_avg_diff[\"time\"]\n",
    "temp[\"epoch\"] = df_train_avg.index\n",
    "temp = pd.melt(temp, [\"epoch\"])\n",
    "ax = sns.lineplot(data=temp, x=\"epoch\", y=\"value\", hue=\"variable\")\n",
    "ax.set_title(\"Tempo por Epoca\")"
   ]
  },
  {
   "cell_type": "code",
   "execution_count": 14,
   "metadata": {},
   "outputs": [
    {
     "name": "stdout",
     "output_type": "stream",
     "text": [
      "Tempo total de treino (não diff): 28:21\n",
      "Tempo total de treino (diff): 28:27\n",
      "Diferença: 0.35%\n"
     ]
    }
   ],
   "source": [
    "# tempo total de treino\n",
    "time_original = round(df_train_avg_original[\"time\"].sum())\n",
    "time_diff = round(df_train_avg_diff[\"time\"].sum())\n",
    "\n",
    "print(f\"Tempo total de treino (não diff): {time_original//60:02}:{time_original%60:02}\")\n",
    "print(f\"Tempo total de treino (diff): {time_diff//60:02}:{time_diff%60:02}\")\n",
    "print(f\"Diferença: {round(100*(time_diff - time_original) / time_original, 2)}%\")"
   ]
  },
  {
   "cell_type": "code",
   "execution_count": 15,
   "metadata": {},
   "outputs": [
    {
     "data": {
      "text/plain": [
       "Text(0.5, 1.0, 'Loss (Treino) por Epoca')"
      ]
     },
     "execution_count": 15,
     "metadata": {},
     "output_type": "execute_result"
    },
    {
     "data": {
      "image/png": "[encoded data removed]",
      "text/plain": [
       "<Figure size 640x480 with 1 Axes>"
      ]
     },
     "metadata": {},
     "output_type": "display_data"
    }
   ],
   "source": [
    "temp = pd.DataFrame()\n",
    "temp[\"original\"] = df_train_avg_original[\"train_loss\"]\n",
    "temp[\"diff\"] = df_train_avg_diff[\"train_loss\"]\n",
    "temp[\"epoch\"] = df_train_avg.index\n",
    "temp = pd.melt(temp, [\"epoch\"])\n",
    "ax = sns.lineplot(data=temp, x=\"epoch\", y=\"value\", hue=\"variable\")\n",
    "ax.set_title(\"Loss (Treino) por Epoca\")"
   ]
  },
  {
   "cell_type": "code",
   "execution_count": 16,
   "metadata": {},
   "outputs": [
    {
     "data": {
      "text/plain": [
       "Text(0.5, 1.0, 'Loss (Validacao) por Epoca')"
      ]
     },
     "execution_count": 16,
     "metadata": {},
     "output_type": "execute_result"
    },
    {
     "data": {
      "image/png": "[encoded data removed]",
      "text/plain": [
       "<Figure size 640x480 with 1 Axes>"
      ]
     },
     "metadata": {},
     "output_type": "display_data"
    }
   ],
   "source": [
    "temp = pd.DataFrame()\n",
    "temp[\"original\"] = df_train_avg_original[\"val_loss\"]\n",
    "temp[\"diff\"] = df_train_avg_diff[\"val_loss\"]\n",
    "temp[\"epoch\"] = df_train_avg.index\n",
    "temp = pd.melt(temp, [\"epoch\"])\n",
    "ax = sns.lineplot(data=temp, x=\"epoch\", y=\"value\", hue=\"variable\")\n",
    "ax.set_title(\"Loss (Validacao) por Epoca\")"
   ]
  },
  {
   "cell_type": "code",
   "execution_count": 17,
   "metadata": {},
   "outputs": [
    {
     "data": {
      "text/plain": [
       "Text(0.5, 1.0, 'Acurácia (Validacao) por Epoca')"
      ]
     },
     "execution_count": 17,
     "metadata": {},
     "output_type": "execute_result"
    },
    {
     "data": {
      "image/png": "[encoded data removed]",
      "text/plain": [
       "<Figure size 640x480 with 1 Axes>"
      ]
     },
     "metadata": {},
     "output_type": "display_data"
    }
   ],
   "source": [
    "temp = pd.DataFrame()\n",
    "temp[\"original\"] = df_train_avg_original[\"val_acc\"]\n",
    "temp[\"diff\"] = df_train_avg_diff[\"val_acc\"]\n",
    "temp[\"epoch\"] = df_train_avg.index\n",
    "temp = pd.melt(temp, [\"epoch\"])\n",
    "ax = sns.lineplot(data=temp, x=\"epoch\", y=\"value\", hue=\"variable\")\n",
    "ax.set_title(\"Acurácia (Validacao) por Epoca\")"
   ]
  },
  {
   "cell_type": "code",
   "execution_count": 18,
   "metadata": {},
   "outputs": [
    {
     "data": {
      "text/html": [
       "<div>\n",
       "<style scoped>\n",
       "    .dataframe tbody tr th:only-of-type {\n",
       "        vertical-align: middle;\n",
       "    }\n",
       "\n",
       "    .dataframe tbody tr th {\n",
       "        vertical-align: top;\n",
       "    }\n",
       "\n",
       "    .dataframe thead th {\n",
       "        text-align: right;\n",
       "    }\n",
       "</style>\n",
       "<table border=\"1\" class=\"dataframe\">\n",
       "  <thead>\n",
       "    <tr style=\"text-align: right;\">\n",
       "      <th></th>\n",
       "      <th>execution</th>\n",
       "      <th>train_loss</th>\n",
       "      <th>val_loss</th>\n",
       "      <th>val_acc</th>\n",
       "      <th>time</th>\n",
       "      <th>zero_relu_call</th>\n",
       "      <th>total_relu_call</th>\n",
       "      <th>relu_proportion</th>\n",
       "    </tr>\n",
       "    <tr>\n",
       "      <th>epoch</th>\n",
       "      <th></th>\n",
       "      <th></th>\n",
       "      <th></th>\n",
       "      <th></th>\n",
       "      <th></th>\n",
       "      <th></th>\n",
       "      <th></th>\n",
       "      <th></th>\n",
       "    </tr>\n",
       "  </thead>\n",
       "  <tbody>\n",
       "    <tr>\n",
       "      <th>13</th>\n",
       "      <td>3.0</td>\n",
       "      <td>0.228486</td>\n",
       "      <td>0.312223</td>\n",
       "      <td>0.8876</td>\n",
       "      <td>56.734712</td>\n",
       "      <td>0.0</td>\n",
       "      <td>0.0</td>\n",
       "      <td>NaN</td>\n",
       "    </tr>\n",
       "  </tbody>\n",
       "</table>\n",
       "</div>"
      ],
      "text/plain": [
       "       execution  train_loss  val_loss  val_acc       time  zero_relu_call   \n",
       "epoch                                                                        \n",
       "13           3.0    0.228486  0.312223   0.8876  56.734712             0.0  \\\n",
       "\n",
       "       total_relu_call  relu_proportion  \n",
       "epoch                                    \n",
       "13                 0.0              NaN  "
      ]
     },
     "execution_count": 18,
     "metadata": {},
     "output_type": "execute_result"
    }
   ],
   "source": [
    "# melhor época original\n",
    "best_original = df_train_avg_original[df_train_avg_original[\"val_loss\"] == df_train_avg_original[\"val_loss\"].min()]\n",
    "best_original"
   ]
  },
  {
   "cell_type": "code",
   "execution_count": 19,
   "metadata": {},
   "outputs": [
    {
     "data": {
      "text/html": [
       "<div>\n",
       "<style scoped>\n",
       "    .dataframe tbody tr th:only-of-type {\n",
       "        vertical-align: middle;\n",
       "    }\n",
       "\n",
       "    .dataframe tbody tr th {\n",
       "        vertical-align: top;\n",
       "    }\n",
       "\n",
       "    .dataframe thead th {\n",
       "        text-align: right;\n",
       "    }\n",
       "</style>\n",
       "<table border=\"1\" class=\"dataframe\">\n",
       "  <thead>\n",
       "    <tr style=\"text-align: right;\">\n",
       "      <th></th>\n",
       "      <th>execution</th>\n",
       "      <th>train_loss</th>\n",
       "      <th>val_loss</th>\n",
       "      <th>val_acc</th>\n",
       "      <th>time</th>\n",
       "      <th>zero_relu_call</th>\n",
       "      <th>total_relu_call</th>\n",
       "      <th>relu_proportion</th>\n",
       "    </tr>\n",
       "    <tr>\n",
       "      <th>epoch</th>\n",
       "      <th></th>\n",
       "      <th></th>\n",
       "      <th></th>\n",
       "      <th></th>\n",
       "      <th></th>\n",
       "      <th></th>\n",
       "      <th></th>\n",
       "      <th></th>\n",
       "    </tr>\n",
       "  </thead>\n",
       "  <tbody>\n",
       "    <tr>\n",
       "      <th>12</th>\n",
       "      <td>3.0</td>\n",
       "      <td>0.225415</td>\n",
       "      <td>0.318697</td>\n",
       "      <td>0.885522</td>\n",
       "      <td>56.865655</td>\n",
       "      <td>0.0</td>\n",
       "      <td>0.0</td>\n",
       "      <td>NaN</td>\n",
       "    </tr>\n",
       "  </tbody>\n",
       "</table>\n",
       "</div>"
      ],
      "text/plain": [
       "       execution  train_loss  val_loss   val_acc       time  zero_relu_call   \n",
       "epoch                                                                         \n",
       "12           3.0    0.225415  0.318697  0.885522  56.865655             0.0  \\\n",
       "\n",
       "       total_relu_call  relu_proportion  \n",
       "epoch                                    \n",
       "12                 0.0              NaN  "
      ]
     },
     "execution_count": 19,
     "metadata": {},
     "output_type": "execute_result"
    }
   ],
   "source": [
    "# melhor época diff\n",
    "best_diff = df_train_avg_diff[df_train_avg_diff[\"val_loss\"] == df_train_avg_diff[\"val_loss\"].min()]\n",
    "best_diff"
   ]
  },
  {
   "cell_type": "code",
   "execution_count": 20,
   "metadata": {},
   "outputs": [
    {
     "data": {
      "text/html": [
       "<div>\n",
       "<style scoped>\n",
       "    .dataframe tbody tr th:only-of-type {\n",
       "        vertical-align: middle;\n",
       "    }\n",
       "\n",
       "    .dataframe tbody tr th {\n",
       "        vertical-align: top;\n",
       "    }\n",
       "\n",
       "    .dataframe thead th {\n",
       "        text-align: right;\n",
       "    }\n",
       "</style>\n",
       "<table border=\"1\" class=\"dataframe\">\n",
       "  <thead>\n",
       "    <tr style=\"text-align: right;\">\n",
       "      <th></th>\n",
       "      <th>Não Diferenciáveis</th>\n",
       "      <th>Diferenciáveis</th>\n",
       "      <th>Diferença (%)</th>\n",
       "    </tr>\n",
       "  </thead>\n",
       "  <tbody>\n",
       "    <tr>\n",
       "      <th>epoch</th>\n",
       "      <td>13.000000</td>\n",
       "      <td>12.000000</td>\n",
       "      <td>-7.692308</td>\n",
       "    </tr>\n",
       "    <tr>\n",
       "      <th>execution</th>\n",
       "      <td>3.000000</td>\n",
       "      <td>3.000000</td>\n",
       "      <td>0.000000</td>\n",
       "    </tr>\n",
       "    <tr>\n",
       "      <th>train_loss</th>\n",
       "      <td>0.228486</td>\n",
       "      <td>0.225415</td>\n",
       "      <td>-1.344006</td>\n",
       "    </tr>\n",
       "    <tr>\n",
       "      <th>val_loss</th>\n",
       "      <td>0.312223</td>\n",
       "      <td>0.318697</td>\n",
       "      <td>2.073568</td>\n",
       "    </tr>\n",
       "    <tr>\n",
       "      <th>val_acc</th>\n",
       "      <td>0.887600</td>\n",
       "      <td>0.885522</td>\n",
       "      <td>-0.234089</td>\n",
       "    </tr>\n",
       "    <tr>\n",
       "      <th>time</th>\n",
       "      <td>56.734712</td>\n",
       "      <td>56.865655</td>\n",
       "      <td>0.230798</td>\n",
       "    </tr>\n",
       "  </tbody>\n",
       "</table>\n",
       "</div>"
      ],
      "text/plain": [
       "            Não Diferenciáveis  Diferenciáveis  Diferença (%)\n",
       "epoch                13.000000       12.000000      -7.692308\n",
       "execution             3.000000        3.000000       0.000000\n",
       "train_loss            0.228486        0.225415      -1.344006\n",
       "val_loss              0.312223        0.318697       2.073568\n",
       "val_acc               0.887600        0.885522      -0.234089\n",
       "time                 56.734712       56.865655       0.230798"
      ]
     },
     "execution_count": 20,
     "metadata": {},
     "output_type": "execute_result"
    }
   ],
   "source": [
    "column_original = np.array([best_original.index[0]] + list(best_original.values[0]))[:6]\n",
    "column_diff = np.array([best_diff.index[0]] + list(best_diff.values[0]))[:6]\n",
    "column_difference = 100 * (column_diff - column_original) / column_original\n",
    "indexes = [\"epoch\"] + list(best_original)[:5]\n",
    "pd.DataFrame({\"Não Diferenciáveis\": column_original, \"Diferenciáveis\": column_diff, \"Diferença (%)\": column_difference}, index=indexes)"
   ]
  },
  {
   "cell_type": "code",
   "execution_count": 21,
   "metadata": {},
   "outputs": [
    {
     "name": "stdout",
     "output_type": "stream",
     "text": [
      "Tempo de treino até melhor época (não diff): 734\n",
      "Tempo de treino até melhor época (diff): 685\n",
      "Diferença: -6.68%\n"
     ]
    }
   ],
   "source": [
    "# tempo para chegar na melhor época\n",
    "epoch_original = df_train_avg_original[df_train_avg_original[\"val_loss\"] == df_train_avg_original[\"val_loss\"].min()].index[0]\n",
    "epoch_diff = df_train_avg_diff[df_train_avg_diff[\"val_loss\"] == df_train_avg_diff[\"val_loss\"].min()].index[0]\n",
    "\n",
    "time_original = round(df_train_avg_original.head(epoch_original)[\"time\"].sum())\n",
    "time_diff = round(df_train_avg_diff.head(epoch_diff)[\"time\"].sum())\n",
    "\n",
    "#print(f\"Tempo de treino até melhor época (não diff): {time_original//60:02}:{time_original%60:02}\")\n",
    "#print(f\"Tempo de treino até melhor época (diff): {time_diff//60:02}:{time_diff%60:02}\")\n",
    "print(f\"Tempo de treino até melhor época (não diff): {time_original}\")\n",
    "print(f\"Tempo de treino até melhor época (diff): {time_diff}\")\n",
    "print(f\"Diferença: {round(100*(time_diff - time_original) / time_original, 2)}%\")"
   ]
  },
  {
   "cell_type": "markdown",
   "metadata": {},
   "source": [
    "## Avaliação nos dados de teste"
   ]
  },
  {
   "cell_type": "code",
   "execution_count": 22,
   "metadata": {},
   "outputs": [
    {
     "data": {
      "text/html": [
       "<div>\n",
       "<style scoped>\n",
       "    .dataframe tbody tr th:only-of-type {\n",
       "        vertical-align: middle;\n",
       "    }\n",
       "\n",
       "    .dataframe tbody tr th {\n",
       "        vertical-align: top;\n",
       "    }\n",
       "\n",
       "    .dataframe thead th {\n",
       "        text-align: right;\n",
       "    }\n",
       "</style>\n",
       "<table border=\"1\" class=\"dataframe\">\n",
       "  <thead>\n",
       "    <tr style=\"text-align: right;\">\n",
       "      <th></th>\n",
       "      <th>execution</th>\n",
       "      <th>epoch</th>\n",
       "      <th>train_loss</th>\n",
       "      <th>val_loss</th>\n",
       "      <th>val_acc</th>\n",
       "      <th>time</th>\n",
       "      <th>zero_relu_call</th>\n",
       "      <th>total_relu_call</th>\n",
       "    </tr>\n",
       "  </thead>\n",
       "  <tbody>\n",
       "    <tr>\n",
       "      <th>30</th>\n",
       "      <td>1</td>\n",
       "      <td>-1</td>\n",
       "      <td>NaN</td>\n",
       "      <td>0.329673</td>\n",
       "      <td>0.8807</td>\n",
       "      <td>2.102128</td>\n",
       "      <td>0</td>\n",
       "      <td>0</td>\n",
       "    </tr>\n",
       "    <tr>\n",
       "      <th>61</th>\n",
       "      <td>2</td>\n",
       "      <td>-1</td>\n",
       "      <td>NaN</td>\n",
       "      <td>0.329113</td>\n",
       "      <td>0.8842</td>\n",
       "      <td>2.074679</td>\n",
       "      <td>0</td>\n",
       "      <td>0</td>\n",
       "    </tr>\n",
       "    <tr>\n",
       "      <th>92</th>\n",
       "      <td>3</td>\n",
       "      <td>-1</td>\n",
       "      <td>NaN</td>\n",
       "      <td>0.324157</td>\n",
       "      <td>0.8831</td>\n",
       "      <td>2.090022</td>\n",
       "      <td>0</td>\n",
       "      <td>0</td>\n",
       "    </tr>\n",
       "    <tr>\n",
       "      <th>123</th>\n",
       "      <td>4</td>\n",
       "      <td>-1</td>\n",
       "      <td>NaN</td>\n",
       "      <td>0.332741</td>\n",
       "      <td>0.8815</td>\n",
       "      <td>2.089263</td>\n",
       "      <td>0</td>\n",
       "      <td>0</td>\n",
       "    </tr>\n",
       "    <tr>\n",
       "      <th>154</th>\n",
       "      <td>5</td>\n",
       "      <td>-1</td>\n",
       "      <td>NaN</td>\n",
       "      <td>0.334602</td>\n",
       "      <td>0.8776</td>\n",
       "      <td>2.124721</td>\n",
       "      <td>0</td>\n",
       "      <td>0</td>\n",
       "    </tr>\n",
       "  </tbody>\n",
       "</table>\n",
       "</div>"
      ],
      "text/plain": [
       "     execution  epoch  train_loss  val_loss  val_acc      time   \n",
       "30           1     -1         NaN  0.329673   0.8807  2.102128  \\\n",
       "61           2     -1         NaN  0.329113   0.8842  2.074679   \n",
       "92           3     -1         NaN  0.324157   0.8831  2.090022   \n",
       "123          4     -1         NaN  0.332741   0.8815  2.089263   \n",
       "154          5     -1         NaN  0.334602   0.8776  2.124721   \n",
       "\n",
       "     zero_relu_call  total_relu_call  \n",
       "30                0                0  \n",
       "61                0                0  \n",
       "92                0                0  \n",
       "123               0                0  \n",
       "154               0                0  "
      ]
     },
     "execution_count": 22,
     "metadata": {},
     "output_type": "execute_result"
    }
   ],
   "source": [
    "df_diff_test"
   ]
  },
  {
   "cell_type": "code",
   "execution_count": 23,
   "metadata": {},
   "outputs": [
    {
     "data": {
      "text/html": [
       "<div>\n",
       "<style scoped>\n",
       "    .dataframe tbody tr th:only-of-type {\n",
       "        vertical-align: middle;\n",
       "    }\n",
       "\n",
       "    .dataframe tbody tr th {\n",
       "        vertical-align: top;\n",
       "    }\n",
       "\n",
       "    .dataframe thead th {\n",
       "        text-align: right;\n",
       "    }\n",
       "</style>\n",
       "<table border=\"1\" class=\"dataframe\">\n",
       "  <thead>\n",
       "    <tr style=\"text-align: right;\">\n",
       "      <th></th>\n",
       "      <th>execution</th>\n",
       "      <th>epoch</th>\n",
       "      <th>train_loss</th>\n",
       "      <th>val_loss</th>\n",
       "      <th>val_acc</th>\n",
       "      <th>time</th>\n",
       "      <th>zero_relu_call</th>\n",
       "      <th>total_relu_call</th>\n",
       "    </tr>\n",
       "  </thead>\n",
       "  <tbody>\n",
       "    <tr>\n",
       "      <th>30</th>\n",
       "      <td>1</td>\n",
       "      <td>-1</td>\n",
       "      <td>NaN</td>\n",
       "      <td>0.324862</td>\n",
       "      <td>0.8811</td>\n",
       "      <td>2.135804</td>\n",
       "      <td>0</td>\n",
       "      <td>0</td>\n",
       "    </tr>\n",
       "    <tr>\n",
       "      <th>61</th>\n",
       "      <td>2</td>\n",
       "      <td>-1</td>\n",
       "      <td>NaN</td>\n",
       "      <td>0.324846</td>\n",
       "      <td>0.8810</td>\n",
       "      <td>2.120873</td>\n",
       "      <td>0</td>\n",
       "      <td>0</td>\n",
       "    </tr>\n",
       "    <tr>\n",
       "      <th>92</th>\n",
       "      <td>3</td>\n",
       "      <td>-1</td>\n",
       "      <td>NaN</td>\n",
       "      <td>0.325891</td>\n",
       "      <td>0.8820</td>\n",
       "      <td>2.097877</td>\n",
       "      <td>0</td>\n",
       "      <td>0</td>\n",
       "    </tr>\n",
       "    <tr>\n",
       "      <th>123</th>\n",
       "      <td>4</td>\n",
       "      <td>-1</td>\n",
       "      <td>NaN</td>\n",
       "      <td>0.325107</td>\n",
       "      <td>0.8865</td>\n",
       "      <td>2.124921</td>\n",
       "      <td>0</td>\n",
       "      <td>0</td>\n",
       "    </tr>\n",
       "    <tr>\n",
       "      <th>154</th>\n",
       "      <td>5</td>\n",
       "      <td>-1</td>\n",
       "      <td>NaN</td>\n",
       "      <td>0.328481</td>\n",
       "      <td>0.8864</td>\n",
       "      <td>2.073194</td>\n",
       "      <td>0</td>\n",
       "      <td>0</td>\n",
       "    </tr>\n",
       "  </tbody>\n",
       "</table>\n",
       "</div>"
      ],
      "text/plain": [
       "     execution  epoch  train_loss  val_loss  val_acc      time   \n",
       "30           1     -1         NaN  0.324862   0.8811  2.135804  \\\n",
       "61           2     -1         NaN  0.324846   0.8810  2.120873   \n",
       "92           3     -1         NaN  0.325891   0.8820  2.097877   \n",
       "123          4     -1         NaN  0.325107   0.8865  2.124921   \n",
       "154          5     -1         NaN  0.328481   0.8864  2.073194   \n",
       "\n",
       "     zero_relu_call  total_relu_call  \n",
       "30                0                0  \n",
       "61                0                0  \n",
       "92                0                0  \n",
       "123               0                0  \n",
       "154               0                0  "
      ]
     },
     "execution_count": 23,
     "metadata": {},
     "output_type": "execute_result"
    }
   ],
   "source": [
    "df_original_test"
   ]
  },
  {
   "cell_type": "code",
   "execution_count": 24,
   "metadata": {},
   "outputs": [
    {
     "name": "stdout",
     "output_type": "stream",
     "text": [
      "Tempo Diferenciáveis: 2.096162700653076 seg\n",
      "Tempo Não-diferenciáveis: 2.110533666610718 seg\n",
      "Diferenciáveis são -0.68% mais lentas\n"
     ]
    }
   ],
   "source": [
    "# prediction time\n",
    "diff_time = df_diff_test[\"time\"].mean()\n",
    "original_time = df_original_test[\"time\"].mean()\n",
    "diff = (diff_time - original_time) / original_time\n",
    "print(f\"Tempo Diferenciáveis: {diff_time} seg\")\n",
    "print(f\"Tempo Não-diferenciáveis: {original_time} seg\")\n",
    "print(f\"Diferenciáveis são {round(100*diff, 2)}% mais lentas\")"
   ]
  },
  {
   "cell_type": "code",
   "execution_count": 25,
   "metadata": {},
   "outputs": [
    {
     "name": "stdout",
     "output_type": "stream",
     "text": [
      "Loss Diferenciáveis: 0.3300572085380554\n",
      "Loss Não-diferenciáveis: 0.3258371746540069\n",
      "Diferenciáveis são 1.3% piores\n"
     ]
    }
   ],
   "source": [
    "# loss\n",
    "diff_loss = df_diff_test[\"val_loss\"].mean()\n",
    "original_loss = df_original_test[\"val_loss\"].mean()\n",
    "diff = (diff_loss - original_loss) / original_loss\n",
    "print(f\"Loss Diferenciáveis: {diff_loss}\")\n",
    "print(f\"Loss Não-diferenciáveis: {original_loss}\")\n",
    "print(f\"Diferenciáveis são {round(100*diff, 2)}% piores\")"
   ]
  },
  {
   "cell_type": "code",
   "execution_count": 26,
   "metadata": {},
   "outputs": [
    {
     "name": "stdout",
     "output_type": "stream",
     "text": [
      "Acurácia Diferenciáveis: 0.88142 seg\n",
      "Acurácia Não-diferenciáveis: 0.8834 seg\n",
      "Acurácia das diferenciáveis é 0.22% menor\n"
     ]
    }
   ],
   "source": [
    "# acc\n",
    "diff_acc = df_diff_test[\"val_acc\"].mean()\n",
    "original_acc = df_original_test[\"val_acc\"].mean()\n",
    "diff = (diff_acc - original_acc) / original_acc\n",
    "print(f\"Acurácia Diferenciáveis: {diff_acc} seg\")\n",
    "print(f\"Acurácia Não-diferenciáveis: {original_acc} seg\")\n",
    "if diff < 0:\n",
    "    print(f\"Acurácia das diferenciáveis é {-round(100*diff, 2)}% menor\")\n",
    "else:\n",
    "    print(f\"Acurácia das diferenciáveis é {round(100*diff, 2)}% maior\")"
   ]
  },
  {
   "cell_type": "code",
   "execution_count": null,
   "metadata": {},
   "outputs": [],
   "source": []
  }
 ],
 "metadata": {
  "kernelspec": {
   "display_name": "Python 3",
   "language": "python",
   "name": "python3"
  },
  "language_info": {
   "codemirror_mode": {
    "name": "ipython",
    "version": 3
   },
   "file_extension": ".py",
   "mimetype": "text/x-python",
   "name": "python",
   "nbconvert_exporter": "python",
   "pygments_lexer": "ipython3",
   "version": "3.10.12"
  }
 },
 "nbformat": 4,
 "nbformat_minor": 2
}
