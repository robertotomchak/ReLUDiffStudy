{
 "cells": [
  {
   "cell_type": "code",
   "execution_count": 37,
   "metadata": {},
   "outputs": [],
   "source": [
    "import pandas as pd\n",
    "import seaborn as sns\n",
    "import matplotlib.pyplot as plt"
   ]
  },
  {
   "cell_type": "code",
   "execution_count": 38,
   "metadata": {},
   "outputs": [
    {
     "data": {
      "text/html": [
       "<div>\n",
       "<style scoped>\n",
       "    .dataframe tbody tr th:only-of-type {\n",
       "        vertical-align: middle;\n",
       "    }\n",
       "\n",
       "    .dataframe tbody tr th {\n",
       "        vertical-align: top;\n",
       "    }\n",
       "\n",
       "    .dataframe thead th {\n",
       "        text-align: right;\n",
       "    }\n",
       "</style>\n",
       "<table border=\"1\" class=\"dataframe\">\n",
       "  <thead>\n",
       "    <tr style=\"text-align: right;\">\n",
       "      <th></th>\n",
       "      <th>execution</th>\n",
       "      <th>epoch</th>\n",
       "      <th>train_loss</th>\n",
       "      <th>val_loss</th>\n",
       "      <th>val_acc</th>\n",
       "      <th>time</th>\n",
       "      <th>zero_relu_call</th>\n",
       "      <th>total_relu_call</th>\n",
       "    </tr>\n",
       "  </thead>\n",
       "  <tbody>\n",
       "    <tr>\n",
       "      <th>0</th>\n",
       "      <td>1</td>\n",
       "      <td>1</td>\n",
       "      <td>2.082440</td>\n",
       "      <td>0.955112</td>\n",
       "      <td>0.643556</td>\n",
       "      <td>18.278880</td>\n",
       "      <td>216</td>\n",
       "      <td>1056384000</td>\n",
       "    </tr>\n",
       "    <tr>\n",
       "      <th>1</th>\n",
       "      <td>1</td>\n",
       "      <td>2</td>\n",
       "      <td>0.771469</td>\n",
       "      <td>0.667807</td>\n",
       "      <td>0.747611</td>\n",
       "      <td>13.620369</td>\n",
       "      <td>227</td>\n",
       "      <td>1056384000</td>\n",
       "    </tr>\n",
       "    <tr>\n",
       "      <th>2</th>\n",
       "      <td>1</td>\n",
       "      <td>3</td>\n",
       "      <td>0.635509</td>\n",
       "      <td>0.583786</td>\n",
       "      <td>0.781278</td>\n",
       "      <td>14.524727</td>\n",
       "      <td>208</td>\n",
       "      <td>1056384000</td>\n",
       "    </tr>\n",
       "    <tr>\n",
       "      <th>3</th>\n",
       "      <td>1</td>\n",
       "      <td>4</td>\n",
       "      <td>0.557641</td>\n",
       "      <td>0.517742</td>\n",
       "      <td>0.807056</td>\n",
       "      <td>13.966707</td>\n",
       "      <td>285</td>\n",
       "      <td>1056384000</td>\n",
       "    </tr>\n",
       "    <tr>\n",
       "      <th>4</th>\n",
       "      <td>1</td>\n",
       "      <td>5</td>\n",
       "      <td>0.503777</td>\n",
       "      <td>0.478838</td>\n",
       "      <td>0.817889</td>\n",
       "      <td>16.196326</td>\n",
       "      <td>270</td>\n",
       "      <td>1056384000</td>\n",
       "    </tr>\n",
       "    <tr>\n",
       "      <th>...</th>\n",
       "      <td>...</td>\n",
       "      <td>...</td>\n",
       "      <td>...</td>\n",
       "      <td>...</td>\n",
       "      <td>...</td>\n",
       "      <td>...</td>\n",
       "      <td>...</td>\n",
       "      <td>...</td>\n",
       "    </tr>\n",
       "    <tr>\n",
       "      <th>250</th>\n",
       "      <td>5</td>\n",
       "      <td>47</td>\n",
       "      <td>0.176162</td>\n",
       "      <td>0.271508</td>\n",
       "      <td>0.908944</td>\n",
       "      <td>18.167139</td>\n",
       "      <td>18329</td>\n",
       "      <td>1056384000</td>\n",
       "    </tr>\n",
       "    <tr>\n",
       "      <th>251</th>\n",
       "      <td>5</td>\n",
       "      <td>48</td>\n",
       "      <td>0.172685</td>\n",
       "      <td>0.273159</td>\n",
       "      <td>0.905778</td>\n",
       "      <td>17.967504</td>\n",
       "      <td>337</td>\n",
       "      <td>1056384000</td>\n",
       "    </tr>\n",
       "    <tr>\n",
       "      <th>252</th>\n",
       "      <td>5</td>\n",
       "      <td>49</td>\n",
       "      <td>0.170368</td>\n",
       "      <td>0.264529</td>\n",
       "      <td>0.909611</td>\n",
       "      <td>13.663888</td>\n",
       "      <td>546</td>\n",
       "      <td>1056384000</td>\n",
       "    </tr>\n",
       "    <tr>\n",
       "      <th>253</th>\n",
       "      <td>5</td>\n",
       "      <td>50</td>\n",
       "      <td>0.166118</td>\n",
       "      <td>0.260499</td>\n",
       "      <td>0.908667</td>\n",
       "      <td>13.655350</td>\n",
       "      <td>8910</td>\n",
       "      <td>1056384000</td>\n",
       "    </tr>\n",
       "    <tr>\n",
       "      <th>254</th>\n",
       "      <td>5</td>\n",
       "      <td>-1</td>\n",
       "      <td>NaN</td>\n",
       "      <td>0.285547</td>\n",
       "      <td>0.902400</td>\n",
       "      <td>1.657649</td>\n",
       "      <td>0</td>\n",
       "      <td>0</td>\n",
       "    </tr>\n",
       "  </tbody>\n",
       "</table>\n",
       "<p>255 rows × 8 columns</p>\n",
       "</div>"
      ],
      "text/plain": [
       "     execution  epoch  train_loss  val_loss   val_acc       time   \n",
       "0            1      1    2.082440  0.955112  0.643556  18.278880  \\\n",
       "1            1      2    0.771469  0.667807  0.747611  13.620369   \n",
       "2            1      3    0.635509  0.583786  0.781278  14.524727   \n",
       "3            1      4    0.557641  0.517742  0.807056  13.966707   \n",
       "4            1      5    0.503777  0.478838  0.817889  16.196326   \n",
       "..         ...    ...         ...       ...       ...        ...   \n",
       "250          5     47    0.176162  0.271508  0.908944  18.167139   \n",
       "251          5     48    0.172685  0.273159  0.905778  17.967504   \n",
       "252          5     49    0.170368  0.264529  0.909611  13.663888   \n",
       "253          5     50    0.166118  0.260499  0.908667  13.655350   \n",
       "254          5     -1         NaN  0.285547  0.902400   1.657649   \n",
       "\n",
       "     zero_relu_call  total_relu_call  \n",
       "0               216       1056384000  \n",
       "1               227       1056384000  \n",
       "2               208       1056384000  \n",
       "3               285       1056384000  \n",
       "4               270       1056384000  \n",
       "..              ...              ...  \n",
       "250           18329       1056384000  \n",
       "251             337       1056384000  \n",
       "252             546       1056384000  \n",
       "253            8910       1056384000  \n",
       "254               0                0  \n",
       "\n",
       "[255 rows x 8 columns]"
      ]
     },
     "execution_count": 38,
     "metadata": {},
     "output_type": "execute_result"
    }
   ],
   "source": [
    "df_count = pd.read_csv(\"results/hochuli/mnist_count.csv\")\n",
    "df_count"
   ]
  },
  {
   "cell_type": "code",
   "execution_count": 39,
   "metadata": {},
   "outputs": [
    {
     "data": {
      "text/html": [
       "<div>\n",
       "<style scoped>\n",
       "    .dataframe tbody tr th:only-of-type {\n",
       "        vertical-align: middle;\n",
       "    }\n",
       "\n",
       "    .dataframe tbody tr th {\n",
       "        vertical-align: top;\n",
       "    }\n",
       "\n",
       "    .dataframe thead th {\n",
       "        text-align: right;\n",
       "    }\n",
       "</style>\n",
       "<table border=\"1\" class=\"dataframe\">\n",
       "  <thead>\n",
       "    <tr style=\"text-align: right;\">\n",
       "      <th></th>\n",
       "      <th>execution</th>\n",
       "      <th>epoch</th>\n",
       "      <th>train_loss</th>\n",
       "      <th>val_loss</th>\n",
       "      <th>val_acc</th>\n",
       "      <th>time</th>\n",
       "      <th>zero_relu_call</th>\n",
       "      <th>total_relu_call</th>\n",
       "    </tr>\n",
       "  </thead>\n",
       "  <tbody>\n",
       "    <tr>\n",
       "      <th>0</th>\n",
       "      <td>1</td>\n",
       "      <td>1</td>\n",
       "      <td>2.080660</td>\n",
       "      <td>0.967964</td>\n",
       "      <td>0.609500</td>\n",
       "      <td>13.617301</td>\n",
       "      <td>0</td>\n",
       "      <td>0</td>\n",
       "    </tr>\n",
       "    <tr>\n",
       "      <th>1</th>\n",
       "      <td>1</td>\n",
       "      <td>2</td>\n",
       "      <td>0.780601</td>\n",
       "      <td>0.683426</td>\n",
       "      <td>0.746278</td>\n",
       "      <td>13.648082</td>\n",
       "      <td>0</td>\n",
       "      <td>0</td>\n",
       "    </tr>\n",
       "    <tr>\n",
       "      <th>2</th>\n",
       "      <td>1</td>\n",
       "      <td>3</td>\n",
       "      <td>0.640909</td>\n",
       "      <td>0.588081</td>\n",
       "      <td>0.778667</td>\n",
       "      <td>12.728311</td>\n",
       "      <td>0</td>\n",
       "      <td>0</td>\n",
       "    </tr>\n",
       "    <tr>\n",
       "      <th>3</th>\n",
       "      <td>1</td>\n",
       "      <td>4</td>\n",
       "      <td>0.557806</td>\n",
       "      <td>0.503286</td>\n",
       "      <td>0.820333</td>\n",
       "      <td>12.524316</td>\n",
       "      <td>0</td>\n",
       "      <td>0</td>\n",
       "    </tr>\n",
       "    <tr>\n",
       "      <th>4</th>\n",
       "      <td>1</td>\n",
       "      <td>5</td>\n",
       "      <td>0.496821</td>\n",
       "      <td>0.472460</td>\n",
       "      <td>0.825667</td>\n",
       "      <td>13.476078</td>\n",
       "      <td>0</td>\n",
       "      <td>0</td>\n",
       "    </tr>\n",
       "    <tr>\n",
       "      <th>...</th>\n",
       "      <td>...</td>\n",
       "      <td>...</td>\n",
       "      <td>...</td>\n",
       "      <td>...</td>\n",
       "      <td>...</td>\n",
       "      <td>...</td>\n",
       "      <td>...</td>\n",
       "      <td>...</td>\n",
       "    </tr>\n",
       "    <tr>\n",
       "      <th>250</th>\n",
       "      <td>5</td>\n",
       "      <td>47</td>\n",
       "      <td>0.165597</td>\n",
       "      <td>0.271977</td>\n",
       "      <td>0.908778</td>\n",
       "      <td>12.382486</td>\n",
       "      <td>0</td>\n",
       "      <td>0</td>\n",
       "    </tr>\n",
       "    <tr>\n",
       "      <th>251</th>\n",
       "      <td>5</td>\n",
       "      <td>48</td>\n",
       "      <td>0.163047</td>\n",
       "      <td>0.283506</td>\n",
       "      <td>0.905833</td>\n",
       "      <td>13.514115</td>\n",
       "      <td>0</td>\n",
       "      <td>0</td>\n",
       "    </tr>\n",
       "    <tr>\n",
       "      <th>252</th>\n",
       "      <td>5</td>\n",
       "      <td>49</td>\n",
       "      <td>0.157992</td>\n",
       "      <td>0.273958</td>\n",
       "      <td>0.907444</td>\n",
       "      <td>13.648203</td>\n",
       "      <td>0</td>\n",
       "      <td>0</td>\n",
       "    </tr>\n",
       "    <tr>\n",
       "      <th>253</th>\n",
       "      <td>5</td>\n",
       "      <td>50</td>\n",
       "      <td>0.155646</td>\n",
       "      <td>0.266544</td>\n",
       "      <td>0.910389</td>\n",
       "      <td>13.605713</td>\n",
       "      <td>0</td>\n",
       "      <td>0</td>\n",
       "    </tr>\n",
       "    <tr>\n",
       "      <th>254</th>\n",
       "      <td>5</td>\n",
       "      <td>-1</td>\n",
       "      <td>NaN</td>\n",
       "      <td>0.295455</td>\n",
       "      <td>0.901000</td>\n",
       "      <td>1.646456</td>\n",
       "      <td>0</td>\n",
       "      <td>0</td>\n",
       "    </tr>\n",
       "  </tbody>\n",
       "</table>\n",
       "<p>255 rows × 8 columns</p>\n",
       "</div>"
      ],
      "text/plain": [
       "     execution  epoch  train_loss  val_loss   val_acc       time   \n",
       "0            1      1    2.080660  0.967964  0.609500  13.617301  \\\n",
       "1            1      2    0.780601  0.683426  0.746278  13.648082   \n",
       "2            1      3    0.640909  0.588081  0.778667  12.728311   \n",
       "3            1      4    0.557806  0.503286  0.820333  12.524316   \n",
       "4            1      5    0.496821  0.472460  0.825667  13.476078   \n",
       "..         ...    ...         ...       ...       ...        ...   \n",
       "250          5     47    0.165597  0.271977  0.908778  12.382486   \n",
       "251          5     48    0.163047  0.283506  0.905833  13.514115   \n",
       "252          5     49    0.157992  0.273958  0.907444  13.648203   \n",
       "253          5     50    0.155646  0.266544  0.910389  13.605713   \n",
       "254          5     -1         NaN  0.295455  0.901000   1.646456   \n",
       "\n",
       "     zero_relu_call  total_relu_call  \n",
       "0                 0                0  \n",
       "1                 0                0  \n",
       "2                 0                0  \n",
       "3                 0                0  \n",
       "4                 0                0  \n",
       "..              ...              ...  \n",
       "250               0                0  \n",
       "251               0                0  \n",
       "252               0                0  \n",
       "253               0                0  \n",
       "254               0                0  \n",
       "\n",
       "[255 rows x 8 columns]"
      ]
     },
     "execution_count": 39,
     "metadata": {},
     "output_type": "execute_result"
    }
   ],
   "source": [
    "df_original = pd.read_csv(\"results/hochuli/mnist_original.csv\")\n",
    "df_original"
   ]
  },
  {
   "cell_type": "code",
   "execution_count": 40,
   "metadata": {},
   "outputs": [
    {
     "data": {
      "text/html": [
       "<div>\n",
       "<style scoped>\n",
       "    .dataframe tbody tr th:only-of-type {\n",
       "        vertical-align: middle;\n",
       "    }\n",
       "\n",
       "    .dataframe tbody tr th {\n",
       "        vertical-align: top;\n",
       "    }\n",
       "\n",
       "    .dataframe thead th {\n",
       "        text-align: right;\n",
       "    }\n",
       "</style>\n",
       "<table border=\"1\" class=\"dataframe\">\n",
       "  <thead>\n",
       "    <tr style=\"text-align: right;\">\n",
       "      <th></th>\n",
       "      <th>execution</th>\n",
       "      <th>epoch</th>\n",
       "      <th>train_loss</th>\n",
       "      <th>val_loss</th>\n",
       "      <th>val_acc</th>\n",
       "      <th>time</th>\n",
       "      <th>zero_relu_call</th>\n",
       "      <th>total_relu_call</th>\n",
       "    </tr>\n",
       "  </thead>\n",
       "  <tbody>\n",
       "    <tr>\n",
       "      <th>0</th>\n",
       "      <td>1</td>\n",
       "      <td>1</td>\n",
       "      <td>2.291081</td>\n",
       "      <td>2.208624</td>\n",
       "      <td>0.200333</td>\n",
       "      <td>13.638084</td>\n",
       "      <td>0</td>\n",
       "      <td>0</td>\n",
       "    </tr>\n",
       "    <tr>\n",
       "      <th>1</th>\n",
       "      <td>1</td>\n",
       "      <td>2</td>\n",
       "      <td>0.973426</td>\n",
       "      <td>0.698976</td>\n",
       "      <td>0.747944</td>\n",
       "      <td>13.819374</td>\n",
       "      <td>0</td>\n",
       "      <td>0</td>\n",
       "    </tr>\n",
       "    <tr>\n",
       "      <th>2</th>\n",
       "      <td>1</td>\n",
       "      <td>3</td>\n",
       "      <td>0.662879</td>\n",
       "      <td>0.592144</td>\n",
       "      <td>0.781778</td>\n",
       "      <td>13.619301</td>\n",
       "      <td>0</td>\n",
       "      <td>0</td>\n",
       "    </tr>\n",
       "    <tr>\n",
       "      <th>3</th>\n",
       "      <td>1</td>\n",
       "      <td>4</td>\n",
       "      <td>0.571938</td>\n",
       "      <td>0.519667</td>\n",
       "      <td>0.815000</td>\n",
       "      <td>12.951248</td>\n",
       "      <td>0</td>\n",
       "      <td>0</td>\n",
       "    </tr>\n",
       "    <tr>\n",
       "      <th>4</th>\n",
       "      <td>1</td>\n",
       "      <td>5</td>\n",
       "      <td>0.513331</td>\n",
       "      <td>0.485943</td>\n",
       "      <td>0.818889</td>\n",
       "      <td>13.771732</td>\n",
       "      <td>0</td>\n",
       "      <td>0</td>\n",
       "    </tr>\n",
       "    <tr>\n",
       "      <th>...</th>\n",
       "      <td>...</td>\n",
       "      <td>...</td>\n",
       "      <td>...</td>\n",
       "      <td>...</td>\n",
       "      <td>...</td>\n",
       "      <td>...</td>\n",
       "      <td>...</td>\n",
       "      <td>...</td>\n",
       "    </tr>\n",
       "    <tr>\n",
       "      <th>250</th>\n",
       "      <td>5</td>\n",
       "      <td>47</td>\n",
       "      <td>0.170469</td>\n",
       "      <td>0.284475</td>\n",
       "      <td>0.907278</td>\n",
       "      <td>12.505309</td>\n",
       "      <td>0</td>\n",
       "      <td>0</td>\n",
       "    </tr>\n",
       "    <tr>\n",
       "      <th>251</th>\n",
       "      <td>5</td>\n",
       "      <td>48</td>\n",
       "      <td>0.166006</td>\n",
       "      <td>0.274794</td>\n",
       "      <td>0.908667</td>\n",
       "      <td>13.786622</td>\n",
       "      <td>0</td>\n",
       "      <td>0</td>\n",
       "    </tr>\n",
       "    <tr>\n",
       "      <th>252</th>\n",
       "      <td>5</td>\n",
       "      <td>49</td>\n",
       "      <td>0.162390</td>\n",
       "      <td>0.278097</td>\n",
       "      <td>0.909611</td>\n",
       "      <td>13.843093</td>\n",
       "      <td>0</td>\n",
       "      <td>0</td>\n",
       "    </tr>\n",
       "    <tr>\n",
       "      <th>253</th>\n",
       "      <td>5</td>\n",
       "      <td>50</td>\n",
       "      <td>0.158728</td>\n",
       "      <td>0.278662</td>\n",
       "      <td>0.908000</td>\n",
       "      <td>12.537629</td>\n",
       "      <td>0</td>\n",
       "      <td>0</td>\n",
       "    </tr>\n",
       "    <tr>\n",
       "      <th>254</th>\n",
       "      <td>5</td>\n",
       "      <td>-1</td>\n",
       "      <td>NaN</td>\n",
       "      <td>0.303115</td>\n",
       "      <td>0.901800</td>\n",
       "      <td>1.654488</td>\n",
       "      <td>0</td>\n",
       "      <td>0</td>\n",
       "    </tr>\n",
       "  </tbody>\n",
       "</table>\n",
       "<p>255 rows × 8 columns</p>\n",
       "</div>"
      ],
      "text/plain": [
       "     execution  epoch  train_loss  val_loss   val_acc       time   \n",
       "0            1      1    2.291081  2.208624  0.200333  13.638084  \\\n",
       "1            1      2    0.973426  0.698976  0.747944  13.819374   \n",
       "2            1      3    0.662879  0.592144  0.781778  13.619301   \n",
       "3            1      4    0.571938  0.519667  0.815000  12.951248   \n",
       "4            1      5    0.513331  0.485943  0.818889  13.771732   \n",
       "..         ...    ...         ...       ...       ...        ...   \n",
       "250          5     47    0.170469  0.284475  0.907278  12.505309   \n",
       "251          5     48    0.166006  0.274794  0.908667  13.786622   \n",
       "252          5     49    0.162390  0.278097  0.909611  13.843093   \n",
       "253          5     50    0.158728  0.278662  0.908000  12.537629   \n",
       "254          5     -1         NaN  0.303115  0.901800   1.654488   \n",
       "\n",
       "     zero_relu_call  total_relu_call  \n",
       "0                 0                0  \n",
       "1                 0                0  \n",
       "2                 0                0  \n",
       "3                 0                0  \n",
       "4                 0                0  \n",
       "..              ...              ...  \n",
       "250               0                0  \n",
       "251               0                0  \n",
       "252               0                0  \n",
       "253               0                0  \n",
       "254               0                0  \n",
       "\n",
       "[255 rows x 8 columns]"
      ]
     },
     "execution_count": 40,
     "metadata": {},
     "output_type": "execute_result"
    }
   ],
   "source": [
    "df_diff = pd.read_csv(\"results/hochuli/mnist_diff.csv\")\n",
    "df_diff"
   ]
  },
  {
   "cell_type": "code",
   "execution_count": 41,
   "metadata": {},
   "outputs": [],
   "source": [
    "# splitting training and test\n",
    "df_count_train = df_count[df_count[\"epoch\"] != -1]\n",
    "df_count_test = df_count[df_count[\"epoch\"] == -1]\n",
    "df_original_train = df_original[df_original[\"epoch\"] != -1]\n",
    "df_original_test = df_original[df_original[\"epoch\"] == -1]\n",
    "df_diff_train = df_diff[df_diff[\"epoch\"] != -1]\n",
    "df_diff_test = df_diff[df_diff[\"epoch\"] == -1]"
   ]
  },
  {
   "cell_type": "code",
   "execution_count": 42,
   "metadata": {},
   "outputs": [
    {
     "name": "stderr",
     "output_type": "stream",
     "text": [
      "/tmp/ipykernel_2683/561248041.py:2: SettingWithCopyWarning: \n",
      "A value is trying to be set on a copy of a slice from a DataFrame.\n",
      "Try using .loc[row_indexer,col_indexer] = value instead\n",
      "\n",
      "See the caveats in the documentation: https://pandas.pydata.org/pandas-docs/stable/user_guide/indexing.html#returning-a-view-versus-a-copy\n",
      "  df_count_train[\"relu_proportion\"] = df_count_train[\"zero_relu_call\"] / df_count_train[\"total_relu_call\"]\n",
      "/tmp/ipykernel_2683/561248041.py:3: SettingWithCopyWarning: \n",
      "A value is trying to be set on a copy of a slice from a DataFrame.\n",
      "Try using .loc[row_indexer,col_indexer] = value instead\n",
      "\n",
      "See the caveats in the documentation: https://pandas.pydata.org/pandas-docs/stable/user_guide/indexing.html#returning-a-view-versus-a-copy\n",
      "  df_original_train[\"relu_proportion\"] = df_original_train[\"zero_relu_call\"] / df_original_train[\"total_relu_call\"]\n",
      "/tmp/ipykernel_2683/561248041.py:4: SettingWithCopyWarning: \n",
      "A value is trying to be set on a copy of a slice from a DataFrame.\n",
      "Try using .loc[row_indexer,col_indexer] = value instead\n",
      "\n",
      "See the caveats in the documentation: https://pandas.pydata.org/pandas-docs/stable/user_guide/indexing.html#returning-a-view-versus-a-copy\n",
      "  df_diff_train[\"relu_proportion\"] = df_diff_train[\"zero_relu_call\"] / df_diff_train[\"total_relu_call\"]\n"
     ]
    }
   ],
   "source": [
    "# add relu proportion\n",
    "df_count_train[\"relu_proportion\"] = df_count_train[\"zero_relu_call\"] / df_count_train[\"total_relu_call\"]\n",
    "df_original_train[\"relu_proportion\"] = df_original_train[\"zero_relu_call\"] / df_original_train[\"total_relu_call\"]\n",
    "df_diff_train[\"relu_proportion\"] = df_diff_train[\"zero_relu_call\"] / df_diff_train[\"total_relu_call\"]"
   ]
  },
  {
   "cell_type": "markdown",
   "metadata": {},
   "source": [
    "## Frequência da ReLU"
   ]
  },
  {
   "cell_type": "markdown",
   "metadata": {},
   "source": [
    "Tamanho da rede: 122_570"
   ]
  },
  {
   "cell_type": "code",
   "execution_count": 43,
   "metadata": {},
   "outputs": [
    {
     "name": "stdout",
     "output_type": "stream",
     "text": [
      "Proporção Média da ReLU: 3.3941521264994553e-06    1/294_624\n"
     ]
    }
   ],
   "source": [
    "temp = df_count_train.groupby(\"execution\").sum()\n",
    "relu_proportion = temp[\"zero_relu_call\"] / temp[\"total_relu_call\"]\n",
    "print(f\"Proporção Média da ReLU: {relu_proportion.mean()}    1/{round(1/relu_proportion.mean()):_}\")"
   ]
  },
  {
   "cell_type": "code",
   "execution_count": 44,
   "metadata": {},
   "outputs": [
    {
     "data": {
      "text/plain": [
       "[Text(0.5, 0, 'época'), Text(0, 0.5, \"relu'(0) / relu'(x)\")]"
      ]
     },
     "execution_count": 44,
     "metadata": {},
     "output_type": "execute_result"
    },
    {
     "data": {
      "image/png": "[encoded data removed]",
      "text/plain": [
       "<Figure size 640x480 with 1 Axes>"
      ]
     },
     "metadata": {},
     "output_type": "display_data"
    }
   ],
   "source": [
    "df_train_avg = df_count_train.groupby(\"epoch\").mean()\n",
    "ax = sns.lineplot(data=df_train_avg, x=\"epoch\", y=\"relu_proportion\")\n",
    "ax.set(xlabel=\"época\", ylabel=\"relu'(0) / relu'(x)\")"
   ]
  },
  {
   "cell_type": "markdown",
   "metadata": {},
   "source": [
    "## Eficiência do Modelo"
   ]
  },
  {
   "cell_type": "code",
   "execution_count": 45,
   "metadata": {},
   "outputs": [
    {
     "name": "stdout",
     "output_type": "stream",
     "text": [
      "Acurácia (teste) média: 89.84%\n"
     ]
    }
   ],
   "source": [
    "print(f\"Acurácia (teste) média: {round(100*df_count_test['val_acc'].mean(), 2)}%\")"
   ]
  },
  {
   "cell_type": "code",
   "execution_count": 46,
   "metadata": {},
   "outputs": [
    {
     "data": {
      "text/plain": [
       "<Axes: xlabel='epoch', ylabel='train_loss'>"
      ]
     },
     "execution_count": 46,
     "metadata": {},
     "output_type": "execute_result"
    },
    {
     "data": {
      "image/png": "[encoded data removed]",
      "text/plain": [
       "<Figure size 640x480 with 1 Axes>"
      ]
     },
     "metadata": {},
     "output_type": "display_data"
    }
   ],
   "source": [
    "ax = sns.lineplot(data=df_train_avg, x=\"epoch\", y=\"train_loss\")\n",
    "sns.lineplot(data=df_train_avg, x=\"epoch\", y=\"val_loss\", ax=ax)"
   ]
  },
  {
   "cell_type": "code",
   "execution_count": 47,
   "metadata": {},
   "outputs": [
    {
     "name": "stdout",
     "output_type": "stream",
     "text": [
      "Tempo médio de treino: 13:9\n"
     ]
    }
   ],
   "source": [
    "df_train_sum = df_count_train.groupby(\"execution\").sum()\n",
    "seconds_avg = round(df_train_sum[\"time\"].mean())\n",
    "minutes_avg = seconds_avg // 60\n",
    "seconds_avg = seconds_avg % 60\n",
    "print(f\"Tempo médio de treino: {minutes_avg}:{seconds_avg}\")"
   ]
  },
  {
   "cell_type": "markdown",
   "metadata": {},
   "source": [
    "## Comparando com funções diferenciáveis"
   ]
  },
  {
   "cell_type": "code",
   "execution_count": 48,
   "metadata": {},
   "outputs": [],
   "source": [
    "df_train_avg_diff = df_diff_train.groupby(\"epoch\").mean()\n",
    "df_train_avg_original = df_original_train.groupby(\"epoch\").mean()"
   ]
  },
  {
   "cell_type": "code",
   "execution_count": 49,
   "metadata": {},
   "outputs": [
    {
     "data": {
      "text/plain": [
       "[Text(0.5, 0, 'época'), Text(0, 0.5, 'tempo (seg)')]"
      ]
     },
     "execution_count": 49,
     "metadata": {},
     "output_type": "execute_result"
    },
    {
     "data": {
      "image/png": "[encoded data removed]",
      "text/plain": [
       "<Figure size 640x480 with 1 Axes>"
      ]
     },
     "metadata": {},
     "output_type": "display_data"
    }
   ],
   "source": [
    "temp = pd.DataFrame()\n",
    "temp[\"original\"] = df_train_avg_original[\"time\"]\n",
    "temp[\"diff\"] = df_train_avg_diff[\"time\"]\n",
    "temp[\"epoch\"] = df_train_avg.index\n",
    "temp = pd.melt(temp, [\"epoch\"])\n",
    "ax = sns.lineplot(data=temp, x=\"epoch\", y=\"value\", hue=\"variable\")\n",
    "#ax.set_title(\"Tempo por Epoca\")\n",
    "ax.set(xlabel=\"época\", ylabel=\"tempo (seg)\")"
   ]
  },
  {
   "cell_type": "code",
   "execution_count": 50,
   "metadata": {},
   "outputs": [
    {
     "name": "stdout",
     "output_type": "stream",
     "text": [
      "Tempo total de treino (não diff): 11:00\n",
      "Tempo total de treino (diff): 11:11\n",
      "Diferença: 1.67%\n"
     ]
    }
   ],
   "source": [
    "# tempo total de treino\n",
    "time_original = round(df_train_avg_original[\"time\"].sum())\n",
    "time_diff = round(df_train_avg_diff[\"time\"].sum())\n",
    "\n",
    "print(f\"Tempo total de treino (não diff): {time_original//60:02}:{time_original%60:02}\")\n",
    "print(f\"Tempo total de treino (diff): {time_diff//60:02}:{time_diff%60:02}\")\n",
    "print(f\"Diferença: {round(100*(time_diff - time_original) / time_original, 2)}%\")"
   ]
  },
  {
   "cell_type": "code",
   "execution_count": 51,
   "metadata": {},
   "outputs": [
    {
     "data": {
      "text/plain": [
       "Text(0.5, 1.0, 'Loss (Treino) por Epoca')"
      ]
     },
     "execution_count": 51,
     "metadata": {},
     "output_type": "execute_result"
    },
    {
     "data": {
      "image/png": "[encoded data removed]",
      "text/plain": [
       "<Figure size 640x480 with 1 Axes>"
      ]
     },
     "metadata": {},
     "output_type": "display_data"
    }
   ],
   "source": [
    "temp = pd.DataFrame()\n",
    "temp[\"original\"] = df_train_avg_original[\"train_loss\"]\n",
    "temp[\"diff\"] = df_train_avg_diff[\"train_loss\"]\n",
    "temp[\"epoch\"] = df_train_avg.index\n",
    "temp = pd.melt(temp, [\"epoch\"])\n",
    "ax = sns.lineplot(data=temp, x=\"epoch\", y=\"value\", hue=\"variable\")\n",
    "ax.set_title(\"Loss (Treino) por Epoca\")"
   ]
  },
  {
   "cell_type": "code",
   "execution_count": 52,
   "metadata": {},
   "outputs": [
    {
     "data": {
      "text/plain": [
       "Text(0.5, 1.0, 'Loss (Validacao) por Epoca')"
      ]
     },
     "execution_count": 52,
     "metadata": {},
     "output_type": "execute_result"
    },
    {
     "data": {
      "image/png": "[encoded data removed]",
      "text/plain": [
       "<Figure size 640x480 with 1 Axes>"
      ]
     },
     "metadata": {},
     "output_type": "display_data"
    }
   ],
   "source": [
    "temp = pd.DataFrame()\n",
    "temp[\"original\"] = df_train_avg_original[\"val_loss\"]\n",
    "temp[\"diff\"] = df_train_avg_diff[\"val_loss\"]\n",
    "temp[\"epoch\"] = df_train_avg.index\n",
    "temp = pd.melt(temp, [\"epoch\"])\n",
    "ax = sns.lineplot(data=temp, x=\"epoch\", y=\"value\", hue=\"variable\")\n",
    "ax.set_title(\"Loss (Validacao) por Epoca\")"
   ]
  },
  {
   "cell_type": "code",
   "execution_count": 53,
   "metadata": {},
   "outputs": [
    {
     "data": {
      "text/plain": [
       "Text(0.5, 1.0, 'Acurácia (Validacao) por Epoca')"
      ]
     },
     "execution_count": 53,
     "metadata": {},
     "output_type": "execute_result"
    },
    {
     "data": {
      "image/png": "[encoded data removed]",
      "text/plain": [
       "<Figure size 640x480 with 1 Axes>"
      ]
     },
     "metadata": {},
     "output_type": "display_data"
    }
   ],
   "source": [
    "temp = pd.DataFrame()\n",
    "temp[\"original\"] = df_train_avg_original[\"val_acc\"]\n",
    "temp[\"diff\"] = df_train_avg_diff[\"val_acc\"]\n",
    "temp[\"epoch\"] = df_train_avg.index\n",
    "temp = pd.melt(temp, [\"epoch\"])\n",
    "ax = sns.lineplot(data=temp, x=\"epoch\", y=\"value\", hue=\"variable\")\n",
    "ax.set_title(\"Acurácia (Validacao) por Epoca\")"
   ]
  },
  {
   "cell_type": "code",
   "execution_count": 56,
   "metadata": {},
   "outputs": [
    {
     "data": {
      "text/html": [
       "<div>\n",
       "<style scoped>\n",
       "    .dataframe tbody tr th:only-of-type {\n",
       "        vertical-align: middle;\n",
       "    }\n",
       "\n",
       "    .dataframe tbody tr th {\n",
       "        vertical-align: top;\n",
       "    }\n",
       "\n",
       "    .dataframe thead th {\n",
       "        text-align: right;\n",
       "    }\n",
       "</style>\n",
       "<table border=\"1\" class=\"dataframe\">\n",
       "  <thead>\n",
       "    <tr style=\"text-align: right;\">\n",
       "      <th></th>\n",
       "      <th>execution</th>\n",
       "      <th>train_loss</th>\n",
       "      <th>val_loss</th>\n",
       "      <th>val_acc</th>\n",
       "      <th>time</th>\n",
       "      <th>zero_relu_call</th>\n",
       "      <th>total_relu_call</th>\n",
       "      <th>relu_proportion</th>\n",
       "    </tr>\n",
       "    <tr>\n",
       "      <th>epoch</th>\n",
       "      <th></th>\n",
       "      <th></th>\n",
       "      <th></th>\n",
       "      <th></th>\n",
       "      <th></th>\n",
       "      <th></th>\n",
       "      <th></th>\n",
       "      <th></th>\n",
       "    </tr>\n",
       "  </thead>\n",
       "  <tbody>\n",
       "    <tr>\n",
       "      <th>45</th>\n",
       "      <td>3.0</td>\n",
       "      <td>0.174259</td>\n",
       "      <td>0.265276</td>\n",
       "      <td>0.907844</td>\n",
       "      <td>13.310195</td>\n",
       "      <td>0.0</td>\n",
       "      <td>0.0</td>\n",
       "      <td>NaN</td>\n",
       "    </tr>\n",
       "  </tbody>\n",
       "</table>\n",
       "</div>"
      ],
      "text/plain": [
       "       execution  train_loss  val_loss   val_acc       time  zero_relu_call   \n",
       "epoch                                                                         \n",
       "45           3.0    0.174259  0.265276  0.907844  13.310195             0.0  \\\n",
       "\n",
       "       total_relu_call  relu_proportion  \n",
       "epoch                                    \n",
       "45                 0.0              NaN  "
      ]
     },
     "execution_count": 56,
     "metadata": {},
     "output_type": "execute_result"
    }
   ],
   "source": [
    "# melhor época original\n",
    "best_original = df_train_avg_original[df_train_avg_original[\"val_loss\"] == df_train_avg_original[\"val_loss\"].min()]\n",
    "best_original"
   ]
  },
  {
   "cell_type": "code",
   "execution_count": 57,
   "metadata": {},
   "outputs": [
    {
     "data": {
      "text/html": [
       "<div>\n",
       "<style scoped>\n",
       "    .dataframe tbody tr th:only-of-type {\n",
       "        vertical-align: middle;\n",
       "    }\n",
       "\n",
       "    .dataframe tbody tr th {\n",
       "        vertical-align: top;\n",
       "    }\n",
       "\n",
       "    .dataframe thead th {\n",
       "        text-align: right;\n",
       "    }\n",
       "</style>\n",
       "<table border=\"1\" class=\"dataframe\">\n",
       "  <thead>\n",
       "    <tr style=\"text-align: right;\">\n",
       "      <th></th>\n",
       "      <th>execution</th>\n",
       "      <th>train_loss</th>\n",
       "      <th>val_loss</th>\n",
       "      <th>val_acc</th>\n",
       "      <th>time</th>\n",
       "      <th>zero_relu_call</th>\n",
       "      <th>total_relu_call</th>\n",
       "      <th>relu_proportion</th>\n",
       "    </tr>\n",
       "    <tr>\n",
       "      <th>epoch</th>\n",
       "      <th></th>\n",
       "      <th></th>\n",
       "      <th></th>\n",
       "      <th></th>\n",
       "      <th></th>\n",
       "      <th></th>\n",
       "      <th></th>\n",
       "      <th></th>\n",
       "    </tr>\n",
       "  </thead>\n",
       "  <tbody>\n",
       "    <tr>\n",
       "      <th>38</th>\n",
       "      <td>3.0</td>\n",
       "      <td>0.196629</td>\n",
       "      <td>0.27372</td>\n",
       "      <td>0.904478</td>\n",
       "      <td>13.676869</td>\n",
       "      <td>0.0</td>\n",
       "      <td>0.0</td>\n",
       "      <td>NaN</td>\n",
       "    </tr>\n",
       "  </tbody>\n",
       "</table>\n",
       "</div>"
      ],
      "text/plain": [
       "       execution  train_loss  val_loss   val_acc       time  zero_relu_call   \n",
       "epoch                                                                         \n",
       "38           3.0    0.196629   0.27372  0.904478  13.676869             0.0  \\\n",
       "\n",
       "       total_relu_call  relu_proportion  \n",
       "epoch                                    \n",
       "38                 0.0              NaN  "
      ]
     },
     "execution_count": 57,
     "metadata": {},
     "output_type": "execute_result"
    }
   ],
   "source": [
    "# melhor época diff\n",
    "best_diff = df_train_avg_diff[df_train_avg_diff[\"val_loss\"] == df_train_avg_diff[\"val_loss\"].min()]\n",
    "best_diff"
   ]
  },
  {
   "cell_type": "code",
   "execution_count": null,
   "metadata": {},
   "outputs": [],
   "source": []
  },
  {
   "cell_type": "code",
   "execution_count": 20,
   "metadata": {},
   "outputs": [
    {
     "name": "stdout",
     "output_type": "stream",
     "text": [
      "Tempo de treino até melhor época (não diff): 09:55\n",
      "Tempo de treino até melhor época (diff): 08:31\n",
      "Diferença: -14.12%\n"
     ]
    }
   ],
   "source": [
    "# tempo para chegar na melhor época\n",
    "epoch_original = df_train_avg_original[df_train_avg_original[\"val_loss\"] == df_train_avg_original[\"val_loss\"].min()].index[0]\n",
    "epoch_diff = df_train_avg_diff[df_train_avg_diff[\"val_loss\"] == df_train_avg_diff[\"val_loss\"].min()].index[0]\n",
    "\n",
    "time_original = round(df_train_avg_original.head(epoch_original)[\"time\"].sum())\n",
    "time_diff = round(df_train_avg_diff.head(epoch_diff)[\"time\"].sum())\n",
    "\n",
    "print(f\"Tempo de treino até melhor época (não diff): {time_original//60:02}:{time_original%60:02}\")\n",
    "print(f\"Tempo de treino até melhor época (diff): {time_diff//60:02}:{time_diff%60:02}\")\n",
    "print(f\"Diferença: {round(100*(time_diff - time_original) / time_original, 2)}%\")"
   ]
  },
  {
   "cell_type": "markdown",
   "metadata": {},
   "source": [
    "## Avaliação nos dados de teste"
   ]
  },
  {
   "cell_type": "code",
   "execution_count": 21,
   "metadata": {},
   "outputs": [
    {
     "data": {
      "text/html": [
       "<div>\n",
       "<style scoped>\n",
       "    .dataframe tbody tr th:only-of-type {\n",
       "        vertical-align: middle;\n",
       "    }\n",
       "\n",
       "    .dataframe tbody tr th {\n",
       "        vertical-align: top;\n",
       "    }\n",
       "\n",
       "    .dataframe thead th {\n",
       "        text-align: right;\n",
       "    }\n",
       "</style>\n",
       "<table border=\"1\" class=\"dataframe\">\n",
       "  <thead>\n",
       "    <tr style=\"text-align: right;\">\n",
       "      <th></th>\n",
       "      <th>execution</th>\n",
       "      <th>epoch</th>\n",
       "      <th>train_loss</th>\n",
       "      <th>val_loss</th>\n",
       "      <th>val_acc</th>\n",
       "      <th>time</th>\n",
       "      <th>zero_relu_call</th>\n",
       "      <th>total_relu_call</th>\n",
       "    </tr>\n",
       "  </thead>\n",
       "  <tbody>\n",
       "    <tr>\n",
       "      <th>50</th>\n",
       "      <td>1</td>\n",
       "      <td>-1</td>\n",
       "      <td>NaN</td>\n",
       "      <td>0.327494</td>\n",
       "      <td>0.8942</td>\n",
       "      <td>1.688432</td>\n",
       "      <td>0</td>\n",
       "      <td>0</td>\n",
       "    </tr>\n",
       "    <tr>\n",
       "      <th>101</th>\n",
       "      <td>2</td>\n",
       "      <td>-1</td>\n",
       "      <td>NaN</td>\n",
       "      <td>0.304388</td>\n",
       "      <td>0.9028</td>\n",
       "      <td>1.672024</td>\n",
       "      <td>0</td>\n",
       "      <td>0</td>\n",
       "    </tr>\n",
       "    <tr>\n",
       "      <th>152</th>\n",
       "      <td>3</td>\n",
       "      <td>-1</td>\n",
       "      <td>NaN</td>\n",
       "      <td>0.318384</td>\n",
       "      <td>0.8980</td>\n",
       "      <td>1.696448</td>\n",
       "      <td>0</td>\n",
       "      <td>0</td>\n",
       "    </tr>\n",
       "    <tr>\n",
       "      <th>203</th>\n",
       "      <td>4</td>\n",
       "      <td>-1</td>\n",
       "      <td>NaN</td>\n",
       "      <td>0.317944</td>\n",
       "      <td>0.9000</td>\n",
       "      <td>1.647664</td>\n",
       "      <td>0</td>\n",
       "      <td>0</td>\n",
       "    </tr>\n",
       "    <tr>\n",
       "      <th>254</th>\n",
       "      <td>5</td>\n",
       "      <td>-1</td>\n",
       "      <td>NaN</td>\n",
       "      <td>0.303115</td>\n",
       "      <td>0.9018</td>\n",
       "      <td>1.654488</td>\n",
       "      <td>0</td>\n",
       "      <td>0</td>\n",
       "    </tr>\n",
       "  </tbody>\n",
       "</table>\n",
       "</div>"
      ],
      "text/plain": [
       "     execution  epoch  train_loss  val_loss  val_acc      time   \n",
       "50           1     -1         NaN  0.327494   0.8942  1.688432  \\\n",
       "101          2     -1         NaN  0.304388   0.9028  1.672024   \n",
       "152          3     -1         NaN  0.318384   0.8980  1.696448   \n",
       "203          4     -1         NaN  0.317944   0.9000  1.647664   \n",
       "254          5     -1         NaN  0.303115   0.9018  1.654488   \n",
       "\n",
       "     zero_relu_call  total_relu_call  \n",
       "50                0                0  \n",
       "101               0                0  \n",
       "152               0                0  \n",
       "203               0                0  \n",
       "254               0                0  "
      ]
     },
     "execution_count": 21,
     "metadata": {},
     "output_type": "execute_result"
    }
   ],
   "source": [
    "df_diff_test"
   ]
  },
  {
   "cell_type": "code",
   "execution_count": 22,
   "metadata": {},
   "outputs": [
    {
     "data": {
      "text/html": [
       "<div>\n",
       "<style scoped>\n",
       "    .dataframe tbody tr th:only-of-type {\n",
       "        vertical-align: middle;\n",
       "    }\n",
       "\n",
       "    .dataframe tbody tr th {\n",
       "        vertical-align: top;\n",
       "    }\n",
       "\n",
       "    .dataframe thead th {\n",
       "        text-align: right;\n",
       "    }\n",
       "</style>\n",
       "<table border=\"1\" class=\"dataframe\">\n",
       "  <thead>\n",
       "    <tr style=\"text-align: right;\">\n",
       "      <th></th>\n",
       "      <th>execution</th>\n",
       "      <th>epoch</th>\n",
       "      <th>train_loss</th>\n",
       "      <th>val_loss</th>\n",
       "      <th>val_acc</th>\n",
       "      <th>time</th>\n",
       "      <th>zero_relu_call</th>\n",
       "      <th>total_relu_call</th>\n",
       "    </tr>\n",
       "  </thead>\n",
       "  <tbody>\n",
       "    <tr>\n",
       "      <th>50</th>\n",
       "      <td>1</td>\n",
       "      <td>-1</td>\n",
       "      <td>NaN</td>\n",
       "      <td>0.308947</td>\n",
       "      <td>0.8996</td>\n",
       "      <td>1.653778</td>\n",
       "      <td>0</td>\n",
       "      <td>0</td>\n",
       "    </tr>\n",
       "    <tr>\n",
       "      <th>101</th>\n",
       "      <td>2</td>\n",
       "      <td>-1</td>\n",
       "      <td>NaN</td>\n",
       "      <td>0.287362</td>\n",
       "      <td>0.9025</td>\n",
       "      <td>1.638057</td>\n",
       "      <td>0</td>\n",
       "      <td>0</td>\n",
       "    </tr>\n",
       "    <tr>\n",
       "      <th>152</th>\n",
       "      <td>3</td>\n",
       "      <td>-1</td>\n",
       "      <td>NaN</td>\n",
       "      <td>0.309644</td>\n",
       "      <td>0.8936</td>\n",
       "      <td>1.646816</td>\n",
       "      <td>0</td>\n",
       "      <td>0</td>\n",
       "    </tr>\n",
       "    <tr>\n",
       "      <th>203</th>\n",
       "      <td>4</td>\n",
       "      <td>-1</td>\n",
       "      <td>NaN</td>\n",
       "      <td>0.299353</td>\n",
       "      <td>0.9006</td>\n",
       "      <td>1.646894</td>\n",
       "      <td>0</td>\n",
       "      <td>0</td>\n",
       "    </tr>\n",
       "    <tr>\n",
       "      <th>254</th>\n",
       "      <td>5</td>\n",
       "      <td>-1</td>\n",
       "      <td>NaN</td>\n",
       "      <td>0.295455</td>\n",
       "      <td>0.9010</td>\n",
       "      <td>1.646456</td>\n",
       "      <td>0</td>\n",
       "      <td>0</td>\n",
       "    </tr>\n",
       "  </tbody>\n",
       "</table>\n",
       "</div>"
      ],
      "text/plain": [
       "     execution  epoch  train_loss  val_loss  val_acc      time   \n",
       "50           1     -1         NaN  0.308947   0.8996  1.653778  \\\n",
       "101          2     -1         NaN  0.287362   0.9025  1.638057   \n",
       "152          3     -1         NaN  0.309644   0.8936  1.646816   \n",
       "203          4     -1         NaN  0.299353   0.9006  1.646894   \n",
       "254          5     -1         NaN  0.295455   0.9010  1.646456   \n",
       "\n",
       "     zero_relu_call  total_relu_call  \n",
       "50                0                0  \n",
       "101               0                0  \n",
       "152               0                0  \n",
       "203               0                0  \n",
       "254               0                0  "
      ]
     },
     "execution_count": 22,
     "metadata": {},
     "output_type": "execute_result"
    }
   ],
   "source": [
    "df_original_test"
   ]
  },
  {
   "cell_type": "code",
   "execution_count": 23,
   "metadata": {},
   "outputs": [
    {
     "name": "stdout",
     "output_type": "stream",
     "text": [
      "Tempo Diferenciáveis: 1.6718111515045166 seg\n",
      "Tempo Não-diferenciáveis: 1.6464003086090089 seg\n",
      "Diferenciáveis são 1.54% mais lentas\n"
     ]
    }
   ],
   "source": [
    "# prediction time\n",
    "diff_time = df_diff_test[\"time\"].mean()\n",
    "original_time = df_original_test[\"time\"].mean()\n",
    "diff = (diff_time - original_time) / original_time\n",
    "print(f\"Tempo Diferenciáveis: {diff_time} seg\")\n",
    "print(f\"Tempo Não-diferenciáveis: {original_time} seg\")\n",
    "print(f\"Diferenciáveis são {round(100*diff, 2)}% mais lentas\")"
   ]
  },
  {
   "cell_type": "code",
   "execution_count": 24,
   "metadata": {},
   "outputs": [
    {
     "name": "stdout",
     "output_type": "stream",
     "text": [
      "Loss Diferenciáveis: 0.3142647051811218\n",
      "Loss Não-diferenciáveis: 0.30015240579843516\n",
      "Diferenciáveis são 4.7% piores\n"
     ]
    }
   ],
   "source": [
    "# loss\n",
    "diff_loss = df_diff_test[\"val_loss\"].mean()\n",
    "original_loss = df_original_test[\"val_loss\"].mean()\n",
    "diff = (diff_loss - original_loss) / original_loss\n",
    "print(f\"Loss Diferenciáveis: {diff_loss}\")\n",
    "print(f\"Loss Não-diferenciáveis: {original_loss}\")\n",
    "print(f\"Diferenciáveis são {round(100*diff, 2)}% piores\")"
   ]
  },
  {
   "cell_type": "code",
   "execution_count": 25,
   "metadata": {},
   "outputs": [
    {
     "name": "stdout",
     "output_type": "stream",
     "text": [
      "Acurácia Diferenciáveis: 0.89936 seg\n",
      "Acurácia Não-diferenciáveis: 0.8994599999999998 seg\n",
      "Acurácia das diferenciáveis é 0.01% menor\n"
     ]
    }
   ],
   "source": [
    "# acc\n",
    "diff_acc = df_diff_test[\"val_acc\"].mean()\n",
    "original_acc = df_original_test[\"val_acc\"].mean()\n",
    "diff = (diff_acc - original_acc) / original_acc\n",
    "print(f\"Acurácia Diferenciáveis: {diff_acc} seg\")\n",
    "print(f\"Acurácia Não-diferenciáveis: {original_acc} seg\")\n",
    "if diff < 0:\n",
    "    print(f\"Acurácia das diferenciáveis é {-round(100*diff, 2)}% menor\")\n",
    "else:\n",
    "    print(f\"Acurácia das diferenciáveis é {round(100*diff, 2)}% maior\")"
   ]
  },
  {
   "cell_type": "code",
   "execution_count": null,
   "metadata": {},
   "outputs": [],
   "source": []
  }
 ],
 "metadata": {
  "kernelspec": {
   "display_name": "Python 3",
   "language": "python",
   "name": "python3"
  },
  "language_info": {
   "codemirror_mode": {
    "name": "ipython",
    "version": 3
   },
   "file_extension": ".py",
   "mimetype": "text/x-python",
   "name": "python",
   "nbconvert_exporter": "python",
   "pygments_lexer": "ipython3",
   "version": "3.10.12"
  }
 },
 "nbformat": 4,
 "nbformat_minor": 2
}
