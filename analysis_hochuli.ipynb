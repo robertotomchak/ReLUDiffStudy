{
 "cells": [
  {
   "cell_type": "code",
   "execution_count": 74,
   "metadata": {},
   "outputs": [],
   "source": [
    "import pandas as pd\n",
    "import seaborn as sns\n",
    "import matplotlib.pyplot as plt\n",
    "import numpy as np"
   ]
  },
  {
   "cell_type": "code",
   "execution_count": 75,
   "metadata": {},
   "outputs": [
    {
     "data": {
      "text/html": [
       "<div>\n",
       "<style scoped>\n",
       "    .dataframe tbody tr th:only-of-type {\n",
       "        vertical-align: middle;\n",
       "    }\n",
       "\n",
       "    .dataframe tbody tr th {\n",
       "        vertical-align: top;\n",
       "    }\n",
       "\n",
       "    .dataframe thead th {\n",
       "        text-align: right;\n",
       "    }\n",
       "</style>\n",
       "<table border=\"1\" class=\"dataframe\">\n",
       "  <thead>\n",
       "    <tr style=\"text-align: right;\">\n",
       "      <th></th>\n",
       "      <th>execution</th>\n",
       "      <th>epoch</th>\n",
       "      <th>train_loss</th>\n",
       "      <th>val_loss</th>\n",
       "      <th>val_acc</th>\n",
       "      <th>time</th>\n",
       "      <th>zero_relu_call</th>\n",
       "      <th>total_relu_call</th>\n",
       "    </tr>\n",
       "  </thead>\n",
       "  <tbody>\n",
       "    <tr>\n",
       "      <th>0</th>\n",
       "      <td>1</td>\n",
       "      <td>1</td>\n",
       "      <td>2.036614</td>\n",
       "      <td>0.946312</td>\n",
       "      <td>0.661167</td>\n",
       "      <td>17.323018</td>\n",
       "      <td>144</td>\n",
       "      <td>1056384000</td>\n",
       "    </tr>\n",
       "    <tr>\n",
       "      <th>1</th>\n",
       "      <td>1</td>\n",
       "      <td>2</td>\n",
       "      <td>0.754310</td>\n",
       "      <td>0.640754</td>\n",
       "      <td>0.761889</td>\n",
       "      <td>17.237348</td>\n",
       "      <td>9606</td>\n",
       "      <td>1056384000</td>\n",
       "    </tr>\n",
       "    <tr>\n",
       "      <th>2</th>\n",
       "      <td>1</td>\n",
       "      <td>3</td>\n",
       "      <td>0.633841</td>\n",
       "      <td>0.584555</td>\n",
       "      <td>0.783111</td>\n",
       "      <td>17.289251</td>\n",
       "      <td>8468</td>\n",
       "      <td>1056384000</td>\n",
       "    </tr>\n",
       "    <tr>\n",
       "      <th>3</th>\n",
       "      <td>1</td>\n",
       "      <td>4</td>\n",
       "      <td>0.556454</td>\n",
       "      <td>0.509296</td>\n",
       "      <td>0.811111</td>\n",
       "      <td>17.661579</td>\n",
       "      <td>9666</td>\n",
       "      <td>1056384000</td>\n",
       "    </tr>\n",
       "    <tr>\n",
       "      <th>4</th>\n",
       "      <td>1</td>\n",
       "      <td>5</td>\n",
       "      <td>0.508577</td>\n",
       "      <td>0.490273</td>\n",
       "      <td>0.815944</td>\n",
       "      <td>17.236981</td>\n",
       "      <td>8720</td>\n",
       "      <td>1056384000</td>\n",
       "    </tr>\n",
       "    <tr>\n",
       "      <th>...</th>\n",
       "      <td>...</td>\n",
       "      <td>...</td>\n",
       "      <td>...</td>\n",
       "      <td>...</td>\n",
       "      <td>...</td>\n",
       "      <td>...</td>\n",
       "      <td>...</td>\n",
       "      <td>...</td>\n",
       "    </tr>\n",
       "    <tr>\n",
       "      <th>250</th>\n",
       "      <td>5</td>\n",
       "      <td>47</td>\n",
       "      <td>0.163533</td>\n",
       "      <td>0.291770</td>\n",
       "      <td>0.901778</td>\n",
       "      <td>17.233976</td>\n",
       "      <td>641</td>\n",
       "      <td>1056384000</td>\n",
       "    </tr>\n",
       "    <tr>\n",
       "      <th>251</th>\n",
       "      <td>5</td>\n",
       "      <td>48</td>\n",
       "      <td>0.164633</td>\n",
       "      <td>0.282048</td>\n",
       "      <td>0.902444</td>\n",
       "      <td>17.186732</td>\n",
       "      <td>8660</td>\n",
       "      <td>1056384000</td>\n",
       "    </tr>\n",
       "    <tr>\n",
       "      <th>252</th>\n",
       "      <td>5</td>\n",
       "      <td>49</td>\n",
       "      <td>0.159508</td>\n",
       "      <td>0.299809</td>\n",
       "      <td>0.900500</td>\n",
       "      <td>17.198821</td>\n",
       "      <td>996</td>\n",
       "      <td>1056384000</td>\n",
       "    </tr>\n",
       "    <tr>\n",
       "      <th>253</th>\n",
       "      <td>5</td>\n",
       "      <td>50</td>\n",
       "      <td>0.156183</td>\n",
       "      <td>0.312579</td>\n",
       "      <td>0.899056</td>\n",
       "      <td>17.189011</td>\n",
       "      <td>17096</td>\n",
       "      <td>1056384000</td>\n",
       "    </tr>\n",
       "    <tr>\n",
       "      <th>254</th>\n",
       "      <td>5</td>\n",
       "      <td>-1</td>\n",
       "      <td>NaN</td>\n",
       "      <td>0.285285</td>\n",
       "      <td>0.904700</td>\n",
       "      <td>1.272176</td>\n",
       "      <td>0</td>\n",
       "      <td>0</td>\n",
       "    </tr>\n",
       "  </tbody>\n",
       "</table>\n",
       "<p>255 rows × 8 columns</p>\n",
       "</div>"
      ],
      "text/plain": [
       "     execution  epoch  train_loss  val_loss   val_acc       time   \n",
       "0            1      1    2.036614  0.946312  0.661167  17.323018  \\\n",
       "1            1      2    0.754310  0.640754  0.761889  17.237348   \n",
       "2            1      3    0.633841  0.584555  0.783111  17.289251   \n",
       "3            1      4    0.556454  0.509296  0.811111  17.661579   \n",
       "4            1      5    0.508577  0.490273  0.815944  17.236981   \n",
       "..         ...    ...         ...       ...       ...        ...   \n",
       "250          5     47    0.163533  0.291770  0.901778  17.233976   \n",
       "251          5     48    0.164633  0.282048  0.902444  17.186732   \n",
       "252          5     49    0.159508  0.299809  0.900500  17.198821   \n",
       "253          5     50    0.156183  0.312579  0.899056  17.189011   \n",
       "254          5     -1         NaN  0.285285  0.904700   1.272176   \n",
       "\n",
       "     zero_relu_call  total_relu_call  \n",
       "0               144       1056384000  \n",
       "1              9606       1056384000  \n",
       "2              8468       1056384000  \n",
       "3              9666       1056384000  \n",
       "4              8720       1056384000  \n",
       "..              ...              ...  \n",
       "250             641       1056384000  \n",
       "251            8660       1056384000  \n",
       "252             996       1056384000  \n",
       "253           17096       1056384000  \n",
       "254               0                0  \n",
       "\n",
       "[255 rows x 8 columns]"
      ]
     },
     "execution_count": 75,
     "metadata": {},
     "output_type": "execute_result"
    }
   ],
   "source": [
    "df_count = pd.read_csv(\"results/hochuli/mnist_count.csv\")\n",
    "df_count"
   ]
  },
  {
   "cell_type": "code",
   "execution_count": 76,
   "metadata": {},
   "outputs": [
    {
     "data": {
      "text/html": [
       "<div>\n",
       "<style scoped>\n",
       "    .dataframe tbody tr th:only-of-type {\n",
       "        vertical-align: middle;\n",
       "    }\n",
       "\n",
       "    .dataframe tbody tr th {\n",
       "        vertical-align: top;\n",
       "    }\n",
       "\n",
       "    .dataframe thead th {\n",
       "        text-align: right;\n",
       "    }\n",
       "</style>\n",
       "<table border=\"1\" class=\"dataframe\">\n",
       "  <thead>\n",
       "    <tr style=\"text-align: right;\">\n",
       "      <th></th>\n",
       "      <th>execution</th>\n",
       "      <th>epoch</th>\n",
       "      <th>train_loss</th>\n",
       "      <th>val_loss</th>\n",
       "      <th>val_acc</th>\n",
       "      <th>time</th>\n",
       "      <th>zero_relu_call</th>\n",
       "      <th>total_relu_call</th>\n",
       "    </tr>\n",
       "  </thead>\n",
       "  <tbody>\n",
       "    <tr>\n",
       "      <th>0</th>\n",
       "      <td>1</td>\n",
       "      <td>1</td>\n",
       "      <td>2.036761</td>\n",
       "      <td>0.952535</td>\n",
       "      <td>0.652944</td>\n",
       "      <td>12.285011</td>\n",
       "      <td>0</td>\n",
       "      <td>0</td>\n",
       "    </tr>\n",
       "    <tr>\n",
       "      <th>1</th>\n",
       "      <td>1</td>\n",
       "      <td>2</td>\n",
       "      <td>0.771401</td>\n",
       "      <td>0.648002</td>\n",
       "      <td>0.762667</td>\n",
       "      <td>12.240320</td>\n",
       "      <td>0</td>\n",
       "      <td>0</td>\n",
       "    </tr>\n",
       "    <tr>\n",
       "      <th>2</th>\n",
       "      <td>1</td>\n",
       "      <td>3</td>\n",
       "      <td>0.641368</td>\n",
       "      <td>0.582087</td>\n",
       "      <td>0.784833</td>\n",
       "      <td>12.358368</td>\n",
       "      <td>0</td>\n",
       "      <td>0</td>\n",
       "    </tr>\n",
       "    <tr>\n",
       "      <th>3</th>\n",
       "      <td>1</td>\n",
       "      <td>4</td>\n",
       "      <td>0.554885</td>\n",
       "      <td>0.498287</td>\n",
       "      <td>0.817778</td>\n",
       "      <td>12.242292</td>\n",
       "      <td>0</td>\n",
       "      <td>0</td>\n",
       "    </tr>\n",
       "    <tr>\n",
       "      <th>4</th>\n",
       "      <td>1</td>\n",
       "      <td>5</td>\n",
       "      <td>0.502396</td>\n",
       "      <td>0.486479</td>\n",
       "      <td>0.819889</td>\n",
       "      <td>12.239204</td>\n",
       "      <td>0</td>\n",
       "      <td>0</td>\n",
       "    </tr>\n",
       "    <tr>\n",
       "      <th>...</th>\n",
       "      <td>...</td>\n",
       "      <td>...</td>\n",
       "      <td>...</td>\n",
       "      <td>...</td>\n",
       "      <td>...</td>\n",
       "      <td>...</td>\n",
       "      <td>...</td>\n",
       "      <td>...</td>\n",
       "    </tr>\n",
       "    <tr>\n",
       "      <th>250</th>\n",
       "      <td>5</td>\n",
       "      <td>47</td>\n",
       "      <td>0.157227</td>\n",
       "      <td>0.287606</td>\n",
       "      <td>0.903389</td>\n",
       "      <td>12.226458</td>\n",
       "      <td>0</td>\n",
       "      <td>0</td>\n",
       "    </tr>\n",
       "    <tr>\n",
       "      <th>251</th>\n",
       "      <td>5</td>\n",
       "      <td>48</td>\n",
       "      <td>0.155813</td>\n",
       "      <td>0.288060</td>\n",
       "      <td>0.902611</td>\n",
       "      <td>12.237892</td>\n",
       "      <td>0</td>\n",
       "      <td>0</td>\n",
       "    </tr>\n",
       "    <tr>\n",
       "      <th>252</th>\n",
       "      <td>5</td>\n",
       "      <td>49</td>\n",
       "      <td>0.153546</td>\n",
       "      <td>0.286107</td>\n",
       "      <td>0.905333</td>\n",
       "      <td>12.269241</td>\n",
       "      <td>0</td>\n",
       "      <td>0</td>\n",
       "    </tr>\n",
       "    <tr>\n",
       "      <th>253</th>\n",
       "      <td>5</td>\n",
       "      <td>50</td>\n",
       "      <td>0.147957</td>\n",
       "      <td>0.279959</td>\n",
       "      <td>0.909667</td>\n",
       "      <td>12.213713</td>\n",
       "      <td>0</td>\n",
       "      <td>0</td>\n",
       "    </tr>\n",
       "    <tr>\n",
       "      <th>254</th>\n",
       "      <td>5</td>\n",
       "      <td>-1</td>\n",
       "      <td>NaN</td>\n",
       "      <td>0.282695</td>\n",
       "      <td>0.902100</td>\n",
       "      <td>1.270087</td>\n",
       "      <td>0</td>\n",
       "      <td>0</td>\n",
       "    </tr>\n",
       "  </tbody>\n",
       "</table>\n",
       "<p>255 rows × 8 columns</p>\n",
       "</div>"
      ],
      "text/plain": [
       "     execution  epoch  train_loss  val_loss   val_acc       time   \n",
       "0            1      1    2.036761  0.952535  0.652944  12.285011  \\\n",
       "1            1      2    0.771401  0.648002  0.762667  12.240320   \n",
       "2            1      3    0.641368  0.582087  0.784833  12.358368   \n",
       "3            1      4    0.554885  0.498287  0.817778  12.242292   \n",
       "4            1      5    0.502396  0.486479  0.819889  12.239204   \n",
       "..         ...    ...         ...       ...       ...        ...   \n",
       "250          5     47    0.157227  0.287606  0.903389  12.226458   \n",
       "251          5     48    0.155813  0.288060  0.902611  12.237892   \n",
       "252          5     49    0.153546  0.286107  0.905333  12.269241   \n",
       "253          5     50    0.147957  0.279959  0.909667  12.213713   \n",
       "254          5     -1         NaN  0.282695  0.902100   1.270087   \n",
       "\n",
       "     zero_relu_call  total_relu_call  \n",
       "0                 0                0  \n",
       "1                 0                0  \n",
       "2                 0                0  \n",
       "3                 0                0  \n",
       "4                 0                0  \n",
       "..              ...              ...  \n",
       "250               0                0  \n",
       "251               0                0  \n",
       "252               0                0  \n",
       "253               0                0  \n",
       "254               0                0  \n",
       "\n",
       "[255 rows x 8 columns]"
      ]
     },
     "execution_count": 76,
     "metadata": {},
     "output_type": "execute_result"
    }
   ],
   "source": [
    "df_original = pd.read_csv(\"results/hochuli/mnist_original.csv\")\n",
    "df_original"
   ]
  },
  {
   "cell_type": "code",
   "execution_count": 77,
   "metadata": {},
   "outputs": [
    {
     "data": {
      "text/html": [
       "<div>\n",
       "<style scoped>\n",
       "    .dataframe tbody tr th:only-of-type {\n",
       "        vertical-align: middle;\n",
       "    }\n",
       "\n",
       "    .dataframe tbody tr th {\n",
       "        vertical-align: top;\n",
       "    }\n",
       "\n",
       "    .dataframe thead th {\n",
       "        text-align: right;\n",
       "    }\n",
       "</style>\n",
       "<table border=\"1\" class=\"dataframe\">\n",
       "  <thead>\n",
       "    <tr style=\"text-align: right;\">\n",
       "      <th></th>\n",
       "      <th>execution</th>\n",
       "      <th>epoch</th>\n",
       "      <th>train_loss</th>\n",
       "      <th>val_loss</th>\n",
       "      <th>val_acc</th>\n",
       "      <th>time</th>\n",
       "      <th>zero_relu_call</th>\n",
       "      <th>total_relu_call</th>\n",
       "    </tr>\n",
       "  </thead>\n",
       "  <tbody>\n",
       "    <tr>\n",
       "      <th>0</th>\n",
       "      <td>1</td>\n",
       "      <td>1</td>\n",
       "      <td>2.294431</td>\n",
       "      <td>2.261628</td>\n",
       "      <td>0.350944</td>\n",
       "      <td>12.204367</td>\n",
       "      <td>0</td>\n",
       "      <td>0</td>\n",
       "    </tr>\n",
       "    <tr>\n",
       "      <th>1</th>\n",
       "      <td>1</td>\n",
       "      <td>2</td>\n",
       "      <td>1.112990</td>\n",
       "      <td>0.689601</td>\n",
       "      <td>0.743500</td>\n",
       "      <td>12.271979</td>\n",
       "      <td>0</td>\n",
       "      <td>0</td>\n",
       "    </tr>\n",
       "    <tr>\n",
       "      <th>2</th>\n",
       "      <td>1</td>\n",
       "      <td>3</td>\n",
       "      <td>0.669461</td>\n",
       "      <td>0.610880</td>\n",
       "      <td>0.780278</td>\n",
       "      <td>12.161336</td>\n",
       "      <td>0</td>\n",
       "      <td>0</td>\n",
       "    </tr>\n",
       "    <tr>\n",
       "      <th>3</th>\n",
       "      <td>1</td>\n",
       "      <td>4</td>\n",
       "      <td>0.567527</td>\n",
       "      <td>0.510017</td>\n",
       "      <td>0.813444</td>\n",
       "      <td>12.183752</td>\n",
       "      <td>0</td>\n",
       "      <td>0</td>\n",
       "    </tr>\n",
       "    <tr>\n",
       "      <th>4</th>\n",
       "      <td>1</td>\n",
       "      <td>5</td>\n",
       "      <td>0.508652</td>\n",
       "      <td>0.485296</td>\n",
       "      <td>0.820556</td>\n",
       "      <td>12.178635</td>\n",
       "      <td>0</td>\n",
       "      <td>0</td>\n",
       "    </tr>\n",
       "    <tr>\n",
       "      <th>...</th>\n",
       "      <td>...</td>\n",
       "      <td>...</td>\n",
       "      <td>...</td>\n",
       "      <td>...</td>\n",
       "      <td>...</td>\n",
       "      <td>...</td>\n",
       "      <td>...</td>\n",
       "      <td>...</td>\n",
       "    </tr>\n",
       "    <tr>\n",
       "      <th>250</th>\n",
       "      <td>5</td>\n",
       "      <td>47</td>\n",
       "      <td>0.155122</td>\n",
       "      <td>0.301045</td>\n",
       "      <td>0.901167</td>\n",
       "      <td>12.247120</td>\n",
       "      <td>0</td>\n",
       "      <td>0</td>\n",
       "    </tr>\n",
       "    <tr>\n",
       "      <th>251</th>\n",
       "      <td>5</td>\n",
       "      <td>48</td>\n",
       "      <td>0.152090</td>\n",
       "      <td>0.295965</td>\n",
       "      <td>0.899944</td>\n",
       "      <td>12.242940</td>\n",
       "      <td>0</td>\n",
       "      <td>0</td>\n",
       "    </tr>\n",
       "    <tr>\n",
       "      <th>252</th>\n",
       "      <td>5</td>\n",
       "      <td>49</td>\n",
       "      <td>0.148698</td>\n",
       "      <td>0.300837</td>\n",
       "      <td>0.899000</td>\n",
       "      <td>12.245870</td>\n",
       "      <td>0</td>\n",
       "      <td>0</td>\n",
       "    </tr>\n",
       "    <tr>\n",
       "      <th>253</th>\n",
       "      <td>5</td>\n",
       "      <td>50</td>\n",
       "      <td>0.148050</td>\n",
       "      <td>0.291517</td>\n",
       "      <td>0.905056</td>\n",
       "      <td>12.241371</td>\n",
       "      <td>0</td>\n",
       "      <td>0</td>\n",
       "    </tr>\n",
       "    <tr>\n",
       "      <th>254</th>\n",
       "      <td>5</td>\n",
       "      <td>-1</td>\n",
       "      <td>NaN</td>\n",
       "      <td>0.277338</td>\n",
       "      <td>0.906000</td>\n",
       "      <td>1.265903</td>\n",
       "      <td>0</td>\n",
       "      <td>0</td>\n",
       "    </tr>\n",
       "  </tbody>\n",
       "</table>\n",
       "<p>255 rows × 8 columns</p>\n",
       "</div>"
      ],
      "text/plain": [
       "     execution  epoch  train_loss  val_loss   val_acc       time   \n",
       "0            1      1    2.294431  2.261628  0.350944  12.204367  \\\n",
       "1            1      2    1.112990  0.689601  0.743500  12.271979   \n",
       "2            1      3    0.669461  0.610880  0.780278  12.161336   \n",
       "3            1      4    0.567527  0.510017  0.813444  12.183752   \n",
       "4            1      5    0.508652  0.485296  0.820556  12.178635   \n",
       "..         ...    ...         ...       ...       ...        ...   \n",
       "250          5     47    0.155122  0.301045  0.901167  12.247120   \n",
       "251          5     48    0.152090  0.295965  0.899944  12.242940   \n",
       "252          5     49    0.148698  0.300837  0.899000  12.245870   \n",
       "253          5     50    0.148050  0.291517  0.905056  12.241371   \n",
       "254          5     -1         NaN  0.277338  0.906000   1.265903   \n",
       "\n",
       "     zero_relu_call  total_relu_call  \n",
       "0                 0                0  \n",
       "1                 0                0  \n",
       "2                 0                0  \n",
       "3                 0                0  \n",
       "4                 0                0  \n",
       "..              ...              ...  \n",
       "250               0                0  \n",
       "251               0                0  \n",
       "252               0                0  \n",
       "253               0                0  \n",
       "254               0                0  \n",
       "\n",
       "[255 rows x 8 columns]"
      ]
     },
     "execution_count": 77,
     "metadata": {},
     "output_type": "execute_result"
    }
   ],
   "source": [
    "df_diff = pd.read_csv(\"results/hochuli/mnist_diff.csv\")\n",
    "df_diff"
   ]
  },
  {
   "cell_type": "code",
   "execution_count": 78,
   "metadata": {},
   "outputs": [],
   "source": [
    "# splitting training and test\n",
    "df_count_train = df_count[df_count[\"epoch\"] != -1]\n",
    "df_count_test = df_count[df_count[\"epoch\"] == -1]\n",
    "df_original_train = df_original[df_original[\"epoch\"] != -1]\n",
    "df_original_test = df_original[df_original[\"epoch\"] == -1]\n",
    "df_diff_train = df_diff[df_diff[\"epoch\"] != -1]\n",
    "df_diff_test = df_diff[df_diff[\"epoch\"] == -1]"
   ]
  },
  {
   "cell_type": "code",
   "execution_count": 79,
   "metadata": {},
   "outputs": [
    {
     "name": "stderr",
     "output_type": "stream",
     "text": [
      "/tmp/ipykernel_2683/561248041.py:2: SettingWithCopyWarning: \n",
      "A value is trying to be set on a copy of a slice from a DataFrame.\n",
      "Try using .loc[row_indexer,col_indexer] = value instead\n",
      "\n",
      "See the caveats in the documentation: https://pandas.pydata.org/pandas-docs/stable/user_guide/indexing.html#returning-a-view-versus-a-copy\n",
      "  df_count_train[\"relu_proportion\"] = df_count_train[\"zero_relu_call\"] / df_count_train[\"total_relu_call\"]\n",
      "/tmp/ipykernel_2683/561248041.py:3: SettingWithCopyWarning: \n",
      "A value is trying to be set on a copy of a slice from a DataFrame.\n",
      "Try using .loc[row_indexer,col_indexer] = value instead\n",
      "\n",
      "See the caveats in the documentation: https://pandas.pydata.org/pandas-docs/stable/user_guide/indexing.html#returning-a-view-versus-a-copy\n",
      "  df_original_train[\"relu_proportion\"] = df_original_train[\"zero_relu_call\"] / df_original_train[\"total_relu_call\"]\n",
      "/tmp/ipykernel_2683/561248041.py:4: SettingWithCopyWarning: \n",
      "A value is trying to be set on a copy of a slice from a DataFrame.\n",
      "Try using .loc[row_indexer,col_indexer] = value instead\n",
      "\n",
      "See the caveats in the documentation: https://pandas.pydata.org/pandas-docs/stable/user_guide/indexing.html#returning-a-view-versus-a-copy\n",
      "  df_diff_train[\"relu_proportion\"] = df_diff_train[\"zero_relu_call\"] / df_diff_train[\"total_relu_call\"]\n"
     ]
    }
   ],
   "source": [
    "# add relu proportion\n",
    "df_count_train[\"relu_proportion\"] = df_count_train[\"zero_relu_call\"] / df_count_train[\"total_relu_call\"]\n",
    "df_original_train[\"relu_proportion\"] = df_original_train[\"zero_relu_call\"] / df_original_train[\"total_relu_call\"]\n",
    "df_diff_train[\"relu_proportion\"] = df_diff_train[\"zero_relu_call\"] / df_diff_train[\"total_relu_call\"]"
   ]
  },
  {
   "cell_type": "markdown",
   "metadata": {},
   "source": [
    "## Frequência da ReLU"
   ]
  },
  {
   "cell_type": "markdown",
   "metadata": {},
   "source": [
    "Tamanho da rede: 122_570"
   ]
  },
  {
   "cell_type": "code",
   "execution_count": 80,
   "metadata": {},
   "outputs": [
    {
     "name": "stdout",
     "output_type": "stream",
     "text": [
      "Proporção Média da ReLU: 9.01004937598449e-06    1/110_987\n"
     ]
    }
   ],
   "source": [
    "temp = df_count_train.groupby(\"execution\").sum()\n",
    "relu_proportion = temp[\"zero_relu_call\"] / temp[\"total_relu_call\"]\n",
    "print(f\"Proporção Média da ReLU: {relu_proportion.mean()}    1/{round(1/relu_proportion.mean()):_}\")"
   ]
  },
  {
   "cell_type": "code",
   "execution_count": 81,
   "metadata": {},
   "outputs": [
    {
     "data": {
      "image/png": "[encoded data removed]",
      "text/plain": [
       "<Figure size 640x480 with 1 Axes>"
      ]
     },
     "metadata": {},
     "output_type": "display_data"
    }
   ],
   "source": [
    "df_train_avg = df_count_train.groupby(\"epoch\").mean()\n",
    "ax = sns.lineplot(data=df_train_avg, x=\"epoch\", y=\"relu_proportion\")\n",
    "ax.set(xlabel=\"época\", ylabel=\"relu'(0) / relu'(x)\")\n",
    "plt.savefig('relu_proportion.eps', format='eps')"
   ]
  },
  {
   "cell_type": "markdown",
   "metadata": {},
   "source": [
    "## Eficiência do Modelo"
   ]
  },
  {
   "cell_type": "code",
   "execution_count": 82,
   "metadata": {},
   "outputs": [
    {
     "name": "stdout",
     "output_type": "stream",
     "text": [
      "Acurácia (teste) média: 90.06%\n"
     ]
    }
   ],
   "source": [
    "print(f\"Acurácia (teste) média: {round(100*df_count_test['val_acc'].mean(), 2)}%\")"
   ]
  },
  {
   "cell_type": "code",
   "execution_count": 83,
   "metadata": {},
   "outputs": [
    {
     "data": {
      "text/plain": [
       "<Axes: xlabel='epoch', ylabel='train_loss'>"
      ]
     },
     "execution_count": 83,
     "metadata": {},
     "output_type": "execute_result"
    },
    {
     "data": {
      "image/png": "[encoded data removed]",
      "text/plain": [
       "<Figure size 640x480 with 1 Axes>"
      ]
     },
     "metadata": {},
     "output_type": "display_data"
    }
   ],
   "source": [
    "ax = sns.lineplot(data=df_train_avg, x=\"epoch\", y=\"train_loss\")\n",
    "sns.lineplot(data=df_train_avg, x=\"epoch\", y=\"val_loss\", ax=ax)"
   ]
  },
  {
   "cell_type": "code",
   "execution_count": 84,
   "metadata": {},
   "outputs": [
    {
     "name": "stdout",
     "output_type": "stream",
     "text": [
      "Tempo médio de treino: 14:22\n"
     ]
    }
   ],
   "source": [
    "df_train_sum = df_count_train.groupby(\"execution\").sum()\n",
    "seconds_avg = round(df_train_sum[\"time\"].mean())\n",
    "minutes_avg = seconds_avg // 60\n",
    "seconds_avg = seconds_avg % 60\n",
    "print(f\"Tempo médio de treino: {minutes_avg}:{seconds_avg}\")"
   ]
  },
  {
   "cell_type": "markdown",
   "metadata": {},
   "source": [
    "## Comparando com funções diferenciáveis"
   ]
  },
  {
   "cell_type": "code",
   "execution_count": 85,
   "metadata": {},
   "outputs": [],
   "source": [
    "df_train_avg_diff = df_diff_train.groupby(\"epoch\").mean()\n",
    "df_train_avg_original = df_original_train.groupby(\"epoch\").mean()"
   ]
  },
  {
   "cell_type": "code",
   "execution_count": 86,
   "metadata": {},
   "outputs": [
    {
     "data": {
      "text/plain": [
       "[Text(0.5, 0, 'época'), Text(0, 0.5, 'tempo (seg)')]"
      ]
     },
     "execution_count": 86,
     "metadata": {},
     "output_type": "execute_result"
    },
    {
     "data": {
      "image/png": "[encoded data removed]",
      "text/plain": [
       "<Figure size 640x480 with 1 Axes>"
      ]
     },
     "metadata": {},
     "output_type": "display_data"
    }
   ],
   "source": [
    "temp = pd.DataFrame()\n",
    "temp[\"original\"] = df_train_avg_original[\"time\"]\n",
    "temp[\"diff\"] = df_train_avg_diff[\"time\"]\n",
    "temp[\"epoch\"] = df_train_avg.index\n",
    "temp = pd.melt(temp, [\"epoch\"])\n",
    "ax = sns.lineplot(data=temp, x=\"epoch\", y=\"value\", hue=\"variable\")\n",
    "#ax.set_title(\"Tempo por Epoca\")\n",
    "ax.set(xlabel=\"época\", ylabel=\"tempo (seg)\")"
   ]
  },
  {
   "cell_type": "code",
   "execution_count": 87,
   "metadata": {},
   "outputs": [
    {
     "name": "stdout",
     "output_type": "stream",
     "text": [
      "Tempo total de treino (não diff): 10:09\n",
      "Tempo total de treino (diff): 10:12\n",
      "Diferença: 0.49%\n"
     ]
    }
   ],
   "source": [
    "# tempo total de treino\n",
    "time_original = round(df_train_avg_original[\"time\"].sum())\n",
    "time_diff = round(df_train_avg_diff[\"time\"].sum())\n",
    "\n",
    "print(f\"Tempo total de treino (não diff): {time_original//60:02}:{time_original%60:02}\")\n",
    "print(f\"Tempo total de treino (diff): {time_diff//60:02}:{time_diff%60:02}\")\n",
    "print(f\"Diferença: {round(100*(time_diff - time_original) / time_original, 2)}%\")"
   ]
  },
  {
   "cell_type": "code",
   "execution_count": 88,
   "metadata": {},
   "outputs": [
    {
     "data": {
      "text/plain": [
       "Text(0.5, 1.0, 'Loss (Treino) por Epoca')"
      ]
     },
     "execution_count": 88,
     "metadata": {},
     "output_type": "execute_result"
    },
    {
     "data": {
      "image/png": "[encoded data removed]",
      "text/plain": [
       "<Figure size 640x480 with 1 Axes>"
      ]
     },
     "metadata": {},
     "output_type": "display_data"
    }
   ],
   "source": [
    "temp = pd.DataFrame()\n",
    "temp[\"original\"] = df_train_avg_original[\"train_loss\"]\n",
    "temp[\"diff\"] = df_train_avg_diff[\"train_loss\"]\n",
    "temp[\"epoch\"] = df_train_avg.index\n",
    "temp = pd.melt(temp, [\"epoch\"])\n",
    "ax = sns.lineplot(data=temp, x=\"epoch\", y=\"value\", hue=\"variable\")\n",
    "ax.set_title(\"Loss (Treino) por Epoca\")"
   ]
  },
  {
   "cell_type": "code",
   "execution_count": 89,
   "metadata": {},
   "outputs": [
    {
     "data": {
      "text/plain": [
       "Text(0.5, 1.0, 'Loss (Validacao) por Epoca')"
      ]
     },
     "execution_count": 89,
     "metadata": {},
     "output_type": "execute_result"
    },
    {
     "data": {
      "image/png": "[encoded data removed]",
      "text/plain": [
       "<Figure size 640x480 with 1 Axes>"
      ]
     },
     "metadata": {},
     "output_type": "display_data"
    }
   ],
   "source": [
    "temp = pd.DataFrame()\n",
    "temp[\"original\"] = df_train_avg_original[\"val_loss\"]\n",
    "temp[\"diff\"] = df_train_avg_diff[\"val_loss\"]\n",
    "temp[\"epoch\"] = df_train_avg.index\n",
    "temp = pd.melt(temp, [\"epoch\"])\n",
    "ax = sns.lineplot(data=temp, x=\"epoch\", y=\"value\", hue=\"variable\")\n",
    "ax.set_title(\"Loss (Validacao) por Epoca\")"
   ]
  },
  {
   "cell_type": "code",
   "execution_count": 90,
   "metadata": {},
   "outputs": [
    {
     "data": {
      "text/plain": [
       "Text(0.5, 1.0, 'Acurácia (Validacao) por Epoca')"
      ]
     },
     "execution_count": 90,
     "metadata": {},
     "output_type": "execute_result"
    },
    {
     "data": {
      "image/png": "[encoded data removed]",
      "text/plain": [
       "<Figure size 640x480 with 1 Axes>"
      ]
     },
     "metadata": {},
     "output_type": "display_data"
    }
   ],
   "source": [
    "temp = pd.DataFrame()\n",
    "temp[\"original\"] = df_train_avg_original[\"val_acc\"]\n",
    "temp[\"diff\"] = df_train_avg_diff[\"val_acc\"]\n",
    "temp[\"epoch\"] = df_train_avg.index\n",
    "temp = pd.melt(temp, [\"epoch\"])\n",
    "ax = sns.lineplot(data=temp, x=\"epoch\", y=\"value\", hue=\"variable\")\n",
    "ax.set_title(\"Acurácia (Validacao) por Epoca\")"
   ]
  },
  {
   "cell_type": "code",
   "execution_count": 91,
   "metadata": {},
   "outputs": [
    {
     "data": {
      "text/html": [
       "<div>\n",
       "<style scoped>\n",
       "    .dataframe tbody tr th:only-of-type {\n",
       "        vertical-align: middle;\n",
       "    }\n",
       "\n",
       "    .dataframe tbody tr th {\n",
       "        vertical-align: top;\n",
       "    }\n",
       "\n",
       "    .dataframe thead th {\n",
       "        text-align: right;\n",
       "    }\n",
       "</style>\n",
       "<table border=\"1\" class=\"dataframe\">\n",
       "  <thead>\n",
       "    <tr style=\"text-align: right;\">\n",
       "      <th></th>\n",
       "      <th>execution</th>\n",
       "      <th>train_loss</th>\n",
       "      <th>val_loss</th>\n",
       "      <th>val_acc</th>\n",
       "      <th>time</th>\n",
       "      <th>zero_relu_call</th>\n",
       "      <th>total_relu_call</th>\n",
       "      <th>relu_proportion</th>\n",
       "    </tr>\n",
       "    <tr>\n",
       "      <th>epoch</th>\n",
       "      <th></th>\n",
       "      <th></th>\n",
       "      <th></th>\n",
       "      <th></th>\n",
       "      <th></th>\n",
       "      <th></th>\n",
       "      <th></th>\n",
       "      <th></th>\n",
       "    </tr>\n",
       "  </thead>\n",
       "  <tbody>\n",
       "    <tr>\n",
       "      <th>32</th>\n",
       "      <td>3.0</td>\n",
       "      <td>0.21338</td>\n",
       "      <td>0.276928</td>\n",
       "      <td>0.899878</td>\n",
       "      <td>12.242185</td>\n",
       "      <td>0.0</td>\n",
       "      <td>0.0</td>\n",
       "      <td>NaN</td>\n",
       "    </tr>\n",
       "  </tbody>\n",
       "</table>\n",
       "</div>"
      ],
      "text/plain": [
       "       execution  train_loss  val_loss   val_acc       time  zero_relu_call   \n",
       "epoch                                                                         \n",
       "32           3.0     0.21338  0.276928  0.899878  12.242185             0.0  \\\n",
       "\n",
       "       total_relu_call  relu_proportion  \n",
       "epoch                                    \n",
       "32                 0.0              NaN  "
      ]
     },
     "execution_count": 91,
     "metadata": {},
     "output_type": "execute_result"
    }
   ],
   "source": [
    "# melhor época original\n",
    "best_original = df_train_avg_original[df_train_avg_original[\"val_loss\"] == df_train_avg_original[\"val_loss\"].min()]\n",
    "best_original"
   ]
  },
  {
   "cell_type": "code",
   "execution_count": 92,
   "metadata": {},
   "outputs": [
    {
     "data": {
      "text/html": [
       "<div>\n",
       "<style scoped>\n",
       "    .dataframe tbody tr th:only-of-type {\n",
       "        vertical-align: middle;\n",
       "    }\n",
       "\n",
       "    .dataframe tbody tr th {\n",
       "        vertical-align: top;\n",
       "    }\n",
       "\n",
       "    .dataframe thead th {\n",
       "        text-align: right;\n",
       "    }\n",
       "</style>\n",
       "<table border=\"1\" class=\"dataframe\">\n",
       "  <thead>\n",
       "    <tr style=\"text-align: right;\">\n",
       "      <th></th>\n",
       "      <th>execution</th>\n",
       "      <th>train_loss</th>\n",
       "      <th>val_loss</th>\n",
       "      <th>val_acc</th>\n",
       "      <th>time</th>\n",
       "      <th>zero_relu_call</th>\n",
       "      <th>total_relu_call</th>\n",
       "      <th>relu_proportion</th>\n",
       "    </tr>\n",
       "    <tr>\n",
       "      <th>epoch</th>\n",
       "      <th></th>\n",
       "      <th></th>\n",
       "      <th></th>\n",
       "      <th></th>\n",
       "      <th></th>\n",
       "      <th></th>\n",
       "      <th></th>\n",
       "      <th></th>\n",
       "    </tr>\n",
       "  </thead>\n",
       "  <tbody>\n",
       "    <tr>\n",
       "      <th>30</th>\n",
       "      <td>3.0</td>\n",
       "      <td>0.222012</td>\n",
       "      <td>0.28305</td>\n",
       "      <td>0.8987</td>\n",
       "      <td>12.198193</td>\n",
       "      <td>0.0</td>\n",
       "      <td>0.0</td>\n",
       "      <td>NaN</td>\n",
       "    </tr>\n",
       "  </tbody>\n",
       "</table>\n",
       "</div>"
      ],
      "text/plain": [
       "       execution  train_loss  val_loss  val_acc       time  zero_relu_call   \n",
       "epoch                                                                        \n",
       "30           3.0    0.222012   0.28305   0.8987  12.198193             0.0  \\\n",
       "\n",
       "       total_relu_call  relu_proportion  \n",
       "epoch                                    \n",
       "30                 0.0              NaN  "
      ]
     },
     "execution_count": 92,
     "metadata": {},
     "output_type": "execute_result"
    }
   ],
   "source": [
    "# melhor época diff\n",
    "best_diff = df_train_avg_diff[df_train_avg_diff[\"val_loss\"] == df_train_avg_diff[\"val_loss\"].min()]\n",
    "best_diff"
   ]
  },
  {
   "cell_type": "code",
   "execution_count": 93,
   "metadata": {},
   "outputs": [
    {
     "data": {
      "text/html": [
       "<div>\n",
       "<style scoped>\n",
       "    .dataframe tbody tr th:only-of-type {\n",
       "        vertical-align: middle;\n",
       "    }\n",
       "\n",
       "    .dataframe tbody tr th {\n",
       "        vertical-align: top;\n",
       "    }\n",
       "\n",
       "    .dataframe thead th {\n",
       "        text-align: right;\n",
       "    }\n",
       "</style>\n",
       "<table border=\"1\" class=\"dataframe\">\n",
       "  <thead>\n",
       "    <tr style=\"text-align: right;\">\n",
       "      <th></th>\n",
       "      <th>Não Diferenciáveis</th>\n",
       "      <th>Diferenciáveis</th>\n",
       "      <th>Diferença (%)</th>\n",
       "    </tr>\n",
       "  </thead>\n",
       "  <tbody>\n",
       "    <tr>\n",
       "      <th>epoch</th>\n",
       "      <td>32.000000</td>\n",
       "      <td>30.000000</td>\n",
       "      <td>-6.250000</td>\n",
       "    </tr>\n",
       "    <tr>\n",
       "      <th>execution</th>\n",
       "      <td>3.000000</td>\n",
       "      <td>3.000000</td>\n",
       "      <td>0.000000</td>\n",
       "    </tr>\n",
       "    <tr>\n",
       "      <th>train_loss</th>\n",
       "      <td>0.213380</td>\n",
       "      <td>0.222012</td>\n",
       "      <td>4.045516</td>\n",
       "    </tr>\n",
       "    <tr>\n",
       "      <th>val_loss</th>\n",
       "      <td>0.276928</td>\n",
       "      <td>0.283050</td>\n",
       "      <td>2.210729</td>\n",
       "    </tr>\n",
       "    <tr>\n",
       "      <th>val_acc</th>\n",
       "      <td>0.899878</td>\n",
       "      <td>0.898700</td>\n",
       "      <td>-0.130882</td>\n",
       "    </tr>\n",
       "    <tr>\n",
       "      <th>time</th>\n",
       "      <td>12.242185</td>\n",
       "      <td>12.198193</td>\n",
       "      <td>-0.359351</td>\n",
       "    </tr>\n",
       "  </tbody>\n",
       "</table>\n",
       "</div>"
      ],
      "text/plain": [
       "            Não Diferenciáveis  Diferenciáveis  Diferença (%)\n",
       "epoch                32.000000       30.000000      -6.250000\n",
       "execution             3.000000        3.000000       0.000000\n",
       "train_loss            0.213380        0.222012       4.045516\n",
       "val_loss              0.276928        0.283050       2.210729\n",
       "val_acc               0.899878        0.898700      -0.130882\n",
       "time                 12.242185       12.198193      -0.359351"
      ]
     },
     "execution_count": 93,
     "metadata": {},
     "output_type": "execute_result"
    }
   ],
   "source": [
    "column_original = np.array([best_original.index[0]] + list(best_original.values[0]))[:6]\n",
    "column_diff = np.array([best_diff.index[0]] + list(best_diff.values[0]))[:6]\n",
    "column_difference = 100 * (column_diff - column_original) / column_original\n",
    "indexes = [\"epoch\"] + list(best_original)[:5]\n",
    "pd.DataFrame({\"Não Diferenciáveis\": column_original, \"Diferenciáveis\": column_diff, \"Diferença (%)\": column_difference}, index=indexes)"
   ]
  },
  {
   "cell_type": "code",
   "execution_count": 94,
   "metadata": {},
   "outputs": [
    {
     "data": {
      "text/plain": [
       "['execution',\n",
       " 'train_loss',\n",
       " 'val_loss',\n",
       " 'val_acc',\n",
       " 'time',\n",
       " 'zero_relu_call',\n",
       " 'total_relu_call',\n",
       " 'relu_proportion']"
      ]
     },
     "execution_count": 94,
     "metadata": {},
     "output_type": "execute_result"
    }
   ],
   "source": [
    "list(best_original)"
   ]
  },
  {
   "cell_type": "code",
   "execution_count": null,
   "metadata": {},
   "outputs": [],
   "source": []
  },
  {
   "cell_type": "code",
   "execution_count": 95,
   "metadata": {},
   "outputs": [
    {
     "name": "stdout",
     "output_type": "stream",
     "text": [
      "Tempo de treino até melhor época (não diff): 06:31\n",
      "Tempo de treino até melhor época (diff): 06:07\n",
      "Diferença: -6.14%\n"
     ]
    }
   ],
   "source": [
    "# tempo para chegar na melhor época\n",
    "epoch_original = df_train_avg_original[df_train_avg_original[\"val_loss\"] == df_train_avg_original[\"val_loss\"].min()].index[0]\n",
    "epoch_diff = df_train_avg_diff[df_train_avg_diff[\"val_loss\"] == df_train_avg_diff[\"val_loss\"].min()].index[0]\n",
    "\n",
    "time_original = round(df_train_avg_original.head(epoch_original)[\"time\"].sum())\n",
    "time_diff = round(df_train_avg_diff.head(epoch_diff)[\"time\"].sum())\n",
    "\n",
    "print(f\"Tempo de treino até melhor época (não diff): {time_original//60:02}:{time_original%60:02}\")\n",
    "print(f\"Tempo de treino até melhor época (diff): {time_diff//60:02}:{time_diff%60:02}\")\n",
    "print(f\"Diferença: {round(100*(time_diff - time_original) / time_original, 2)}%\")"
   ]
  },
  {
   "cell_type": "markdown",
   "metadata": {},
   "source": [
    "## Avaliação nos dados de teste"
   ]
  },
  {
   "cell_type": "code",
   "execution_count": 96,
   "metadata": {},
   "outputs": [
    {
     "data": {
      "text/html": [
       "<div>\n",
       "<style scoped>\n",
       "    .dataframe tbody tr th:only-of-type {\n",
       "        vertical-align: middle;\n",
       "    }\n",
       "\n",
       "    .dataframe tbody tr th {\n",
       "        vertical-align: top;\n",
       "    }\n",
       "\n",
       "    .dataframe thead th {\n",
       "        text-align: right;\n",
       "    }\n",
       "</style>\n",
       "<table border=\"1\" class=\"dataframe\">\n",
       "  <thead>\n",
       "    <tr style=\"text-align: right;\">\n",
       "      <th></th>\n",
       "      <th>execution</th>\n",
       "      <th>epoch</th>\n",
       "      <th>train_loss</th>\n",
       "      <th>val_loss</th>\n",
       "      <th>val_acc</th>\n",
       "      <th>time</th>\n",
       "      <th>zero_relu_call</th>\n",
       "      <th>total_relu_call</th>\n",
       "    </tr>\n",
       "  </thead>\n",
       "  <tbody>\n",
       "    <tr>\n",
       "      <th>50</th>\n",
       "      <td>1</td>\n",
       "      <td>-1</td>\n",
       "      <td>NaN</td>\n",
       "      <td>0.297968</td>\n",
       "      <td>0.8980</td>\n",
       "      <td>1.269205</td>\n",
       "      <td>0</td>\n",
       "      <td>0</td>\n",
       "    </tr>\n",
       "    <tr>\n",
       "      <th>101</th>\n",
       "      <td>2</td>\n",
       "      <td>-1</td>\n",
       "      <td>NaN</td>\n",
       "      <td>0.294643</td>\n",
       "      <td>0.8970</td>\n",
       "      <td>1.260402</td>\n",
       "      <td>0</td>\n",
       "      <td>0</td>\n",
       "    </tr>\n",
       "    <tr>\n",
       "      <th>152</th>\n",
       "      <td>3</td>\n",
       "      <td>-1</td>\n",
       "      <td>NaN</td>\n",
       "      <td>0.300511</td>\n",
       "      <td>0.8954</td>\n",
       "      <td>1.264198</td>\n",
       "      <td>0</td>\n",
       "      <td>0</td>\n",
       "    </tr>\n",
       "    <tr>\n",
       "      <th>203</th>\n",
       "      <td>4</td>\n",
       "      <td>-1</td>\n",
       "      <td>NaN</td>\n",
       "      <td>0.292725</td>\n",
       "      <td>0.9019</td>\n",
       "      <td>1.263530</td>\n",
       "      <td>0</td>\n",
       "      <td>0</td>\n",
       "    </tr>\n",
       "    <tr>\n",
       "      <th>254</th>\n",
       "      <td>5</td>\n",
       "      <td>-1</td>\n",
       "      <td>NaN</td>\n",
       "      <td>0.277338</td>\n",
       "      <td>0.9060</td>\n",
       "      <td>1.265903</td>\n",
       "      <td>0</td>\n",
       "      <td>0</td>\n",
       "    </tr>\n",
       "  </tbody>\n",
       "</table>\n",
       "</div>"
      ],
      "text/plain": [
       "     execution  epoch  train_loss  val_loss  val_acc      time   \n",
       "50           1     -1         NaN  0.297968   0.8980  1.269205  \\\n",
       "101          2     -1         NaN  0.294643   0.8970  1.260402   \n",
       "152          3     -1         NaN  0.300511   0.8954  1.264198   \n",
       "203          4     -1         NaN  0.292725   0.9019  1.263530   \n",
       "254          5     -1         NaN  0.277338   0.9060  1.265903   \n",
       "\n",
       "     zero_relu_call  total_relu_call  \n",
       "50                0                0  \n",
       "101               0                0  \n",
       "152               0                0  \n",
       "203               0                0  \n",
       "254               0                0  "
      ]
     },
     "execution_count": 96,
     "metadata": {},
     "output_type": "execute_result"
    }
   ],
   "source": [
    "df_diff_test"
   ]
  },
  {
   "cell_type": "code",
   "execution_count": 97,
   "metadata": {},
   "outputs": [
    {
     "data": {
      "text/html": [
       "<div>\n",
       "<style scoped>\n",
       "    .dataframe tbody tr th:only-of-type {\n",
       "        vertical-align: middle;\n",
       "    }\n",
       "\n",
       "    .dataframe tbody tr th {\n",
       "        vertical-align: top;\n",
       "    }\n",
       "\n",
       "    .dataframe thead th {\n",
       "        text-align: right;\n",
       "    }\n",
       "</style>\n",
       "<table border=\"1\" class=\"dataframe\">\n",
       "  <thead>\n",
       "    <tr style=\"text-align: right;\">\n",
       "      <th></th>\n",
       "      <th>execution</th>\n",
       "      <th>epoch</th>\n",
       "      <th>train_loss</th>\n",
       "      <th>val_loss</th>\n",
       "      <th>val_acc</th>\n",
       "      <th>time</th>\n",
       "      <th>zero_relu_call</th>\n",
       "      <th>total_relu_call</th>\n",
       "    </tr>\n",
       "  </thead>\n",
       "  <tbody>\n",
       "    <tr>\n",
       "      <th>50</th>\n",
       "      <td>1</td>\n",
       "      <td>-1</td>\n",
       "      <td>NaN</td>\n",
       "      <td>0.288983</td>\n",
       "      <td>0.9004</td>\n",
       "      <td>1.262363</td>\n",
       "      <td>0</td>\n",
       "      <td>0</td>\n",
       "    </tr>\n",
       "    <tr>\n",
       "      <th>101</th>\n",
       "      <td>2</td>\n",
       "      <td>-1</td>\n",
       "      <td>NaN</td>\n",
       "      <td>0.292437</td>\n",
       "      <td>0.8982</td>\n",
       "      <td>1.264677</td>\n",
       "      <td>0</td>\n",
       "      <td>0</td>\n",
       "    </tr>\n",
       "    <tr>\n",
       "      <th>152</th>\n",
       "      <td>3</td>\n",
       "      <td>-1</td>\n",
       "      <td>NaN</td>\n",
       "      <td>0.292809</td>\n",
       "      <td>0.9007</td>\n",
       "      <td>1.266744</td>\n",
       "      <td>0</td>\n",
       "      <td>0</td>\n",
       "    </tr>\n",
       "    <tr>\n",
       "      <th>203</th>\n",
       "      <td>4</td>\n",
       "      <td>-1</td>\n",
       "      <td>NaN</td>\n",
       "      <td>0.288795</td>\n",
       "      <td>0.8998</td>\n",
       "      <td>1.278348</td>\n",
       "      <td>0</td>\n",
       "      <td>0</td>\n",
       "    </tr>\n",
       "    <tr>\n",
       "      <th>254</th>\n",
       "      <td>5</td>\n",
       "      <td>-1</td>\n",
       "      <td>NaN</td>\n",
       "      <td>0.282695</td>\n",
       "      <td>0.9021</td>\n",
       "      <td>1.270087</td>\n",
       "      <td>0</td>\n",
       "      <td>0</td>\n",
       "    </tr>\n",
       "  </tbody>\n",
       "</table>\n",
       "</div>"
      ],
      "text/plain": [
       "     execution  epoch  train_loss  val_loss  val_acc      time   \n",
       "50           1     -1         NaN  0.288983   0.9004  1.262363  \\\n",
       "101          2     -1         NaN  0.292437   0.8982  1.264677   \n",
       "152          3     -1         NaN  0.292809   0.9007  1.266744   \n",
       "203          4     -1         NaN  0.288795   0.8998  1.278348   \n",
       "254          5     -1         NaN  0.282695   0.9021  1.270087   \n",
       "\n",
       "     zero_relu_call  total_relu_call  \n",
       "50                0                0  \n",
       "101               0                0  \n",
       "152               0                0  \n",
       "203               0                0  \n",
       "254               0                0  "
      ]
     },
     "execution_count": 97,
     "metadata": {},
     "output_type": "execute_result"
    }
   ],
   "source": [
    "df_original_test"
   ]
  },
  {
   "cell_type": "code",
   "execution_count": 98,
   "metadata": {},
   "outputs": [
    {
     "name": "stdout",
     "output_type": "stream",
     "text": [
      "Tempo Diferenciáveis: 1.2646475791931153 seg\n",
      "Tempo Não-diferenciáveis: 1.268443727493286 seg\n",
      "Diferenciáveis são -0.3% mais lentas\n"
     ]
    }
   ],
   "source": [
    "# prediction time\n",
    "diff_time = df_diff_test[\"time\"].mean()\n",
    "original_time = df_original_test[\"time\"].mean()\n",
    "diff = (diff_time - original_time) / original_time\n",
    "print(f\"Tempo Diferenciáveis: {diff_time} seg\")\n",
    "print(f\"Tempo Não-diferenciáveis: {original_time} seg\")\n",
    "print(f\"Diferenciáveis são {round(100*diff, 2)}% mais lentas\")"
   ]
  },
  {
   "cell_type": "code",
   "execution_count": 99,
   "metadata": {},
   "outputs": [
    {
     "name": "stdout",
     "output_type": "stream",
     "text": [
      "Loss Diferenciáveis: 0.29263719528913495\n",
      "Loss Não-diferenciáveis: 0.28914393365383145\n",
      "Diferenciáveis são 1.21% piores\n"
     ]
    }
   ],
   "source": [
    "# loss\n",
    "diff_loss = df_diff_test[\"val_loss\"].mean()\n",
    "original_loss = df_original_test[\"val_loss\"].mean()\n",
    "diff = (diff_loss - original_loss) / original_loss\n",
    "print(f\"Loss Diferenciáveis: {diff_loss}\")\n",
    "print(f\"Loss Não-diferenciáveis: {original_loss}\")\n",
    "print(f\"Diferenciáveis são {round(100*diff, 2)}% piores\")"
   ]
  },
  {
   "cell_type": "code",
   "execution_count": 100,
   "metadata": {},
   "outputs": [
    {
     "name": "stdout",
     "output_type": "stream",
     "text": [
      "Acurácia Diferenciáveis: 0.8996599999999999 seg\n",
      "Acurácia Não-diferenciáveis: 0.9002399999999999 seg\n",
      "Acurácia das diferenciáveis é 0.06% menor\n"
     ]
    }
   ],
   "source": [
    "# acc\n",
    "diff_acc = df_diff_test[\"val_acc\"].mean()\n",
    "original_acc = df_original_test[\"val_acc\"].mean()\n",
    "diff = (diff_acc - original_acc) / original_acc\n",
    "print(f\"Acurácia Diferenciáveis: {diff_acc} seg\")\n",
    "print(f\"Acurácia Não-diferenciáveis: {original_acc} seg\")\n",
    "if diff < 0:\n",
    "    print(f\"Acurácia das diferenciáveis é {-round(100*diff, 2)}% menor\")\n",
    "else:\n",
    "    print(f\"Acurácia das diferenciáveis é {round(100*diff, 2)}% maior\")"
   ]
  },
  {
   "cell_type": "code",
   "execution_count": null,
   "metadata": {},
   "outputs": [],
   "source": []
  }
 ],
 "metadata": {
  "kernelspec": {
   "display_name": "Python 3",
   "language": "python",
   "name": "python3"
  },
  "language_info": {
   "codemirror_mode": {
    "name": "ipython",
    "version": 3
   },
   "file_extension": ".py",
   "mimetype": "text/x-python",
   "name": "python",
   "nbconvert_exporter": "python",
   "pygments_lexer": "ipython3",
   "version": "3.10.12"
  }
 },
 "nbformat": 4,
 "nbformat_minor": 2
}
