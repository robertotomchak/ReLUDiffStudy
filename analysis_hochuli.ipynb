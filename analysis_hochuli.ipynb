{
 "cells": [
  {
   "cell_type": "code",
   "execution_count": 44,
   "metadata": {},
   "outputs": [],
   "source": [
    "import pandas as pd\n",
    "import seaborn as sns\n",
    "import matplotlib.pyplot as plt\n",
    "import numpy as np"
   ]
  },
  {
   "cell_type": "code",
   "execution_count": 45,
   "metadata": {},
   "outputs": [
    {
     "data": {
      "text/html": [
       "<div>\n",
       "<style scoped>\n",
       "    .dataframe tbody tr th:only-of-type {\n",
       "        vertical-align: middle;\n",
       "    }\n",
       "\n",
       "    .dataframe tbody tr th {\n",
       "        vertical-align: top;\n",
       "    }\n",
       "\n",
       "    .dataframe thead th {\n",
       "        text-align: right;\n",
       "    }\n",
       "</style>\n",
       "<table border=\"1\" class=\"dataframe\">\n",
       "  <thead>\n",
       "    <tr style=\"text-align: right;\">\n",
       "      <th></th>\n",
       "      <th>execution</th>\n",
       "      <th>epoch</th>\n",
       "      <th>train_loss</th>\n",
       "      <th>val_loss</th>\n",
       "      <th>val_acc</th>\n",
       "      <th>time</th>\n",
       "      <th>zero_relu_call</th>\n",
       "      <th>total_relu_call</th>\n",
       "    </tr>\n",
       "  </thead>\n",
       "  <tbody>\n",
       "    <tr>\n",
       "      <th>0</th>\n",
       "      <td>1</td>\n",
       "      <td>1</td>\n",
       "      <td>2.077848</td>\n",
       "      <td>0.958623</td>\n",
       "      <td>0.625944</td>\n",
       "      <td>18.802833</td>\n",
       "      <td>271</td>\n",
       "      <td>1056384000</td>\n",
       "    </tr>\n",
       "    <tr>\n",
       "      <th>1</th>\n",
       "      <td>1</td>\n",
       "      <td>2</td>\n",
       "      <td>0.756041</td>\n",
       "      <td>0.705587</td>\n",
       "      <td>0.740556</td>\n",
       "      <td>18.570406</td>\n",
       "      <td>196</td>\n",
       "      <td>1056384000</td>\n",
       "    </tr>\n",
       "    <tr>\n",
       "      <th>2</th>\n",
       "      <td>1</td>\n",
       "      <td>3</td>\n",
       "      <td>0.627331</td>\n",
       "      <td>0.585848</td>\n",
       "      <td>0.776111</td>\n",
       "      <td>18.664468</td>\n",
       "      <td>356</td>\n",
       "      <td>1056384000</td>\n",
       "    </tr>\n",
       "    <tr>\n",
       "      <th>3</th>\n",
       "      <td>1</td>\n",
       "      <td>4</td>\n",
       "      <td>0.550740</td>\n",
       "      <td>0.534774</td>\n",
       "      <td>0.794444</td>\n",
       "      <td>18.537678</td>\n",
       "      <td>181</td>\n",
       "      <td>1056384000</td>\n",
       "    </tr>\n",
       "    <tr>\n",
       "      <th>4</th>\n",
       "      <td>1</td>\n",
       "      <td>5</td>\n",
       "      <td>0.497681</td>\n",
       "      <td>0.500840</td>\n",
       "      <td>0.811944</td>\n",
       "      <td>16.949053</td>\n",
       "      <td>255</td>\n",
       "      <td>1056384000</td>\n",
       "    </tr>\n",
       "    <tr>\n",
       "      <th>...</th>\n",
       "      <td>...</td>\n",
       "      <td>...</td>\n",
       "      <td>...</td>\n",
       "      <td>...</td>\n",
       "      <td>...</td>\n",
       "      <td>...</td>\n",
       "      <td>...</td>\n",
       "      <td>...</td>\n",
       "    </tr>\n",
       "    <tr>\n",
       "      <th>250</th>\n",
       "      <td>5</td>\n",
       "      <td>47</td>\n",
       "      <td>0.160456</td>\n",
       "      <td>0.289406</td>\n",
       "      <td>0.903667</td>\n",
       "      <td>13.924776</td>\n",
       "      <td>263</td>\n",
       "      <td>1056384000</td>\n",
       "    </tr>\n",
       "    <tr>\n",
       "      <th>251</th>\n",
       "      <td>5</td>\n",
       "      <td>48</td>\n",
       "      <td>0.156830</td>\n",
       "      <td>0.285533</td>\n",
       "      <td>0.905111</td>\n",
       "      <td>17.994119</td>\n",
       "      <td>289</td>\n",
       "      <td>1056384000</td>\n",
       "    </tr>\n",
       "    <tr>\n",
       "      <th>252</th>\n",
       "      <td>5</td>\n",
       "      <td>49</td>\n",
       "      <td>0.151785</td>\n",
       "      <td>0.290211</td>\n",
       "      <td>0.901278</td>\n",
       "      <td>17.451107</td>\n",
       "      <td>258</td>\n",
       "      <td>1056384000</td>\n",
       "    </tr>\n",
       "    <tr>\n",
       "      <th>253</th>\n",
       "      <td>5</td>\n",
       "      <td>50</td>\n",
       "      <td>0.153382</td>\n",
       "      <td>0.302919</td>\n",
       "      <td>0.898611</td>\n",
       "      <td>18.260764</td>\n",
       "      <td>255</td>\n",
       "      <td>1056384000</td>\n",
       "    </tr>\n",
       "    <tr>\n",
       "      <th>254</th>\n",
       "      <td>5</td>\n",
       "      <td>-1</td>\n",
       "      <td>NaN</td>\n",
       "      <td>0.327266</td>\n",
       "      <td>0.897500</td>\n",
       "      <td>1.670979</td>\n",
       "      <td>0</td>\n",
       "      <td>0</td>\n",
       "    </tr>\n",
       "  </tbody>\n",
       "</table>\n",
       "<p>255 rows × 8 columns</p>\n",
       "</div>"
      ],
      "text/plain": [
       "     execution  epoch  train_loss  val_loss   val_acc       time   \n",
       "0            1      1    2.077848  0.958623  0.625944  18.802833  \\\n",
       "1            1      2    0.756041  0.705587  0.740556  18.570406   \n",
       "2            1      3    0.627331  0.585848  0.776111  18.664468   \n",
       "3            1      4    0.550740  0.534774  0.794444  18.537678   \n",
       "4            1      5    0.497681  0.500840  0.811944  16.949053   \n",
       "..         ...    ...         ...       ...       ...        ...   \n",
       "250          5     47    0.160456  0.289406  0.903667  13.924776   \n",
       "251          5     48    0.156830  0.285533  0.905111  17.994119   \n",
       "252          5     49    0.151785  0.290211  0.901278  17.451107   \n",
       "253          5     50    0.153382  0.302919  0.898611  18.260764   \n",
       "254          5     -1         NaN  0.327266  0.897500   1.670979   \n",
       "\n",
       "     zero_relu_call  total_relu_call  \n",
       "0               271       1056384000  \n",
       "1               196       1056384000  \n",
       "2               356       1056384000  \n",
       "3               181       1056384000  \n",
       "4               255       1056384000  \n",
       "..              ...              ...  \n",
       "250             263       1056384000  \n",
       "251             289       1056384000  \n",
       "252             258       1056384000  \n",
       "253             255       1056384000  \n",
       "254               0                0  \n",
       "\n",
       "[255 rows x 8 columns]"
      ]
     },
     "execution_count": 45,
     "metadata": {},
     "output_type": "execute_result"
    }
   ],
   "source": [
    "df_count = pd.read_csv(\"results/hochuli/count.csv\")\n",
    "df_count"
   ]
  },
  {
   "cell_type": "code",
   "execution_count": 46,
   "metadata": {},
   "outputs": [
    {
     "data": {
      "text/html": [
       "<div>\n",
       "<style scoped>\n",
       "    .dataframe tbody tr th:only-of-type {\n",
       "        vertical-align: middle;\n",
       "    }\n",
       "\n",
       "    .dataframe tbody tr th {\n",
       "        vertical-align: top;\n",
       "    }\n",
       "\n",
       "    .dataframe thead th {\n",
       "        text-align: right;\n",
       "    }\n",
       "</style>\n",
       "<table border=\"1\" class=\"dataframe\">\n",
       "  <thead>\n",
       "    <tr style=\"text-align: right;\">\n",
       "      <th></th>\n",
       "      <th>execution</th>\n",
       "      <th>epoch</th>\n",
       "      <th>train_loss</th>\n",
       "      <th>val_loss</th>\n",
       "      <th>val_acc</th>\n",
       "      <th>time</th>\n",
       "      <th>zero_relu_call</th>\n",
       "      <th>total_relu_call</th>\n",
       "    </tr>\n",
       "  </thead>\n",
       "  <tbody>\n",
       "    <tr>\n",
       "      <th>0</th>\n",
       "      <td>1</td>\n",
       "      <td>1</td>\n",
       "      <td>2.076448</td>\n",
       "      <td>0.940860</td>\n",
       "      <td>0.637611</td>\n",
       "      <td>15.515345</td>\n",
       "      <td>0</td>\n",
       "      <td>0</td>\n",
       "    </tr>\n",
       "    <tr>\n",
       "      <th>1</th>\n",
       "      <td>1</td>\n",
       "      <td>2</td>\n",
       "      <td>0.767426</td>\n",
       "      <td>0.716948</td>\n",
       "      <td>0.745389</td>\n",
       "      <td>12.843624</td>\n",
       "      <td>0</td>\n",
       "      <td>0</td>\n",
       "    </tr>\n",
       "    <tr>\n",
       "      <th>2</th>\n",
       "      <td>1</td>\n",
       "      <td>3</td>\n",
       "      <td>0.636467</td>\n",
       "      <td>0.590405</td>\n",
       "      <td>0.777944</td>\n",
       "      <td>12.673248</td>\n",
       "      <td>0</td>\n",
       "      <td>0</td>\n",
       "    </tr>\n",
       "    <tr>\n",
       "      <th>3</th>\n",
       "      <td>1</td>\n",
       "      <td>4</td>\n",
       "      <td>0.553782</td>\n",
       "      <td>0.551070</td>\n",
       "      <td>0.791056</td>\n",
       "      <td>13.109071</td>\n",
       "      <td>0</td>\n",
       "      <td>0</td>\n",
       "    </tr>\n",
       "    <tr>\n",
       "      <th>4</th>\n",
       "      <td>1</td>\n",
       "      <td>5</td>\n",
       "      <td>0.493711</td>\n",
       "      <td>0.500651</td>\n",
       "      <td>0.818667</td>\n",
       "      <td>12.691762</td>\n",
       "      <td>0</td>\n",
       "      <td>0</td>\n",
       "    </tr>\n",
       "    <tr>\n",
       "      <th>...</th>\n",
       "      <td>...</td>\n",
       "      <td>...</td>\n",
       "      <td>...</td>\n",
       "      <td>...</td>\n",
       "      <td>...</td>\n",
       "      <td>...</td>\n",
       "      <td>...</td>\n",
       "      <td>...</td>\n",
       "    </tr>\n",
       "    <tr>\n",
       "      <th>250</th>\n",
       "      <td>5</td>\n",
       "      <td>47</td>\n",
       "      <td>0.150566</td>\n",
       "      <td>0.299713</td>\n",
       "      <td>0.903889</td>\n",
       "      <td>13.913952</td>\n",
       "      <td>0</td>\n",
       "      <td>0</td>\n",
       "    </tr>\n",
       "    <tr>\n",
       "      <th>251</th>\n",
       "      <td>5</td>\n",
       "      <td>48</td>\n",
       "      <td>0.147795</td>\n",
       "      <td>0.300733</td>\n",
       "      <td>0.903278</td>\n",
       "      <td>13.728238</td>\n",
       "      <td>0</td>\n",
       "      <td>0</td>\n",
       "    </tr>\n",
       "    <tr>\n",
       "      <th>252</th>\n",
       "      <td>5</td>\n",
       "      <td>49</td>\n",
       "      <td>0.146143</td>\n",
       "      <td>0.296230</td>\n",
       "      <td>0.904611</td>\n",
       "      <td>13.815152</td>\n",
       "      <td>0</td>\n",
       "      <td>0</td>\n",
       "    </tr>\n",
       "    <tr>\n",
       "      <th>253</th>\n",
       "      <td>5</td>\n",
       "      <td>50</td>\n",
       "      <td>0.143592</td>\n",
       "      <td>0.313043</td>\n",
       "      <td>0.900833</td>\n",
       "      <td>13.170426</td>\n",
       "      <td>0</td>\n",
       "      <td>0</td>\n",
       "    </tr>\n",
       "    <tr>\n",
       "      <th>254</th>\n",
       "      <td>5</td>\n",
       "      <td>-1</td>\n",
       "      <td>NaN</td>\n",
       "      <td>0.327480</td>\n",
       "      <td>0.897500</td>\n",
       "      <td>1.685238</td>\n",
       "      <td>0</td>\n",
       "      <td>0</td>\n",
       "    </tr>\n",
       "  </tbody>\n",
       "</table>\n",
       "<p>255 rows × 8 columns</p>\n",
       "</div>"
      ],
      "text/plain": [
       "     execution  epoch  train_loss  val_loss   val_acc       time   \n",
       "0            1      1    2.076448  0.940860  0.637611  15.515345  \\\n",
       "1            1      2    0.767426  0.716948  0.745389  12.843624   \n",
       "2            1      3    0.636467  0.590405  0.777944  12.673248   \n",
       "3            1      4    0.553782  0.551070  0.791056  13.109071   \n",
       "4            1      5    0.493711  0.500651  0.818667  12.691762   \n",
       "..         ...    ...         ...       ...       ...        ...   \n",
       "250          5     47    0.150566  0.299713  0.903889  13.913952   \n",
       "251          5     48    0.147795  0.300733  0.903278  13.728238   \n",
       "252          5     49    0.146143  0.296230  0.904611  13.815152   \n",
       "253          5     50    0.143592  0.313043  0.900833  13.170426   \n",
       "254          5     -1         NaN  0.327480  0.897500   1.685238   \n",
       "\n",
       "     zero_relu_call  total_relu_call  \n",
       "0                 0                0  \n",
       "1                 0                0  \n",
       "2                 0                0  \n",
       "3                 0                0  \n",
       "4                 0                0  \n",
       "..              ...              ...  \n",
       "250               0                0  \n",
       "251               0                0  \n",
       "252               0                0  \n",
       "253               0                0  \n",
       "254               0                0  \n",
       "\n",
       "[255 rows x 8 columns]"
      ]
     },
     "execution_count": 46,
     "metadata": {},
     "output_type": "execute_result"
    }
   ],
   "source": [
    "df_original = pd.read_csv(\"results/hochuli/original.csv\")\n",
    "df_original"
   ]
  },
  {
   "cell_type": "code",
   "execution_count": 47,
   "metadata": {},
   "outputs": [
    {
     "data": {
      "text/html": [
       "<div>\n",
       "<style scoped>\n",
       "    .dataframe tbody tr th:only-of-type {\n",
       "        vertical-align: middle;\n",
       "    }\n",
       "\n",
       "    .dataframe tbody tr th {\n",
       "        vertical-align: top;\n",
       "    }\n",
       "\n",
       "    .dataframe thead th {\n",
       "        text-align: right;\n",
       "    }\n",
       "</style>\n",
       "<table border=\"1\" class=\"dataframe\">\n",
       "  <thead>\n",
       "    <tr style=\"text-align: right;\">\n",
       "      <th></th>\n",
       "      <th>execution</th>\n",
       "      <th>epoch</th>\n",
       "      <th>train_loss</th>\n",
       "      <th>val_loss</th>\n",
       "      <th>val_acc</th>\n",
       "      <th>time</th>\n",
       "      <th>zero_relu_call</th>\n",
       "      <th>total_relu_call</th>\n",
       "    </tr>\n",
       "  </thead>\n",
       "  <tbody>\n",
       "    <tr>\n",
       "      <th>0</th>\n",
       "      <td>1</td>\n",
       "      <td>1</td>\n",
       "      <td>2.290108</td>\n",
       "      <td>2.198079</td>\n",
       "      <td>0.224222</td>\n",
       "      <td>13.482002</td>\n",
       "      <td>0</td>\n",
       "      <td>0</td>\n",
       "    </tr>\n",
       "    <tr>\n",
       "      <th>1</th>\n",
       "      <td>1</td>\n",
       "      <td>2</td>\n",
       "      <td>0.946207</td>\n",
       "      <td>0.720950</td>\n",
       "      <td>0.741278</td>\n",
       "      <td>13.864604</td>\n",
       "      <td>0</td>\n",
       "      <td>0</td>\n",
       "    </tr>\n",
       "    <tr>\n",
       "      <th>2</th>\n",
       "      <td>1</td>\n",
       "      <td>3</td>\n",
       "      <td>0.653622</td>\n",
       "      <td>0.601815</td>\n",
       "      <td>0.776889</td>\n",
       "      <td>14.125720</td>\n",
       "      <td>0</td>\n",
       "      <td>0</td>\n",
       "    </tr>\n",
       "    <tr>\n",
       "      <th>3</th>\n",
       "      <td>1</td>\n",
       "      <td>4</td>\n",
       "      <td>0.567568</td>\n",
       "      <td>0.556717</td>\n",
       "      <td>0.788611</td>\n",
       "      <td>13.961862</td>\n",
       "      <td>0</td>\n",
       "      <td>0</td>\n",
       "    </tr>\n",
       "    <tr>\n",
       "      <th>4</th>\n",
       "      <td>1</td>\n",
       "      <td>5</td>\n",
       "      <td>0.506374</td>\n",
       "      <td>0.530619</td>\n",
       "      <td>0.802944</td>\n",
       "      <td>12.726043</td>\n",
       "      <td>0</td>\n",
       "      <td>0</td>\n",
       "    </tr>\n",
       "    <tr>\n",
       "      <th>...</th>\n",
       "      <td>...</td>\n",
       "      <td>...</td>\n",
       "      <td>...</td>\n",
       "      <td>...</td>\n",
       "      <td>...</td>\n",
       "      <td>...</td>\n",
       "      <td>...</td>\n",
       "      <td>...</td>\n",
       "    </tr>\n",
       "    <tr>\n",
       "      <th>250</th>\n",
       "      <td>5</td>\n",
       "      <td>47</td>\n",
       "      <td>0.150821</td>\n",
       "      <td>0.290354</td>\n",
       "      <td>0.904333</td>\n",
       "      <td>15.265646</td>\n",
       "      <td>0</td>\n",
       "      <td>0</td>\n",
       "    </tr>\n",
       "    <tr>\n",
       "      <th>251</th>\n",
       "      <td>5</td>\n",
       "      <td>48</td>\n",
       "      <td>0.148586</td>\n",
       "      <td>0.306200</td>\n",
       "      <td>0.899111</td>\n",
       "      <td>15.687904</td>\n",
       "      <td>0</td>\n",
       "      <td>0</td>\n",
       "    </tr>\n",
       "    <tr>\n",
       "      <th>252</th>\n",
       "      <td>5</td>\n",
       "      <td>49</td>\n",
       "      <td>0.144009</td>\n",
       "      <td>0.312686</td>\n",
       "      <td>0.900056</td>\n",
       "      <td>15.100466</td>\n",
       "      <td>0</td>\n",
       "      <td>0</td>\n",
       "    </tr>\n",
       "    <tr>\n",
       "      <th>253</th>\n",
       "      <td>5</td>\n",
       "      <td>50</td>\n",
       "      <td>0.143545</td>\n",
       "      <td>0.301536</td>\n",
       "      <td>0.902500</td>\n",
       "      <td>15.581184</td>\n",
       "      <td>0</td>\n",
       "      <td>0</td>\n",
       "    </tr>\n",
       "    <tr>\n",
       "      <th>254</th>\n",
       "      <td>5</td>\n",
       "      <td>-1</td>\n",
       "      <td>NaN</td>\n",
       "      <td>0.316609</td>\n",
       "      <td>0.899300</td>\n",
       "      <td>1.927245</td>\n",
       "      <td>0</td>\n",
       "      <td>0</td>\n",
       "    </tr>\n",
       "  </tbody>\n",
       "</table>\n",
       "<p>255 rows × 8 columns</p>\n",
       "</div>"
      ],
      "text/plain": [
       "     execution  epoch  train_loss  val_loss   val_acc       time   \n",
       "0            1      1    2.290108  2.198079  0.224222  13.482002  \\\n",
       "1            1      2    0.946207  0.720950  0.741278  13.864604   \n",
       "2            1      3    0.653622  0.601815  0.776889  14.125720   \n",
       "3            1      4    0.567568  0.556717  0.788611  13.961862   \n",
       "4            1      5    0.506374  0.530619  0.802944  12.726043   \n",
       "..         ...    ...         ...       ...       ...        ...   \n",
       "250          5     47    0.150821  0.290354  0.904333  15.265646   \n",
       "251          5     48    0.148586  0.306200  0.899111  15.687904   \n",
       "252          5     49    0.144009  0.312686  0.900056  15.100466   \n",
       "253          5     50    0.143545  0.301536  0.902500  15.581184   \n",
       "254          5     -1         NaN  0.316609  0.899300   1.927245   \n",
       "\n",
       "     zero_relu_call  total_relu_call  \n",
       "0                 0                0  \n",
       "1                 0                0  \n",
       "2                 0                0  \n",
       "3                 0                0  \n",
       "4                 0                0  \n",
       "..              ...              ...  \n",
       "250               0                0  \n",
       "251               0                0  \n",
       "252               0                0  \n",
       "253               0                0  \n",
       "254               0                0  \n",
       "\n",
       "[255 rows x 8 columns]"
      ]
     },
     "execution_count": 47,
     "metadata": {},
     "output_type": "execute_result"
    }
   ],
   "source": [
    "df_diff = pd.read_csv(\"results/hochuli/diff.csv\")\n",
    "df_diff"
   ]
  },
  {
   "cell_type": "code",
   "execution_count": 48,
   "metadata": {},
   "outputs": [],
   "source": [
    "# splitting training and test\n",
    "df_count_train = df_count[df_count[\"epoch\"] != -1]\n",
    "df_count_test = df_count[df_count[\"epoch\"] == -1]\n",
    "df_original_train = df_original[df_original[\"epoch\"] != -1]\n",
    "df_original_test = df_original[df_original[\"epoch\"] == -1]\n",
    "df_diff_train = df_diff[df_diff[\"epoch\"] != -1]\n",
    "df_diff_test = df_diff[df_diff[\"epoch\"] == -1]"
   ]
  },
  {
   "cell_type": "code",
   "execution_count": 49,
   "metadata": {},
   "outputs": [
    {
     "name": "stderr",
     "output_type": "stream",
     "text": [
      "/tmp/ipykernel_6762/561248041.py:2: SettingWithCopyWarning: \n",
      "A value is trying to be set on a copy of a slice from a DataFrame.\n",
      "Try using .loc[row_indexer,col_indexer] = value instead\n",
      "\n",
      "See the caveats in the documentation: https://pandas.pydata.org/pandas-docs/stable/user_guide/indexing.html#returning-a-view-versus-a-copy\n",
      "  df_count_train[\"relu_proportion\"] = df_count_train[\"zero_relu_call\"] / df_count_train[\"total_relu_call\"]\n",
      "/tmp/ipykernel_6762/561248041.py:3: SettingWithCopyWarning: \n",
      "A value is trying to be set on a copy of a slice from a DataFrame.\n",
      "Try using .loc[row_indexer,col_indexer] = value instead\n",
      "\n",
      "See the caveats in the documentation: https://pandas.pydata.org/pandas-docs/stable/user_guide/indexing.html#returning-a-view-versus-a-copy\n",
      "  df_original_train[\"relu_proportion\"] = df_original_train[\"zero_relu_call\"] / df_original_train[\"total_relu_call\"]\n",
      "/tmp/ipykernel_6762/561248041.py:4: SettingWithCopyWarning: \n",
      "A value is trying to be set on a copy of a slice from a DataFrame.\n",
      "Try using .loc[row_indexer,col_indexer] = value instead\n",
      "\n",
      "See the caveats in the documentation: https://pandas.pydata.org/pandas-docs/stable/user_guide/indexing.html#returning-a-view-versus-a-copy\n",
      "  df_diff_train[\"relu_proportion\"] = df_diff_train[\"zero_relu_call\"] / df_diff_train[\"total_relu_call\"]\n"
     ]
    }
   ],
   "source": [
    "# add relu proportion\n",
    "df_count_train[\"relu_proportion\"] = df_count_train[\"zero_relu_call\"] / df_count_train[\"total_relu_call\"]\n",
    "df_original_train[\"relu_proportion\"] = df_original_train[\"zero_relu_call\"] / df_original_train[\"total_relu_call\"]\n",
    "df_diff_train[\"relu_proportion\"] = df_diff_train[\"zero_relu_call\"] / df_diff_train[\"total_relu_call\"]"
   ]
  },
  {
   "cell_type": "markdown",
   "metadata": {},
   "source": [
    "## Frequência da ReLU"
   ]
  },
  {
   "cell_type": "markdown",
   "metadata": {},
   "source": [
    "Tamanho da rede: 122_570"
   ]
  },
  {
   "cell_type": "code",
   "execution_count": 50,
   "metadata": {},
   "outputs": [
    {
     "name": "stdout",
     "output_type": "stream",
     "text": [
      "Proporção Média da ReLU: 6.095446352841391e-06    1/164_057\n"
     ]
    }
   ],
   "source": [
    "df_train_avg = df_count_train.groupby(\"epoch\").mean()\n",
    "relu_proportion = df_train_avg[\"zero_relu_call\"].sum() / df_train_avg[\"total_relu_call\"].sum()\n",
    "print(f\"Proporção Média da ReLU: {relu_proportion}    1/{round(1/relu_proportion):_}\")"
   ]
  },
  {
   "cell_type": "code",
   "execution_count": 51,
   "metadata": {},
   "outputs": [
    {
     "data": {
      "image/png": "[encoded data removed]",
      "text/plain": [
       "<Figure size 640x480 with 1 Axes>"
      ]
     },
     "metadata": {},
     "output_type": "display_data"
    }
   ],
   "source": [
    "df_train_avg = df_count_train.groupby(\"epoch\").mean()\n",
    "ax = sns.lineplot(data=df_train_avg, x=\"epoch\", y=\"relu_proportion\")\n",
    "ax.set(xlabel=\"época\", ylabel=\"relu'(0) / relu'(x)\")\n",
    "plt.savefig('relu_proportion.eps', format='eps')"
   ]
  },
  {
   "cell_type": "markdown",
   "metadata": {},
   "source": [
    "## Eficiência do Modelo"
   ]
  },
  {
   "cell_type": "code",
   "execution_count": 52,
   "metadata": {},
   "outputs": [
    {
     "name": "stdout",
     "output_type": "stream",
     "text": [
      "Acurácia (teste) média: 89.85%\n"
     ]
    }
   ],
   "source": [
    "print(f\"Acurácia (teste) média: {round(100*df_count_test['val_acc'].mean(), 2)}%\")"
   ]
  },
  {
   "cell_type": "code",
   "execution_count": 53,
   "metadata": {},
   "outputs": [
    {
     "data": {
      "text/plain": [
       "<Axes: xlabel='epoch', ylabel='train_loss'>"
      ]
     },
     "execution_count": 53,
     "metadata": {},
     "output_type": "execute_result"
    },
    {
     "data": {
      "image/png": "[encoded data removed]",
      "text/plain": [
       "<Figure size 640x480 with 1 Axes>"
      ]
     },
     "metadata": {},
     "output_type": "display_data"
    }
   ],
   "source": [
    "ax = sns.lineplot(data=df_train_avg, x=\"epoch\", y=\"train_loss\")\n",
    "sns.lineplot(data=df_train_avg, x=\"epoch\", y=\"val_loss\", ax=ax)"
   ]
  },
  {
   "cell_type": "code",
   "execution_count": 54,
   "metadata": {},
   "outputs": [
    {
     "name": "stdout",
     "output_type": "stream",
     "text": [
      "Tempo médio de treino: 13:25\n"
     ]
    }
   ],
   "source": [
    "df_train_sum = df_count_train.groupby(\"execution\").sum()\n",
    "seconds_avg = round(df_train_sum[\"time\"].mean())\n",
    "minutes_avg = seconds_avg // 60\n",
    "seconds_avg = seconds_avg % 60\n",
    "print(f\"Tempo médio de treino: {minutes_avg}:{seconds_avg}\")"
   ]
  },
  {
   "cell_type": "markdown",
   "metadata": {},
   "source": [
    "## Comparando com funções diferenciáveis"
   ]
  },
  {
   "cell_type": "code",
   "execution_count": 55,
   "metadata": {},
   "outputs": [],
   "source": [
    "df_train_avg_diff = df_diff_train.groupby(\"epoch\").mean()\n",
    "df_train_avg_original = df_original_train.groupby(\"epoch\").mean()"
   ]
  },
  {
   "cell_type": "code",
   "execution_count": 56,
   "metadata": {},
   "outputs": [
    {
     "data": {
      "text/plain": [
       "[Text(0.5, 0, 'época'), Text(0, 0.5, 'tempo (seg)')]"
      ]
     },
     "execution_count": 56,
     "metadata": {},
     "output_type": "execute_result"
    },
    {
     "data": {
      "image/png": "[encoded data removed]",
      "text/plain": [
       "<Figure size 640x480 with 1 Axes>"
      ]
     },
     "metadata": {},
     "output_type": "display_data"
    }
   ],
   "source": [
    "temp = pd.DataFrame()\n",
    "temp[\"original\"] = df_train_avg_original[\"time\"]\n",
    "temp[\"diff\"] = df_train_avg_diff[\"time\"]\n",
    "temp[\"epoch\"] = df_train_avg.index\n",
    "temp = pd.melt(temp, [\"epoch\"])\n",
    "ax = sns.lineplot(data=temp, x=\"epoch\", y=\"value\", hue=\"variable\")\n",
    "#ax.set_title(\"Tempo por Epoca\")\n",
    "ax.set(xlabel=\"época\", ylabel=\"tempo (seg)\")"
   ]
  },
  {
   "cell_type": "code",
   "execution_count": 57,
   "metadata": {},
   "outputs": [
    {
     "name": "stdout",
     "output_type": "stream",
     "text": [
      "Tempo total de treino (não diff): 11:13\n",
      "Tempo total de treino (diff): 11:25\n",
      "Diferença: 1.78%\n"
     ]
    }
   ],
   "source": [
    "# tempo total de treino\n",
    "time_original = round(df_train_avg_original[\"time\"].sum())\n",
    "time_diff = round(df_train_avg_diff[\"time\"].sum())\n",
    "\n",
    "print(f\"Tempo total de treino (não diff): {time_original//60:02}:{time_original%60:02}\")\n",
    "print(f\"Tempo total de treino (diff): {time_diff//60:02}:{time_diff%60:02}\")\n",
    "print(f\"Diferença: {round(100*(time_diff - time_original) / time_original, 2)}%\")"
   ]
  },
  {
   "cell_type": "code",
   "execution_count": 58,
   "metadata": {},
   "outputs": [
    {
     "data": {
      "text/plain": [
       "Text(0.5, 1.0, 'Loss (Treino) por Epoca')"
      ]
     },
     "execution_count": 58,
     "metadata": {},
     "output_type": "execute_result"
    },
    {
     "data": {
      "image/png": "[encoded data removed]",
      "text/plain": [
       "<Figure size 640x480 with 1 Axes>"
      ]
     },
     "metadata": {},
     "output_type": "display_data"
    }
   ],
   "source": [
    "temp = pd.DataFrame()\n",
    "temp[\"original\"] = df_train_avg_original[\"train_loss\"]\n",
    "temp[\"diff\"] = df_train_avg_diff[\"train_loss\"]\n",
    "temp[\"epoch\"] = df_train_avg.index\n",
    "temp = pd.melt(temp, [\"epoch\"])\n",
    "ax = sns.lineplot(data=temp, x=\"epoch\", y=\"value\", hue=\"variable\")\n",
    "ax.set_title(\"Loss (Treino) por Epoca\")"
   ]
  },
  {
   "cell_type": "code",
   "execution_count": 68,
   "metadata": {},
   "outputs": [
    {
     "name": "stderr",
     "output_type": "stream",
     "text": [
      "The PostScript backend does not support transparency; partially transparent artists will be rendered opaque.\n"
     ]
    },
    {
     "data": {
      "image/png": "[encoded data removed]",
      "text/plain": [
       "<Figure size 640x480 with 1 Axes>"
      ]
     },
     "metadata": {},
     "output_type": "display_data"
    }
   ],
   "source": [
    "temp = pd.DataFrame()\n",
    "temp[\"original\"] = df_train_avg_original[\"val_loss\"]\n",
    "temp[\"diff\"] = df_train_avg_diff[\"val_loss\"]\n",
    "temp[\"epoch\"] = df_train_avg.index\n",
    "temp = pd.melt(temp, [\"epoch\"])\n",
    "temp = temp.rename(columns={\"variable\": \"modelo\"})\n",
    "temp[\"modelo\"] = temp[\"modelo\"].replace(\"original\", \"não diferenciável\")\n",
    "temp[\"modelo\"] = temp[\"modelo\"].replace(\"diff\", \"diferenciável\")\n",
    "ax = sns.lineplot(data=temp, x=\"epoch\", y=\"value\", hue=\"modelo\")\n",
    "ax.set(xlabel=\"época\", ylabel=\"loss (validação)\")\n",
    "plt.savefig('val_loss.eps', format='eps')"
   ]
  },
  {
   "cell_type": "code",
   "execution_count": 43,
   "metadata": {},
   "outputs": [
    {
     "name": "stderr",
     "output_type": "stream",
     "text": [
      "The PostScript backend does not support transparency; partially transparent artists will be rendered opaque.\n"
     ]
    },
    {
     "data": {
      "image/png": "[encoded data removed]",
      "text/plain": [
       "<Figure size 640x480 with 1 Axes>"
      ]
     },
     "metadata": {},
     "output_type": "display_data"
    }
   ],
   "source": [
    "temp = pd.DataFrame()\n",
    "temp[\"original\"] = df_train_avg_original[\"val_acc\"]\n",
    "temp[\"diff\"] = df_train_avg_diff[\"val_acc\"]\n",
    "temp[\"epoch\"] = df_train_avg.index\n",
    "temp = pd.melt(temp, [\"epoch\"])\n",
    "ax = sns.lineplot(data=temp, x=\"epoch\", y=\"value\", hue=\"variable\")"
   ]
  },
  {
   "cell_type": "code",
   "execution_count": 32,
   "metadata": {},
   "outputs": [
    {
     "data": {
      "text/html": [
       "<div>\n",
       "<style scoped>\n",
       "    .dataframe tbody tr th:only-of-type {\n",
       "        vertical-align: middle;\n",
       "    }\n",
       "\n",
       "    .dataframe tbody tr th {\n",
       "        vertical-align: top;\n",
       "    }\n",
       "\n",
       "    .dataframe thead th {\n",
       "        text-align: right;\n",
       "    }\n",
       "</style>\n",
       "<table border=\"1\" class=\"dataframe\">\n",
       "  <thead>\n",
       "    <tr style=\"text-align: right;\">\n",
       "      <th></th>\n",
       "      <th>execution</th>\n",
       "      <th>train_loss</th>\n",
       "      <th>val_loss</th>\n",
       "      <th>val_acc</th>\n",
       "      <th>time</th>\n",
       "      <th>zero_relu_call</th>\n",
       "      <th>total_relu_call</th>\n",
       "      <th>relu_proportion</th>\n",
       "    </tr>\n",
       "    <tr>\n",
       "      <th>epoch</th>\n",
       "      <th></th>\n",
       "      <th></th>\n",
       "      <th></th>\n",
       "      <th></th>\n",
       "      <th></th>\n",
       "      <th></th>\n",
       "      <th></th>\n",
       "      <th></th>\n",
       "    </tr>\n",
       "  </thead>\n",
       "  <tbody>\n",
       "    <tr>\n",
       "      <th>44</th>\n",
       "      <td>3.0</td>\n",
       "      <td>0.170692</td>\n",
       "      <td>0.280153</td>\n",
       "      <td>0.904489</td>\n",
       "      <td>13.671448</td>\n",
       "      <td>0.0</td>\n",
       "      <td>0.0</td>\n",
       "      <td>NaN</td>\n",
       "    </tr>\n",
       "  </tbody>\n",
       "</table>\n",
       "</div>"
      ],
      "text/plain": [
       "       execution  train_loss  val_loss   val_acc       time  zero_relu_call   \n",
       "epoch                                                                         \n",
       "44           3.0    0.170692  0.280153  0.904489  13.671448             0.0  \\\n",
       "\n",
       "       total_relu_call  relu_proportion  \n",
       "epoch                                    \n",
       "44                 0.0              NaN  "
      ]
     },
     "execution_count": 32,
     "metadata": {},
     "output_type": "execute_result"
    }
   ],
   "source": [
    "# melhor época original\n",
    "best_original = df_train_avg_original[df_train_avg_original[\"val_loss\"] == df_train_avg_original[\"val_loss\"].min()]\n",
    "best_original"
   ]
  },
  {
   "cell_type": "code",
   "execution_count": 33,
   "metadata": {},
   "outputs": [
    {
     "data": {
      "text/html": [
       "<div>\n",
       "<style scoped>\n",
       "    .dataframe tbody tr th:only-of-type {\n",
       "        vertical-align: middle;\n",
       "    }\n",
       "\n",
       "    .dataframe tbody tr th {\n",
       "        vertical-align: top;\n",
       "    }\n",
       "\n",
       "    .dataframe thead th {\n",
       "        text-align: right;\n",
       "    }\n",
       "</style>\n",
       "<table border=\"1\" class=\"dataframe\">\n",
       "  <thead>\n",
       "    <tr style=\"text-align: right;\">\n",
       "      <th></th>\n",
       "      <th>execution</th>\n",
       "      <th>train_loss</th>\n",
       "      <th>val_loss</th>\n",
       "      <th>val_acc</th>\n",
       "      <th>time</th>\n",
       "      <th>zero_relu_call</th>\n",
       "      <th>total_relu_call</th>\n",
       "      <th>relu_proportion</th>\n",
       "    </tr>\n",
       "    <tr>\n",
       "      <th>epoch</th>\n",
       "      <th></th>\n",
       "      <th></th>\n",
       "      <th></th>\n",
       "      <th></th>\n",
       "      <th></th>\n",
       "      <th></th>\n",
       "      <th></th>\n",
       "      <th></th>\n",
       "    </tr>\n",
       "  </thead>\n",
       "  <tbody>\n",
       "    <tr>\n",
       "      <th>41</th>\n",
       "      <td>3.0</td>\n",
       "      <td>0.181405</td>\n",
       "      <td>0.285902</td>\n",
       "      <td>0.902278</td>\n",
       "      <td>13.255686</td>\n",
       "      <td>0.0</td>\n",
       "      <td>0.0</td>\n",
       "      <td>NaN</td>\n",
       "    </tr>\n",
       "  </tbody>\n",
       "</table>\n",
       "</div>"
      ],
      "text/plain": [
       "       execution  train_loss  val_loss   val_acc       time  zero_relu_call   \n",
       "epoch                                                                         \n",
       "41           3.0    0.181405  0.285902  0.902278  13.255686             0.0  \\\n",
       "\n",
       "       total_relu_call  relu_proportion  \n",
       "epoch                                    \n",
       "41                 0.0              NaN  "
      ]
     },
     "execution_count": 33,
     "metadata": {},
     "output_type": "execute_result"
    }
   ],
   "source": [
    "# melhor época diff\n",
    "best_diff = df_train_avg_diff[df_train_avg_diff[\"val_loss\"] == df_train_avg_diff[\"val_loss\"].min()]\n",
    "best_diff"
   ]
  },
  {
   "cell_type": "code",
   "execution_count": 34,
   "metadata": {},
   "outputs": [
    {
     "data": {
      "text/html": [
       "<div>\n",
       "<style scoped>\n",
       "    .dataframe tbody tr th:only-of-type {\n",
       "        vertical-align: middle;\n",
       "    }\n",
       "\n",
       "    .dataframe tbody tr th {\n",
       "        vertical-align: top;\n",
       "    }\n",
       "\n",
       "    .dataframe thead th {\n",
       "        text-align: right;\n",
       "    }\n",
       "</style>\n",
       "<table border=\"1\" class=\"dataframe\">\n",
       "  <thead>\n",
       "    <tr style=\"text-align: right;\">\n",
       "      <th></th>\n",
       "      <th>Não Diferenciáveis</th>\n",
       "      <th>Diferenciáveis</th>\n",
       "      <th>Diferença (%)</th>\n",
       "    </tr>\n",
       "  </thead>\n",
       "  <tbody>\n",
       "    <tr>\n",
       "      <th>epoch</th>\n",
       "      <td>44.000000</td>\n",
       "      <td>41.000000</td>\n",
       "      <td>-6.818182</td>\n",
       "    </tr>\n",
       "    <tr>\n",
       "      <th>execution</th>\n",
       "      <td>3.000000</td>\n",
       "      <td>3.000000</td>\n",
       "      <td>0.000000</td>\n",
       "    </tr>\n",
       "    <tr>\n",
       "      <th>train_loss</th>\n",
       "      <td>0.170692</td>\n",
       "      <td>0.181405</td>\n",
       "      <td>6.276348</td>\n",
       "    </tr>\n",
       "    <tr>\n",
       "      <th>val_loss</th>\n",
       "      <td>0.280153</td>\n",
       "      <td>0.285902</td>\n",
       "      <td>2.052350</td>\n",
       "    </tr>\n",
       "    <tr>\n",
       "      <th>val_acc</th>\n",
       "      <td>0.904489</td>\n",
       "      <td>0.902278</td>\n",
       "      <td>-0.244460</td>\n",
       "    </tr>\n",
       "    <tr>\n",
       "      <th>time</th>\n",
       "      <td>13.671448</td>\n",
       "      <td>13.255686</td>\n",
       "      <td>-3.041102</td>\n",
       "    </tr>\n",
       "  </tbody>\n",
       "</table>\n",
       "</div>"
      ],
      "text/plain": [
       "            Não Diferenciáveis  Diferenciáveis  Diferença (%)\n",
       "epoch                44.000000       41.000000      -6.818182\n",
       "execution             3.000000        3.000000       0.000000\n",
       "train_loss            0.170692        0.181405       6.276348\n",
       "val_loss              0.280153        0.285902       2.052350\n",
       "val_acc               0.904489        0.902278      -0.244460\n",
       "time                 13.671448       13.255686      -3.041102"
      ]
     },
     "execution_count": 34,
     "metadata": {},
     "output_type": "execute_result"
    }
   ],
   "source": [
    "column_original = np.array([best_original.index[0]] + list(best_original.values[0]))[:6]\n",
    "column_diff = np.array([best_diff.index[0]] + list(best_diff.values[0]))[:6]\n",
    "column_difference = 100 * (column_diff - column_original) / column_original\n",
    "indexes = [\"epoch\"] + list(best_original)[:5]\n",
    "pd.DataFrame({\"Não Diferenciáveis\": column_original, \"Diferenciáveis\": column_diff, \"Diferença (%)\": column_difference}, index=indexes)"
   ]
  },
  {
   "cell_type": "code",
   "execution_count": 35,
   "metadata": {},
   "outputs": [
    {
     "data": {
      "text/plain": [
       "['execution',\n",
       " 'train_loss',\n",
       " 'val_loss',\n",
       " 'val_acc',\n",
       " 'time',\n",
       " 'zero_relu_call',\n",
       " 'total_relu_call',\n",
       " 'relu_proportion']"
      ]
     },
     "execution_count": 35,
     "metadata": {},
     "output_type": "execute_result"
    }
   ],
   "source": [
    "list(best_original)"
   ]
  },
  {
   "cell_type": "code",
   "execution_count": null,
   "metadata": {},
   "outputs": [],
   "source": []
  },
  {
   "cell_type": "code",
   "execution_count": null,
   "metadata": {},
   "outputs": [
    {
     "name": "stdout",
     "output_type": "stream",
     "text": [
      "Tempo de treino até melhor época (não diff): 590\n",
      "Tempo de treino até melhor época (diff): 557\n",
      "Diferença: -5.59%\n"
     ]
    }
   ],
   "source": [
    "    # tempo para chegar na melhor época\n",
    "    epoch_original = df_train_avg_original[df_train_avg_original[\"val_loss\"] == df_train_avg_original[\"val_loss\"].min()].index[0]\n",
    "    epoch_diff = df_train_avg_diff[df_train_avg_diff[\"val_loss\"] == df_train_avg_diff[\"val_loss\"].min()].index[0]\n",
    "\n",
    "    time_original = round(df_train_avg_original.head(epoch_original)[\"time\"].sum())\n",
    "    time_diff = round(df_train_avg_diff.head(epoch_diff)[\"time\"].sum())\n",
    "\n",
    "    #print(f\"Tempo de treino até melhor época (não diff): {time_original//60:02}:{time_original%60:02}\")\n",
    "    #print(f\"Tempo de treino até melhor época (diff): {time_diff//60:02}:{time_diff%60:02}\")\n",
    "    print(f\"Tempo de treino até melhor época (não diff): {time_original}\")\n",
    "    print(f\"Tempo de treino até melhor época (diff): {time_diff}\")\n",
    "    print(f\"Diferença: {round(100*(time_diff - time_original) / time_original, 2)}%\")"
   ]
  },
  {
   "cell_type": "markdown",
   "metadata": {},
   "source": [
    "## Avaliação nos dados de teste"
   ]
  },
  {
   "cell_type": "code",
   "execution_count": 37,
   "metadata": {},
   "outputs": [
    {
     "data": {
      "text/html": [
       "<div>\n",
       "<style scoped>\n",
       "    .dataframe tbody tr th:only-of-type {\n",
       "        vertical-align: middle;\n",
       "    }\n",
       "\n",
       "    .dataframe tbody tr th {\n",
       "        vertical-align: top;\n",
       "    }\n",
       "\n",
       "    .dataframe thead th {\n",
       "        text-align: right;\n",
       "    }\n",
       "</style>\n",
       "<table border=\"1\" class=\"dataframe\">\n",
       "  <thead>\n",
       "    <tr style=\"text-align: right;\">\n",
       "      <th></th>\n",
       "      <th>execution</th>\n",
       "      <th>epoch</th>\n",
       "      <th>train_loss</th>\n",
       "      <th>val_loss</th>\n",
       "      <th>val_acc</th>\n",
       "      <th>time</th>\n",
       "      <th>zero_relu_call</th>\n",
       "      <th>total_relu_call</th>\n",
       "    </tr>\n",
       "  </thead>\n",
       "  <tbody>\n",
       "    <tr>\n",
       "      <th>50</th>\n",
       "      <td>1</td>\n",
       "      <td>-1</td>\n",
       "      <td>NaN</td>\n",
       "      <td>0.308431</td>\n",
       "      <td>0.8963</td>\n",
       "      <td>1.670027</td>\n",
       "      <td>0</td>\n",
       "      <td>0</td>\n",
       "    </tr>\n",
       "    <tr>\n",
       "      <th>101</th>\n",
       "      <td>2</td>\n",
       "      <td>-1</td>\n",
       "      <td>NaN</td>\n",
       "      <td>0.328368</td>\n",
       "      <td>0.8962</td>\n",
       "      <td>1.728702</td>\n",
       "      <td>0</td>\n",
       "      <td>0</td>\n",
       "    </tr>\n",
       "    <tr>\n",
       "      <th>152</th>\n",
       "      <td>3</td>\n",
       "      <td>-1</td>\n",
       "      <td>NaN</td>\n",
       "      <td>0.317599</td>\n",
       "      <td>0.8979</td>\n",
       "      <td>1.687663</td>\n",
       "      <td>0</td>\n",
       "      <td>0</td>\n",
       "    </tr>\n",
       "    <tr>\n",
       "      <th>203</th>\n",
       "      <td>4</td>\n",
       "      <td>-1</td>\n",
       "      <td>NaN</td>\n",
       "      <td>0.325496</td>\n",
       "      <td>0.8958</td>\n",
       "      <td>1.878636</td>\n",
       "      <td>0</td>\n",
       "      <td>0</td>\n",
       "    </tr>\n",
       "    <tr>\n",
       "      <th>254</th>\n",
       "      <td>5</td>\n",
       "      <td>-1</td>\n",
       "      <td>NaN</td>\n",
       "      <td>0.316609</td>\n",
       "      <td>0.8993</td>\n",
       "      <td>1.927245</td>\n",
       "      <td>0</td>\n",
       "      <td>0</td>\n",
       "    </tr>\n",
       "  </tbody>\n",
       "</table>\n",
       "</div>"
      ],
      "text/plain": [
       "     execution  epoch  train_loss  val_loss  val_acc      time   \n",
       "50           1     -1         NaN  0.308431   0.8963  1.670027  \\\n",
       "101          2     -1         NaN  0.328368   0.8962  1.728702   \n",
       "152          3     -1         NaN  0.317599   0.8979  1.687663   \n",
       "203          4     -1         NaN  0.325496   0.8958  1.878636   \n",
       "254          5     -1         NaN  0.316609   0.8993  1.927245   \n",
       "\n",
       "     zero_relu_call  total_relu_call  \n",
       "50                0                0  \n",
       "101               0                0  \n",
       "152               0                0  \n",
       "203               0                0  \n",
       "254               0                0  "
      ]
     },
     "execution_count": 37,
     "metadata": {},
     "output_type": "execute_result"
    }
   ],
   "source": [
    "df_diff_test"
   ]
  },
  {
   "cell_type": "code",
   "execution_count": 38,
   "metadata": {},
   "outputs": [
    {
     "data": {
      "text/html": [
       "<div>\n",
       "<style scoped>\n",
       "    .dataframe tbody tr th:only-of-type {\n",
       "        vertical-align: middle;\n",
       "    }\n",
       "\n",
       "    .dataframe tbody tr th {\n",
       "        vertical-align: top;\n",
       "    }\n",
       "\n",
       "    .dataframe thead th {\n",
       "        text-align: right;\n",
       "    }\n",
       "</style>\n",
       "<table border=\"1\" class=\"dataframe\">\n",
       "  <thead>\n",
       "    <tr style=\"text-align: right;\">\n",
       "      <th></th>\n",
       "      <th>execution</th>\n",
       "      <th>epoch</th>\n",
       "      <th>train_loss</th>\n",
       "      <th>val_loss</th>\n",
       "      <th>val_acc</th>\n",
       "      <th>time</th>\n",
       "      <th>zero_relu_call</th>\n",
       "      <th>total_relu_call</th>\n",
       "    </tr>\n",
       "  </thead>\n",
       "  <tbody>\n",
       "    <tr>\n",
       "      <th>50</th>\n",
       "      <td>1</td>\n",
       "      <td>-1</td>\n",
       "      <td>NaN</td>\n",
       "      <td>0.300122</td>\n",
       "      <td>0.8989</td>\n",
       "      <td>1.674070</td>\n",
       "      <td>0</td>\n",
       "      <td>0</td>\n",
       "    </tr>\n",
       "    <tr>\n",
       "      <th>101</th>\n",
       "      <td>2</td>\n",
       "      <td>-1</td>\n",
       "      <td>NaN</td>\n",
       "      <td>0.304217</td>\n",
       "      <td>0.9021</td>\n",
       "      <td>1.679343</td>\n",
       "      <td>0</td>\n",
       "      <td>0</td>\n",
       "    </tr>\n",
       "    <tr>\n",
       "      <th>152</th>\n",
       "      <td>3</td>\n",
       "      <td>-1</td>\n",
       "      <td>NaN</td>\n",
       "      <td>0.299799</td>\n",
       "      <td>0.8984</td>\n",
       "      <td>1.913525</td>\n",
       "      <td>0</td>\n",
       "      <td>0</td>\n",
       "    </tr>\n",
       "    <tr>\n",
       "      <th>203</th>\n",
       "      <td>4</td>\n",
       "      <td>-1</td>\n",
       "      <td>NaN</td>\n",
       "      <td>0.302899</td>\n",
       "      <td>0.8994</td>\n",
       "      <td>1.915184</td>\n",
       "      <td>0</td>\n",
       "      <td>0</td>\n",
       "    </tr>\n",
       "    <tr>\n",
       "      <th>254</th>\n",
       "      <td>5</td>\n",
       "      <td>-1</td>\n",
       "      <td>NaN</td>\n",
       "      <td>0.327480</td>\n",
       "      <td>0.8975</td>\n",
       "      <td>1.685238</td>\n",
       "      <td>0</td>\n",
       "      <td>0</td>\n",
       "    </tr>\n",
       "  </tbody>\n",
       "</table>\n",
       "</div>"
      ],
      "text/plain": [
       "     execution  epoch  train_loss  val_loss  val_acc      time   \n",
       "50           1     -1         NaN  0.300122   0.8989  1.674070  \\\n",
       "101          2     -1         NaN  0.304217   0.9021  1.679343   \n",
       "152          3     -1         NaN  0.299799   0.8984  1.913525   \n",
       "203          4     -1         NaN  0.302899   0.8994  1.915184   \n",
       "254          5     -1         NaN  0.327480   0.8975  1.685238   \n",
       "\n",
       "     zero_relu_call  total_relu_call  \n",
       "50                0                0  \n",
       "101               0                0  \n",
       "152               0                0  \n",
       "203               0                0  \n",
       "254               0                0  "
      ]
     },
     "execution_count": 38,
     "metadata": {},
     "output_type": "execute_result"
    }
   ],
   "source": [
    "df_original_test"
   ]
  },
  {
   "cell_type": "code",
   "execution_count": 39,
   "metadata": {},
   "outputs": [
    {
     "name": "stdout",
     "output_type": "stream",
     "text": [
      "Tempo Diferenciáveis: 1.7784544467926025 seg\n",
      "Tempo Não-diferenciáveis: 1.7734719276428224 seg\n",
      "Diferenciáveis são 0.28% mais lentas\n"
     ]
    }
   ],
   "source": [
    "# prediction time\n",
    "diff_time = df_diff_test[\"time\"].mean()\n",
    "original_time = df_original_test[\"time\"].mean()\n",
    "diff = (diff_time - original_time) / original_time\n",
    "print(f\"Tempo Diferenciáveis: {diff_time} seg\")\n",
    "print(f\"Tempo Não-diferenciáveis: {original_time} seg\")\n",
    "print(f\"Diferenciáveis são {round(100*diff, 2)}% mais lentas\")"
   ]
  },
  {
   "cell_type": "code",
   "execution_count": 40,
   "metadata": {},
   "outputs": [
    {
     "name": "stdout",
     "output_type": "stream",
     "text": [
      "Loss Diferenciáveis: 0.3193008476495743\n",
      "Loss Não-diferenciáveis: 0.3069032913446426\n",
      "Diferenciáveis são 4.04% piores\n"
     ]
    }
   ],
   "source": [
    "# loss\n",
    "diff_loss = df_diff_test[\"val_loss\"].mean()\n",
    "original_loss = df_original_test[\"val_loss\"].mean()\n",
    "diff = (diff_loss - original_loss) / original_loss\n",
    "print(f\"Loss Diferenciáveis: {diff_loss}\")\n",
    "print(f\"Loss Não-diferenciáveis: {original_loss}\")\n",
    "print(f\"Diferenciáveis são {round(100*diff, 2)}% piores\")"
   ]
  },
  {
   "cell_type": "code",
   "execution_count": 41,
   "metadata": {},
   "outputs": [
    {
     "name": "stdout",
     "output_type": "stream",
     "text": [
      "Acurácia Diferenciáveis: 0.8971 seg\n",
      "Acurácia Não-diferenciáveis: 0.89926 seg\n",
      "Acurácia das diferenciáveis é 0.24% menor\n"
     ]
    }
   ],
   "source": [
    "# acc\n",
    "diff_acc = df_diff_test[\"val_acc\"].mean()\n",
    "original_acc = df_original_test[\"val_acc\"].mean()\n",
    "diff = (diff_acc - original_acc) / original_acc\n",
    "print(f\"Acurácia Diferenciáveis: {diff_acc} seg\")\n",
    "print(f\"Acurácia Não-diferenciáveis: {original_acc} seg\")\n",
    "if diff < 0:\n",
    "    print(f\"Acurácia das diferenciáveis é {-round(100*diff, 2)}% menor\")\n",
    "else:\n",
    "    print(f\"Acurácia das diferenciáveis é {round(100*diff, 2)}% maior\")"
   ]
  },
  {
   "cell_type": "code",
   "execution_count": null,
   "metadata": {},
   "outputs": [],
   "source": []
  }
 ],
 "metadata": {
  "kernelspec": {
   "display_name": "Python 3",
   "language": "python",
   "name": "python3"
  },
  "language_info": {
   "codemirror_mode": {
    "name": "ipython",
    "version": 3
   },
   "file_extension": ".py",
   "mimetype": "text/x-python",
   "name": "python",
   "nbconvert_exporter": "python",
   "pygments_lexer": "ipython3",
   "version": "3.10.12"
  }
 },
 "nbformat": 4,
 "nbformat_minor": 2
}
